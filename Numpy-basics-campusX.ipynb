{
 "cells": [
  {
   "cell_type": "code",
   "execution_count": 1,
   "metadata": {
    "executionInfo": {
     "elapsed": 2,
     "status": "ok",
     "timestamp": 1713674158985,
     "user": {
      "displayName": "subena khatun",
      "userId": "16710034321048933921"
     },
     "user_tz": -360
    },
    "id": "S5cqS30VgzRi"
   },
   "outputs": [],
   "source": [
    "# import numpy\n",
    "import numpy as np"
   ]
  },
  {
   "cell_type": "markdown",
   "metadata": {
    "id": "iTb8h-HDhUD3"
   },
   "source": [
    "### What is numpy?\n",
    "\n",
    "NumPy is the fundamental package for scientific computing in Python. It is a Python library that provides a multidimensional array object, various derived objects (such as masked arrays and matrices), and an assortment of routines for fast operations on arrays, including mathematical, logical, shape manipulation, sorting, selecting, I/O, discrete Fourier transforms, basic linear algebra, basic statistical operations, random simulation and much more.\n",
    "\n",
    "\n",
    "At the core of the NumPy package, is the ndarray object. This encapsulates n-dimensional arrays of homogeneous data types"
   ]
  },
  {
   "cell_type": "markdown",
   "metadata": {
    "id": "LOHFBOEIhZD-"
   },
   "source": [
    "### Numpy Arrays Vs Python Sequences\n",
    "\n",
    "- NumPy arrays have a fixed size at creation, unlike Python lists (which can grow dynamically). Changing the size of an ndarray will create a new array and delete the original.\n",
    "\n",
    "- The elements in a NumPy array are all required to be of the same data type, and thus will be the same size in memory.\n",
    "\n",
    "- NumPy arrays facilitate advanced mathematical and other types of operations on large numbers of data. Typically, such operations are executed more efficiently and with less code than is possible using Python’s built-in sequences.\n",
    "\n",
    "- A growing plethora of scientific and mathematical Python-based packages are using NumPy arrays; though these typically support Python-sequence input, they convert such input to NumPy arrays prior to processing, and they often output NumPy arrays."
   ]
  },
  {
   "cell_type": "markdown",
   "metadata": {
    "id": "aYwr6E77hbk-"
   },
   "source": [
    "### Creating Numpy Arrays"
   ]
  },
  {
   "cell_type": "code",
   "execution_count": 2,
   "metadata": {
    "colab": {
     "base_uri": "https://localhost:8080/"
    },
    "executionInfo": {
     "elapsed": 5,
     "status": "ok",
     "timestamp": 1713674163004,
     "user": {
      "displayName": "subena khatun",
      "userId": "16710034321048933921"
     },
     "user_tz": -360
    },
    "id": "GWApcqb4hIGe",
    "outputId": "860b3549-1cfd-4e26-ba58-956a297d97ad"
   },
   "outputs": [
    {
     "data": {
      "text/plain": [
       "array([1, 4, 6, 7, 8])"
      ]
     },
     "execution_count": 2,
     "metadata": {},
     "output_type": "execute_result"
    }
   ],
   "source": [
    "# create a numpy array np.arrar(anylist/any data/any list/any tuple/any dicti)\n",
    "# create an simple list\n",
    "arr = np.array([1,4,6,7,8])\n",
    "arr"
   ]
  },
  {
   "cell_type": "code",
   "execution_count": 3,
   "metadata": {
    "colab": {
     "base_uri": "https://localhost:8080/"
    },
    "executionInfo": {
     "elapsed": 3,
     "status": "ok",
     "timestamp": 1713674163650,
     "user": {
      "displayName": "subena khatun",
      "userId": "16710034321048933921"
     },
     "user_tz": -360
    },
    "id": "xGORpLn5hzFW",
    "outputId": "4cf6d51f-01a6-43f7-dcdb-e4ddc6650989"
   },
   "outputs": [
    {
     "data": {
      "text/plain": [
       "numpy.ndarray"
      ]
     },
     "execution_count": 3,
     "metadata": {},
     "output_type": "execute_result"
    }
   ],
   "source": [
    "# check data type . dtype(arrayname)\n",
    "type(arr)"
   ]
  },
  {
   "cell_type": "markdown",
   "metadata": {
    "id": "oMcgQN6NkD6F"
   },
   "source": [
    "### 1) Converting Python sequences to NumPy Arrays"
   ]
  },
  {
   "cell_type": "code",
   "execution_count": 4,
   "metadata": {
    "colab": {
     "base_uri": "https://localhost:8080/"
    },
    "executionInfo": {
     "elapsed": 2,
     "status": "ok",
     "timestamp": 1713674164722,
     "user": {
      "displayName": "subena khatun",
      "userId": "16710034321048933921"
     },
     "user_tz": -360
    },
    "id": "uNJcutb0h6C8",
    "outputId": "b1732794-a0d8-4006-f1d7-529f345400c9"
   },
   "outputs": [
    {
     "data": {
      "text/plain": [
       "array([ 8,  6,  7, 25, 89, 13])"
      ]
     },
     "execution_count": 4,
     "metadata": {},
     "output_type": "execute_result"
    }
   ],
   "source": [
    "# 1D array as like list\n",
    "# 2D array , 2 rows\n",
    "# 3D array , 3 rows\n",
    "\n",
    "# create 1 D array\n",
    "a1 = np.array([8,6,7,25,89,13])\n",
    "a1"
   ]
  },
  {
   "cell_type": "code",
   "execution_count": 5,
   "metadata": {
    "colab": {
     "base_uri": "https://localhost:8080/"
    },
    "executionInfo": {
     "elapsed": 3,
     "status": "ok",
     "timestamp": 1713674165222,
     "user": {
      "displayName": "subena khatun",
      "userId": "16710034321048933921"
     },
     "user_tz": -360
    },
    "id": "u8zLdkNWiX0N",
    "outputId": "f77d55b7-8d4a-4d9f-b4f3-4a7be32345f2"
   },
   "outputs": [
    {
     "data": {
      "text/plain": [
       "array([[ 4,  6,  8, 10],\n",
       "       [ 3,  5,  7,  9]])"
      ]
     },
     "execution_count": 5,
     "metadata": {},
     "output_type": "execute_result"
    }
   ],
   "source": [
    "# Create 2D array\n",
    "a2 = np.array([[4,6,8,10],[3,5,7,9]])\n",
    "a2"
   ]
  },
  {
   "cell_type": "code",
   "execution_count": 6,
   "metadata": {
    "colab": {
     "base_uri": "https://localhost:8080/"
    },
    "executionInfo": {
     "elapsed": 2,
     "status": "ok",
     "timestamp": 1713674165785,
     "user": {
      "displayName": "subena khatun",
      "userId": "16710034321048933921"
     },
     "user_tz": -360
    },
    "id": "dHtLsEW5iiwL",
    "outputId": "41d9599c-134a-47a2-f8a0-6171db69d4be"
   },
   "outputs": [
    {
     "data": {
      "text/plain": [
       "array([[[12, 13, 14],\n",
       "        [34, 45, 46]],\n",
       "\n",
       "       [[45, 56,  7],\n",
       "        [45,  6,  8]]])"
      ]
     },
     "execution_count": 6,
     "metadata": {},
     "output_type": "execute_result"
    }
   ],
   "source": [
    "# Create 3D array 2*3 , 2 row 3 col\n",
    "a3 = np.array([[[12,13,14],[34,45,46]],[[45,56,7],[45,6,8]]])\n",
    "a3"
   ]
  },
  {
   "cell_type": "markdown",
   "metadata": {
    "id": "P8AdAfkjkMd9"
   },
   "source": [
    "#### Numpy array default dtype int64. if i want to change it into int32 or float then must be idetify it."
   ]
  },
  {
   "cell_type": "code",
   "execution_count": 7,
   "metadata": {
    "colab": {
     "base_uri": "https://localhost:8080/"
    },
    "executionInfo": {
     "elapsed": 9,
     "status": "ok",
     "timestamp": 1713674167124,
     "user": {
      "displayName": "subena khatun",
      "userId": "16710034321048933921"
     },
     "user_tz": -360
    },
    "id": "hwiyDO8ujpcV",
    "outputId": "0b76290e-26e9-4148-9c65-331ebf34ea8f"
   },
   "outputs": [
    {
     "data": {
      "text/plain": [
       "array([4, 6, 7, 3, 4], dtype=int8)"
      ]
     },
     "execution_count": 7,
     "metadata": {},
     "output_type": "execute_result"
    }
   ],
   "source": [
    "a4 = np.array([4,6,7,3.6,4.90], dtype= np.int8)\n",
    "a4"
   ]
  },
  {
   "cell_type": "code",
   "execution_count": 8,
   "metadata": {
    "colab": {
     "base_uri": "https://localhost:8080/"
    },
    "executionInfo": {
     "elapsed": 2,
     "status": "ok",
     "timestamp": 1713674167751,
     "user": {
      "displayName": "subena khatun",
      "userId": "16710034321048933921"
     },
     "user_tz": -360
    },
    "id": "KwmaLaMMkmA9",
    "outputId": "1c0db407-fa51-4408-d92e-da9188313f07"
   },
   "outputs": [
    {
     "data": {
      "text/plain": [
       "array([3., 5., 6., 7., 8.])"
      ]
     },
     "execution_count": 8,
     "metadata": {},
     "output_type": "execute_result"
    }
   ],
   "source": [
    "a5 = np.array([3,5,6,7,8], dtype=float)\n",
    "a5"
   ]
  },
  {
   "cell_type": "markdown",
   "metadata": {
    "id": "9wqwc4Lpk94U"
   },
   "source": [
    "### 2) Intrinsic NumPy array creation functions\n",
    "\n",
    "NumPy has over 40 built-in functions for creating arrays as laid out in the Array creation routines. These functions can be split into roughly three categories, based on the dimension of the array they create:\n",
    "\n",
    "1D arrays\n",
    "\n",
    "2D arrays\n",
    "\n",
    "ndarrays"
   ]
  },
  {
   "cell_type": "markdown",
   "metadata": {
    "id": "yJ_pUrkFlGx7"
   },
   "source": [
    "### 1 - 1D array creation functions\n",
    "The 1D array creation functions e.g. numpy.linspace and numpy.arange generally need at least two inputs, start and stop."
   ]
  },
  {
   "cell_type": "code",
   "execution_count": 9,
   "metadata": {
    "colab": {
     "base_uri": "https://localhost:8080/"
    },
    "executionInfo": {
     "elapsed": 10,
     "status": "ok",
     "timestamp": 1713674169289,
     "user": {
      "displayName": "subena khatun",
      "userId": "16710034321048933921"
     },
     "user_tz": -360
    },
    "id": "K7iaPQ11kyQC",
    "outputId": "c0cf4c62-a9ee-44fc-ead8-f985542cd21f"
   },
   "outputs": [
    {
     "data": {
      "text/plain": [
       "array([0, 1, 2, 3, 4, 5, 6, 7, 8, 9])"
      ]
     },
     "execution_count": 9,
     "metadata": {},
     "output_type": "execute_result"
    }
   ],
   "source": [
    "# arrange(start,end,step,dtype=np.any)\n",
    "# create a 1D array usings arange()\n",
    "a = np.arange(10)\n",
    "a"
   ]
  },
  {
   "cell_type": "code",
   "execution_count": 10,
   "metadata": {
    "colab": {
     "base_uri": "https://localhost:8080/"
    },
    "executionInfo": {
     "elapsed": 4,
     "status": "ok",
     "timestamp": 1713674169829,
     "user": {
      "displayName": "subena khatun",
      "userId": "16710034321048933921"
     },
     "user_tz": -360
    },
    "id": "UdJxXuODmn5K",
    "outputId": "e15ef272-24bb-4fcf-ed35-032afdd74855"
   },
   "outputs": [
    {
     "data": {
      "text/plain": [
       "array([ 2.,  4.,  6.,  8., 10.], dtype=float32)"
      ]
     },
     "execution_count": 10,
     "metadata": {},
     "output_type": "execute_result"
    }
   ],
   "source": [
    "# create a 1D array which start form 2 and end 11 and step will be 2\n",
    "a1 = np.arange(2,11,2,dtype=np.float32)\n",
    "a1"
   ]
  },
  {
   "cell_type": "code",
   "execution_count": 11,
   "metadata": {
    "colab": {
     "base_uri": "https://localhost:8080/"
    },
    "executionInfo": {
     "elapsed": 3,
     "status": "ok",
     "timestamp": 1713674231535,
     "user": {
      "displayName": "subena khatun",
      "userId": "16710034321048933921"
     },
     "user_tz": -360
    },
    "id": "YUiDZSvsnZxU",
    "outputId": "1df8dcaf-4d00-49ac-a817-aa645af656fe"
   },
   "outputs": [
    {
     "data": {
      "text/plain": [
       "array([[0, 1, 2],\n",
       "       [3, 4, 5],\n",
       "       [6, 7, 8]])"
      ]
     },
     "execution_count": 11,
     "metadata": {},
     "output_type": "execute_result"
    }
   ],
   "source": [
    "# reshape--- can convert array different rows and columns shape\n",
    "# if i want 3 rows and 2 cols then\n",
    "\n",
    "a2 = np.arange(9).reshape((3,3))\n",
    "a2"
   ]
  },
  {
   "cell_type": "markdown",
   "metadata": {
    "id": "xomiMFHt8xDv"
   },
   "source": [
    "####  numpy.linspace\n",
    "numpy.linspace(start, stop, num=50, endpoint=True, retstep=False, dtype=None, axis=0)"
   ]
  },
  {
   "cell_type": "code",
   "execution_count": 12,
   "metadata": {
    "colab": {
     "base_uri": "https://localhost:8080/"
    },
    "executionInfo": {
     "elapsed": 494,
     "status": "ok",
     "timestamp": 1713675075228,
     "user": {
      "displayName": "subena khatun",
      "userId": "16710034321048933921"
     },
     "user_tz": -360
    },
    "id": "efNMxfiH78-l",
    "outputId": "41599310-de4e-40b1-aa84-a54f32521d17"
   },
   "outputs": [
    {
     "data": {
      "text/plain": [
       "array([ 2.        ,  2.61538462,  3.23076923,  3.84615385,  4.46153846,\n",
       "        5.07692308,  5.69230769,  6.30769231,  6.92307692,  7.53846154,\n",
       "        8.15384615,  8.76923077,  9.38461538, 10.        ])"
      ]
     },
     "execution_count": 12,
     "metadata": {},
     "output_type": "execute_result"
    }
   ],
   "source": [
    "#  np.linespace\n",
    "# create an array start from 2 and end 10 , step 3\n",
    "a3 = np.linspace(2, 10, num=14, endpoint=True)\n",
    "a3"
   ]
  },
  {
   "cell_type": "code",
   "execution_count": 13,
   "metadata": {
    "colab": {
     "base_uri": "https://localhost:8080/"
    },
    "executionInfo": {
     "elapsed": 450,
     "status": "ok",
     "timestamp": 1713675142061,
     "user": {
      "displayName": "subena khatun",
      "userId": "16710034321048933921"
     },
     "user_tz": -360
    },
    "id": "inrm2zx7_XrV",
    "outputId": "6684e3d3-b87f-42df-f2dc-f0871e0d2a78"
   },
   "outputs": [
    {
     "data": {
      "text/plain": [
       "(array([2.  , 2.25, 2.5 , 2.75, 3.  ]), 0.25)"
      ]
     },
     "execution_count": 13,
     "metadata": {},
     "output_type": "execute_result"
    }
   ],
   "source": [
    "np.linspace(2.0, 3.0, num=5, retstep=True)"
   ]
  },
  {
   "cell_type": "code",
   "execution_count": 14,
   "metadata": {
    "colab": {
     "base_uri": "https://localhost:8080/"
    },
    "executionInfo": {
     "elapsed": 4,
     "status": "ok",
     "timestamp": 1713675161307,
     "user": {
      "displayName": "subena khatun",
      "userId": "16710034321048933921"
     },
     "user_tz": -360
    },
    "id": "WPScOsf5_321",
    "outputId": "a8ad3569-13b0-4c1f-d372-6bd268c940c8"
   },
   "outputs": [
    {
     "data": {
      "text/plain": [
       "(array([2.  , 2.25, 2.5 , 2.75, 3.  ]), 0.25)"
      ]
     },
     "execution_count": 14,
     "metadata": {},
     "output_type": "execute_result"
    }
   ],
   "source": [
    "np.linspace(2.0, 3.0, num=5, retstep=True)"
   ]
  },
  {
   "cell_type": "code",
   "execution_count": 15,
   "metadata": {
    "colab": {
     "base_uri": "https://localhost:8080/"
    },
    "executionInfo": {
     "elapsed": 4,
     "status": "ok",
     "timestamp": 1713675257282,
     "user": {
      "displayName": "subena khatun",
      "userId": "16710034321048933921"
     },
     "user_tz": -360
    },
    "id": "DUXBESjH_8n1",
    "outputId": "210652c9-4949-451c-a04b-48413f04097d"
   },
   "outputs": [
    {
     "data": {
      "text/plain": [
       "array([[7.16866224e-312, 2.47032823e-322, 0.00000000e+000,\n",
       "        0.00000000e+000],\n",
       "       [1.11260619e-306, 6.82116729e-043, 5.25254645e-090,\n",
       "        3.37796300e-057],\n",
       "       [5.41991786e-067, 1.82878453e+184, 3.99910963e+252,\n",
       "        4.27632321e-033]])"
      ]
     },
     "execution_count": 15,
     "metadata": {},
     "output_type": "execute_result"
    }
   ],
   "source": [
    "# empty([]) with shape. 3 rows 4 cols\n",
    "np.empty([3,4])"
   ]
  },
  {
   "cell_type": "markdown",
   "metadata": {
    "id": "YNuQVplPAn4W"
   },
   "source": [
    "###  eye\n",
    "numpy.eye(N, M=None, k=0, dtype=<class 'float'>, order='C', *, like=None) <br>\n",
    "Return a 2-D array with ones on the diagonal and zeros elsewhere"
   ]
  },
  {
   "cell_type": "code",
   "execution_count": 16,
   "metadata": {
    "colab": {
     "base_uri": "https://localhost:8080/"
    },
    "executionInfo": {
     "elapsed": 5,
     "status": "ok",
     "timestamp": 1713675470945,
     "user": {
      "displayName": "subena khatun",
      "userId": "16710034321048933921"
     },
     "user_tz": -360
    },
    "id": "NUUrBen7AUJG",
    "outputId": "3e4ce43a-13c2-4e61-c6a6-5eceb145726e"
   },
   "outputs": [
    {
     "data": {
      "text/plain": [
       "array([[1., 0., 0.],\n",
       "       [0., 1., 0.],\n",
       "       [0., 0., 1.]])"
      ]
     },
     "execution_count": 16,
     "metadata": {},
     "output_type": "execute_result"
    }
   ],
   "source": [
    "# n -- number of rows, M-- number of cols\n",
    "# diagonal matrics\n",
    "np.eye(3,3)"
   ]
  },
  {
   "cell_type": "markdown",
   "metadata": {
    "id": "9YRgfTpRBoCS"
   },
   "source": [
    "### numpy.identity\n",
    "numpy.identity(n, dtype=None, *, like=None) <br>\n",
    "\n",
    "The identity array is a square array with ones on the main diagonal."
   ]
  },
  {
   "cell_type": "code",
   "execution_count": 17,
   "metadata": {
    "colab": {
     "base_uri": "https://localhost:8080/"
    },
    "executionInfo": {
     "elapsed": 3,
     "status": "ok",
     "timestamp": 1713675660881,
     "user": {
      "displayName": "subena khatun",
      "userId": "16710034321048933921"
     },
     "user_tz": -360
    },
    "id": "NiexOKxlA-v0",
    "outputId": "0065791c-0ef9-4d37-c29c-95f0caf5d183"
   },
   "outputs": [
    {
     "data": {
      "text/plain": [
       "array([[1., 0., 0.],\n",
       "       [0., 1., 0.],\n",
       "       [0., 0., 1.]])"
      ]
     },
     "execution_count": 17,
     "metadata": {},
     "output_type": "execute_result"
    }
   ],
   "source": [
    "# same as eye just different no need to specify rows and cols\n",
    "np.identity(3)"
   ]
  },
  {
   "cell_type": "markdown",
   "metadata": {
    "id": "juSYasYxCMc4"
   },
   "source": [
    "### numpy.ones\n",
    "numpy.ones(shape, dtype=None, order='C', *, like=None)<br>\n",
    "Return a new array of given shape and type, filled with ones."
   ]
  },
  {
   "cell_type": "code",
   "execution_count": 18,
   "metadata": {
    "colab": {
     "base_uri": "https://localhost:8080/"
    },
    "executionInfo": {
     "elapsed": 5,
     "status": "ok",
     "timestamp": 1713675769037,
     "user": {
      "displayName": "subena khatun",
      "userId": "16710034321048933921"
     },
     "user_tz": -360
    },
    "id": "eGn9UxpGBzoO",
    "outputId": "15cba0cb-d1ff-4f36-9a24-05f9b84e97f9"
   },
   "outputs": [
    {
     "ename": "TypeError",
     "evalue": "ones() missing 1 required positional argument: 'shape'",
     "output_type": "error",
     "traceback": [
      "\u001b[1;31m---------------------------------------------------------------------------\u001b[0m",
      "\u001b[1;31mTypeError\u001b[0m                                 Traceback (most recent call last)",
      "Cell \u001b[1;32mIn[18], line 1\u001b[0m\n\u001b[1;32m----> 1\u001b[0m np\u001b[38;5;241m.\u001b[39mones()\n",
      "\u001b[1;31mTypeError\u001b[0m: ones() missing 1 required positional argument: 'shape'"
     ]
    }
   ],
   "source": [
    "np.ones()"
   ]
  },
  {
   "cell_type": "code",
   "execution_count": 22,
   "metadata": {
    "colab": {
     "base_uri": "https://localhost:8080/"
    },
    "executionInfo": {
     "elapsed": 4,
     "status": "ok",
     "timestamp": 1713675823893,
     "user": {
      "displayName": "subena khatun",
      "userId": "16710034321048933921"
     },
     "user_tz": -360
    },
    "id": "x9TK3xbWCRAl",
    "outputId": "36312c1f-3d2d-48de-f984-1007ca9e0269"
   },
   "outputs": [
    {
     "data": {
      "text/plain": [
       "array([[1, 1, 1, 1, 1],\n",
       "       [1, 1, 1, 1, 1],\n",
       "       [1, 1, 1, 1, 1]])"
      ]
     },
     "execution_count": 22,
     "metadata": {},
     "output_type": "execute_result"
    }
   ],
   "source": [
    "np.ones((3,5), dtype=int)"
   ]
  },
  {
   "cell_type": "code",
   "execution_count": 19,
   "metadata": {
    "colab": {
     "base_uri": "https://localhost:8080/"
    },
    "executionInfo": {
     "elapsed": 434,
     "status": "ok",
     "timestamp": 1713675940660,
     "user": {
      "displayName": "subena khatun",
      "userId": "16710034321048933921"
     },
     "user_tz": -360
    },
    "id": "Js0_rtJGCZmj",
    "outputId": "5bef16f4-7a70-4591-f99d-2570b5f2f56a"
   },
   "outputs": [
    {
     "data": {
      "text/plain": [
       "array([[1, 1, 1],\n",
       "       [1, 1, 1]])"
      ]
     },
     "execution_count": 19,
     "metadata": {},
     "output_type": "execute_result"
    }
   ],
   "source": [
    "# convert any array into ones array using ones_like()\n",
    "x = np.arange(6).reshape(2,3)\n",
    "np.ones_like(x)"
   ]
  },
  {
   "cell_type": "code",
   "execution_count": 20,
   "metadata": {
    "colab": {
     "base_uri": "https://localhost:8080/"
    },
    "executionInfo": {
     "elapsed": 4,
     "status": "ok",
     "timestamp": 1713675977426,
     "user": {
      "displayName": "subena khatun",
      "userId": "16710034321048933921"
     },
     "user_tz": -360
    },
    "id": "bV7_1X1qCx-T",
    "outputId": "ce964490-a8f3-4baf-ac84-e350b001fdeb"
   },
   "outputs": [
    {
     "data": {
      "text/plain": [
       "array([1, 1, 1, 1, 1, 1, 1, 1, 1, 1])"
      ]
     },
     "execution_count": 20,
     "metadata": {},
     "output_type": "execute_result"
    }
   ],
   "source": [
    "y = np.arange(10)\n",
    "np.ones_like(y)"
   ]
  },
  {
   "cell_type": "code",
   "execution_count": 21,
   "metadata": {
    "colab": {
     "base_uri": "https://localhost:8080/"
    },
    "executionInfo": {
     "elapsed": 4,
     "status": "ok",
     "timestamp": 1713677501110,
     "user": {
      "displayName": "subena khatun",
      "userId": "16710034321048933921"
     },
     "user_tz": -360
    },
    "id": "_36_DekFDD-c",
    "outputId": "08e4ff57-28bd-4c96-a5f0-f899053aa238"
   },
   "outputs": [
    {
     "data": {
      "text/plain": [
       "array([[0, 1, 2],\n",
       "       [3, 4, 5],\n",
       "       [6, 7, 8]])"
      ]
     },
     "execution_count": 21,
     "metadata": {},
     "output_type": "execute_result"
    }
   ],
   "source": [
    "z = np.arange(9).reshape((3,3))\n",
    "z"
   ]
  },
  {
   "cell_type": "code",
   "execution_count": 23,
   "metadata": {
    "colab": {
     "base_uri": "https://localhost:8080/"
    },
    "executionInfo": {
     "elapsed": 4,
     "status": "ok",
     "timestamp": 1713677688301,
     "user": {
      "displayName": "subena khatun",
      "userId": "16710034321048933921"
     },
     "user_tz": -360
    },
    "id": "VSxPZ9mEDmA9",
    "outputId": "897106e2-2f5e-471e-aa3a-5df47c290554"
   },
   "outputs": [
    {
     "data": {
      "text/plain": [
       "array([[1, 1, 1],\n",
       "       [1, 1, 1],\n",
       "       [1, 1, 1]])"
      ]
     },
     "execution_count": 23,
     "metadata": {},
     "output_type": "execute_result"
    }
   ],
   "source": [
    "np.ones_like(z)"
   ]
  },
  {
   "cell_type": "markdown",
   "metadata": {
    "id": "YYE11I_qKhRb"
   },
   "source": [
    "### numpy.zeros\n",
    "numpy.zeros(shape, dtype=float, order='C', *, like=None) <br>\n",
    "Return a new array of given shape and type, filled with zeros."
   ]
  },
  {
   "cell_type": "code",
   "execution_count": 24,
   "metadata": {
    "colab": {
     "base_uri": "https://localhost:8080/"
    },
    "executionInfo": {
     "elapsed": 3,
     "status": "ok",
     "timestamp": 1713677969389,
     "user": {
      "displayName": "subena khatun",
      "userId": "16710034321048933921"
     },
     "user_tz": -360
    },
    "id": "DUY4f713JleE",
    "outputId": "d40fd3d6-a81f-48df-84d9-5d4c49f26f2f"
   },
   "outputs": [
    {
     "data": {
      "text/plain": [
       "array([[0, 0, 0],\n",
       "       [0, 0, 0],\n",
       "       [0, 0, 0]])"
      ]
     },
     "execution_count": 24,
     "metadata": {},
     "output_type": "execute_result"
    }
   ],
   "source": [
    "np.zeros_like(z)"
   ]
  },
  {
   "cell_type": "code",
   "execution_count": 25,
   "metadata": {
    "colab": {
     "base_uri": "https://localhost:8080/"
    },
    "executionInfo": {
     "elapsed": 4,
     "status": "ok",
     "timestamp": 1713678310069,
     "user": {
      "displayName": "subena khatun",
      "userId": "16710034321048933921"
     },
     "user_tz": -360
    },
    "id": "TtEsCOM4KqAq",
    "outputId": "a9bc9977-e772-403b-a860-90a36bed445c"
   },
   "outputs": [
    {
     "data": {
      "text/plain": [
       "array([[0., 0., 0., 0., 0., 0.],\n",
       "       [0., 0., 0., 0., 0., 0.],\n",
       "       [0., 0., 0., 0., 0., 0.],\n",
       "       [0., 0., 0., 0., 0., 0.]])"
      ]
     },
     "execution_count": 25,
     "metadata": {},
     "output_type": "execute_result"
    }
   ],
   "source": [
    "# create a zero matrics\n",
    "# 4 rows and 6 cols\n",
    "np.zeros((4,6))"
   ]
  },
  {
   "cell_type": "markdown",
   "metadata": {
    "id": "DANivkQUPRJF"
   },
   "source": [
    "### numpy.full\n",
    "numpy.full(shape, fill_value, dtype=None, order='C', *, like=None)<br>\n",
    "Return a new array of given shape and type, filled with fill_value."
   ]
  },
  {
   "cell_type": "code",
   "execution_count": 26,
   "metadata": {
    "colab": {
     "base_uri": "https://localhost:8080/"
    },
    "executionInfo": {
     "elapsed": 4,
     "status": "ok",
     "timestamp": 1713679225556,
     "user": {
      "displayName": "subena khatun",
      "userId": "16710034321048933921"
     },
     "user_tz": -360
    },
    "id": "YnjAUVFNL3ES",
    "outputId": "238c2144-126a-4af1-fcfd-bd66f18f4d37"
   },
   "outputs": [
    {
     "data": {
      "text/plain": [
       "array([2, 2, 2])"
      ]
     },
     "execution_count": 26,
     "metadata": {},
     "output_type": "execute_result"
    }
   ],
   "source": [
    "# Create an 1d array with fill value\n",
    "np.full(3,2)"
   ]
  },
  {
   "cell_type": "markdown",
   "metadata": {
    "id": "LqNwrWB_QD89"
   },
   "source": [
    "## numpy.full_like\n",
    "numpy.full_like(a, fill_value, dtype=None, order='K', subok=True, shape=None) <br>\n",
    "Return a full array with the same shape and type as a given array."
   ]
  },
  {
   "cell_type": "code",
   "execution_count": 27,
   "metadata": {
    "colab": {
     "base_uri": "https://localhost:8080/"
    },
    "executionInfo": {
     "elapsed": 3,
     "status": "ok",
     "timestamp": 1713679410943,
     "user": {
      "displayName": "subena khatun",
      "userId": "16710034321048933921"
     },
     "user_tz": -360
    },
    "id": "VWT27-CoPbIj",
    "outputId": "b2adabdc-8477-4942-c562-d5bafaa2196d"
   },
   "outputs": [
    {
     "data": {
      "text/plain": [
       "array([[3, 3, 3],\n",
       "       [3, 3, 3],\n",
       "       [3, 3, 3]])"
      ]
     },
     "execution_count": 27,
     "metadata": {},
     "output_type": "execute_result"
    }
   ],
   "source": [
    "np.full_like(z,3)"
   ]
  },
  {
   "cell_type": "code",
   "execution_count": 28,
   "metadata": {
    "colab": {
     "base_uri": "https://localhost:8080/"
    },
    "executionInfo": {
     "elapsed": 3,
     "status": "ok",
     "timestamp": 1713679740939,
     "user": {
      "displayName": "subena khatun",
      "userId": "16710034321048933921"
     },
     "user_tz": -360
    },
    "id": "Bg2Cxpc3QKO5",
    "outputId": "71c59d88-5caa-42e4-be59-a644119c71ee"
   },
   "outputs": [
    {
     "data": {
      "text/plain": [
       "(array([0, 1, 2, 3, 4, 5, 6, 7, 8]),\n",
       " array([[ 0,  1,  2,  3],\n",
       "        [ 4,  5,  6,  7],\n",
       "        [ 8,  9, 10, 11]]),\n",
       " array([[[ 0,  1],\n",
       "         [ 2,  3],\n",
       "         [ 4,  5]],\n",
       " \n",
       "        [[ 6,  7],\n",
       "         [ 8,  9],\n",
       "         [10, 11]]]))"
      ]
     },
     "execution_count": 28,
     "metadata": {},
     "output_type": "execute_result"
    }
   ],
   "source": [
    "# create 3 array\n",
    "# 1D\n",
    "x = np.arange(9)\n",
    "# 2D\n",
    "y = np.arange(12).reshape(3,4)\n",
    "# 2 rows , 3 rows, 2 cols. 3D\n",
    "z = np.arange(12).reshape(2,3,2)\n",
    "x,y,z"
   ]
  },
  {
   "cell_type": "code",
   "execution_count": 29,
   "metadata": {
    "colab": {
     "base_uri": "https://localhost:8080/"
    },
    "executionInfo": {
     "elapsed": 440,
     "status": "ok",
     "timestamp": 1713679908630,
     "user": {
      "displayName": "subena khatun",
      "userId": "16710034321048933921"
     },
     "user_tz": -360
    },
    "id": "ltNR3gB0RLXb",
    "outputId": "d1f888e5-699c-4e44-e839-5b634364db35"
   },
   "outputs": [
    {
     "data": {
      "text/plain": [
       "(2, 3, 2)"
      ]
     },
     "execution_count": 29,
     "metadata": {},
     "output_type": "execute_result"
    }
   ],
   "source": [
    "# ndarray.shape -- show how mane rows and cols are there\n",
    "# Tuple of array dimensions.\n",
    "x.shape\n",
    "y.shape\n",
    "z.shape"
   ]
  },
  {
   "cell_type": "code",
   "execution_count": 30,
   "metadata": {
    "colab": {
     "base_uri": "https://localhost:8080/"
    },
    "executionInfo": {
     "elapsed": 10,
     "status": "ok",
     "timestamp": 1713680139428,
     "user": {
      "displayName": "subena khatun",
      "userId": "16710034321048933921"
     },
     "user_tz": -360
    },
    "id": "hgzMDc2TR16D",
    "outputId": "41781078-0d9d-4e73-c556-9b241cbd699f"
   },
   "outputs": [
    {
     "data": {
      "text/plain": [
       "1"
      ]
     },
     "execution_count": 30,
     "metadata": {},
     "output_type": "execute_result"
    }
   ],
   "source": [
    "#numpy.ndarray.ndim check Number of array dimensions.\n",
    "x.ndim"
   ]
  },
  {
   "cell_type": "code",
   "execution_count": 31,
   "metadata": {
    "colab": {
     "base_uri": "https://localhost:8080/"
    },
    "executionInfo": {
     "elapsed": 8,
     "status": "ok",
     "timestamp": 1713680145586,
     "user": {
      "displayName": "subena khatun",
      "userId": "16710034321048933921"
     },
     "user_tz": -360
    },
    "id": "G3D6M47TS77j",
    "outputId": "1cf9c7ae-57e5-43b4-aa73-c198489b61a3"
   },
   "outputs": [
    {
     "data": {
      "text/plain": [
       "2"
      ]
     },
     "execution_count": 31,
     "metadata": {},
     "output_type": "execute_result"
    }
   ],
   "source": [
    "y.ndim"
   ]
  },
  {
   "cell_type": "code",
   "execution_count": 32,
   "metadata": {
    "colab": {
     "base_uri": "https://localhost:8080/"
    },
    "executionInfo": {
     "elapsed": 6,
     "status": "ok",
     "timestamp": 1713680151934,
     "user": {
      "displayName": "subena khatun",
      "userId": "16710034321048933921"
     },
     "user_tz": -360
    },
    "id": "ImYStWdoS9Vk",
    "outputId": "8c0b091a-5bad-4c2a-91d5-9ebd78fe9e65"
   },
   "outputs": [
    {
     "data": {
      "text/plain": [
       "3"
      ]
     },
     "execution_count": 32,
     "metadata": {},
     "output_type": "execute_result"
    }
   ],
   "source": [
    "z.ndim"
   ]
  },
  {
   "cell_type": "code",
   "execution_count": 33,
   "metadata": {
    "colab": {
     "base_uri": "https://localhost:8080/"
    },
    "executionInfo": {
     "elapsed": 5,
     "status": "ok",
     "timestamp": 1713680197963,
     "user": {
      "displayName": "subena khatun",
      "userId": "16710034321048933921"
     },
     "user_tz": -360
    },
    "id": "z4KhbC_AS-4a",
    "outputId": "f2a6d6ad-c1a6-449b-d7f5-37697c41a4f0"
   },
   "outputs": [
    {
     "data": {
      "text/plain": [
       "12"
      ]
     },
     "execution_count": 33,
     "metadata": {},
     "output_type": "execute_result"
    }
   ],
   "source": [
    "## ndarray.size\n",
    "## Number of elements in the array.\n",
    "z.size"
   ]
  },
  {
   "cell_type": "code",
   "execution_count": 34,
   "metadata": {
    "colab": {
     "base_uri": "https://localhost:8080/"
    },
    "executionInfo": {
     "elapsed": 6,
     "status": "ok",
     "timestamp": 1713680276278,
     "user": {
      "displayName": "subena khatun",
      "userId": "16710034321048933921"
     },
     "user_tz": -360
    },
    "id": "THWRayUZTKQ5",
    "outputId": "177934eb-5f39-49d9-8129-2c414d653f32"
   },
   "outputs": [
    {
     "data": {
      "text/plain": [
       "4"
      ]
     },
     "execution_count": 34,
     "metadata": {},
     "output_type": "execute_result"
    }
   ],
   "source": [
    "# ndarray.itemsize . Length of one array element in bytes.\n",
    "x.itemsize"
   ]
  },
  {
   "cell_type": "code",
   "execution_count": 35,
   "metadata": {
    "colab": {
     "base_uri": "https://localhost:8080/"
    },
    "executionInfo": {
     "elapsed": 2,
     "status": "ok",
     "timestamp": 1713680443535,
     "user": {
      "displayName": "subena khatun",
      "userId": "16710034321048933921"
     },
     "user_tz": -360
    },
    "id": "wZeZf6KyTXxL",
    "outputId": "2146ad59-8430-4816-ccdf-ed8a218acd2c"
   },
   "outputs": [
    {
     "data": {
      "text/plain": [
       "dtype('int32')"
      ]
     },
     "execution_count": 35,
     "metadata": {},
     "output_type": "execute_result"
    }
   ],
   "source": [
    "# dtype--- checking which data dtype\n",
    "x.dtype"
   ]
  },
  {
   "cell_type": "code",
   "execution_count": 36,
   "metadata": {
    "colab": {
     "base_uri": "https://localhost:8080/"
    },
    "executionInfo": {
     "elapsed": 3,
     "status": "ok",
     "timestamp": 1713680483236,
     "user": {
      "displayName": "subena khatun",
      "userId": "16710034321048933921"
     },
     "user_tz": -360
    },
    "id": "bbtnKK6xUGGQ",
    "outputId": "aa991070-6d0e-4eb4-df34-896dbba8a5df"
   },
   "outputs": [
    {
     "data": {
      "text/plain": [
       "dtype('int32')"
      ]
     },
     "execution_count": 36,
     "metadata": {},
     "output_type": "execute_result"
    }
   ],
   "source": [
    "y.dtype"
   ]
  },
  {
   "cell_type": "markdown",
   "metadata": {
    "id": "LGJo0OLHUTO0"
   },
   "source": [
    "### Changing Datatype"
   ]
  },
  {
   "cell_type": "code",
   "execution_count": 37,
   "metadata": {
    "executionInfo": {
     "elapsed": 445,
     "status": "ok",
     "timestamp": 1713680550748,
     "user": {
      "displayName": "subena khatun",
      "userId": "16710034321048933921"
     },
     "user_tz": -360
    },
    "id": "O70xC2pRUI36"
   },
   "outputs": [],
   "source": [
    "k = x.astype(np.int32)"
   ]
  },
  {
   "cell_type": "code",
   "execution_count": 38,
   "metadata": {
    "colab": {
     "base_uri": "https://localhost:8080/"
    },
    "executionInfo": {
     "elapsed": 2,
     "status": "ok",
     "timestamp": 1713680557013,
     "user": {
      "displayName": "subena khatun",
      "userId": "16710034321048933921"
     },
     "user_tz": -360
    },
    "id": "xtVSKjFdUZxY",
    "outputId": "3dba5a40-5a16-42cf-f0fd-e31e5136e82a"
   },
   "outputs": [
    {
     "data": {
      "text/plain": [
       "dtype('int32')"
      ]
     },
     "execution_count": 38,
     "metadata": {},
     "output_type": "execute_result"
    }
   ],
   "source": [
    "k.dtype"
   ]
  },
  {
   "cell_type": "markdown",
   "metadata": {
    "id": "vD9sOLdaUnDM"
   },
   "source": [
    "### Array Operations"
   ]
  },
  {
   "cell_type": "code",
   "execution_count": 39,
   "metadata": {
    "colab": {
     "base_uri": "https://localhost:8080/",
     "height": 158
    },
    "executionInfo": {
     "elapsed": 25,
     "status": "error",
     "timestamp": 1713680619106,
     "user": {
      "displayName": "subena khatun",
      "userId": "16710034321048933921"
     },
     "user_tz": -360
    },
    "id": "nVGFOGqdUcuw",
    "outputId": "0153aeba-d9e5-47fc-aa9b-df26f3d20d2f"
   },
   "outputs": [
    {
     "ename": "ValueError",
     "evalue": "operands could not be broadcast together with shapes (9,) (3,4) ",
     "output_type": "error",
     "traceback": [
      "\u001b[1;31m---------------------------------------------------------------------------\u001b[0m",
      "\u001b[1;31mValueError\u001b[0m                                Traceback (most recent call last)",
      "Cell \u001b[1;32mIn[39], line 2\u001b[0m\n\u001b[0;32m      1\u001b[0m \u001b[38;5;66;03m# if number of rows and number of sols are equal then can do operatrons\u001b[39;00m\n\u001b[1;32m----> 2\u001b[0m x\u001b[38;5;241m+\u001b[39my\n",
      "\u001b[1;31mValueError\u001b[0m: operands could not be broadcast together with shapes (9,) (3,4) "
     ]
    }
   ],
   "source": [
    "# if number of rows and number of sols are equal then can do operatrons\n",
    "x+y"
   ]
  },
  {
   "cell_type": "code",
   "execution_count": 40,
   "metadata": {
    "colab": {
     "base_uri": "https://localhost:8080/"
    },
    "executionInfo": {
     "elapsed": 469,
     "status": "ok",
     "timestamp": 1713680659902,
     "user": {
      "displayName": "subena khatun",
      "userId": "16710034321048933921"
     },
     "user_tz": -360
    },
    "id": "CmpXAjbAUxGz",
    "outputId": "b31c7c91-e045-4acc-b368-d49099f7aca0"
   },
   "outputs": [
    {
     "data": {
      "text/plain": [
       "array([[0, 1, 2],\n",
       "       [3, 4, 5],\n",
       "       [6, 7, 8]])"
      ]
     },
     "execution_count": 40,
     "metadata": {},
     "output_type": "execute_result"
    }
   ],
   "source": [
    "p = np.arange(9).reshape(3,3)\n",
    "p"
   ]
  },
  {
   "cell_type": "code",
   "execution_count": 41,
   "metadata": {
    "colab": {
     "base_uri": "https://localhost:8080/"
    },
    "executionInfo": {
     "elapsed": 3,
     "status": "ok",
     "timestamp": 1713680927910,
     "user": {
      "displayName": "subena khatun",
      "userId": "16710034321048933921"
     },
     "user_tz": -360
    },
    "id": "DmYWi-XfU62Q",
    "outputId": "e48154d2-2e4f-43f6-9d0d-5b15f5a63f09"
   },
   "outputs": [
    {
     "data": {
      "text/plain": [
       "array([[5, 5, 5],\n",
       "       [5, 5, 5],\n",
       "       [5, 5, 5]])"
      ]
     },
     "execution_count": 41,
     "metadata": {},
     "output_type": "execute_result"
    }
   ],
   "source": [
    "q = np.arange(9).reshape(3,3)\n",
    "np.full_like(q,5)"
   ]
  },
  {
   "cell_type": "code",
   "execution_count": 42,
   "metadata": {
    "colab": {
     "base_uri": "https://localhost:8080/"
    },
    "executionInfo": {
     "elapsed": 3,
     "status": "ok",
     "timestamp": 1713680931148,
     "user": {
      "displayName": "subena khatun",
      "userId": "16710034321048933921"
     },
     "user_tz": -360
    },
    "id": "vANoKelxVBpY",
    "outputId": "14114c8e-72f9-4593-f224-fe7929172c95"
   },
   "outputs": [
    {
     "data": {
      "text/plain": [
       "array([[ 0,  2,  4],\n",
       "       [ 6,  8, 10],\n",
       "       [12, 14, 16]])"
      ]
     },
     "execution_count": 42,
     "metadata": {},
     "output_type": "execute_result"
    }
   ],
   "source": [
    "p + q"
   ]
  },
  {
   "cell_type": "code",
   "execution_count": 43,
   "metadata": {
    "colab": {
     "base_uri": "https://localhost:8080/"
    },
    "executionInfo": {
     "elapsed": 3,
     "status": "ok",
     "timestamp": 1713680939007,
     "user": {
      "displayName": "subena khatun",
      "userId": "16710034321048933921"
     },
     "user_tz": -360
    },
    "id": "u8Y_Pxi9VNOi",
    "outputId": "c0f5aec7-2988-42d3-bb6f-158e0a1c0e03"
   },
   "outputs": [
    {
     "data": {
      "text/plain": [
       "array([[0, 0, 0],\n",
       "       [0, 0, 0],\n",
       "       [0, 0, 0]])"
      ]
     },
     "execution_count": 43,
     "metadata": {},
     "output_type": "execute_result"
    }
   ],
   "source": [
    "p-q"
   ]
  },
  {
   "cell_type": "code",
   "execution_count": 44,
   "metadata": {
    "colab": {
     "base_uri": "https://localhost:8080/"
    },
    "executionInfo": {
     "elapsed": 3,
     "status": "ok",
     "timestamp": 1713680959808,
     "user": {
      "displayName": "subena khatun",
      "userId": "16710034321048933921"
     },
     "user_tz": -360
    },
    "id": "QH4x-OjYV_FS",
    "outputId": "f08b8b91-2e8e-4403-e47e-29491452df32"
   },
   "outputs": [
    {
     "data": {
      "text/plain": [
       "array([[ 0,  1,  4],\n",
       "       [ 9, 16, 25],\n",
       "       [36, 49, 64]])"
      ]
     },
     "execution_count": 44,
     "metadata": {},
     "output_type": "execute_result"
    }
   ],
   "source": [
    "p*q"
   ]
  },
  {
   "cell_type": "code",
   "execution_count": 45,
   "metadata": {
    "colab": {
     "base_uri": "https://localhost:8080/"
    },
    "executionInfo": {
     "elapsed": 3,
     "status": "ok",
     "timestamp": 1713680991424,
     "user": {
      "displayName": "subena khatun",
      "userId": "16710034321048933921"
     },
     "user_tz": -360
    },
    "id": "Q10NbdotWEL6",
    "outputId": "2597040f-b877-4898-9791-60304a9538e2"
   },
   "outputs": [
    {
     "data": {
      "text/plain": [
       "array([[ 0,  5, 10],\n",
       "       [15, 20, 25],\n",
       "       [30, 35, 40]])"
      ]
     },
     "execution_count": 45,
     "metadata": {},
     "output_type": "execute_result"
    }
   ],
   "source": [
    "p*5"
   ]
  },
  {
   "cell_type": "code",
   "execution_count": 46,
   "metadata": {
    "colab": {
     "base_uri": "https://localhost:8080/"
    },
    "executionInfo": {
     "elapsed": 3,
     "status": "ok",
     "timestamp": 1713681003932,
     "user": {
      "displayName": "subena khatun",
      "userId": "16710034321048933921"
     },
     "user_tz": -360
    },
    "id": "mSTM0pJqWKfA",
    "outputId": "0f6af934-2abc-4c32-ef1d-a1eda73989c3"
   },
   "outputs": [
    {
     "data": {
      "text/plain": [
       "array([[  0,   1,   8],\n",
       "       [ 27,  64, 125],\n",
       "       [216, 343, 512]], dtype=int32)"
      ]
     },
     "execution_count": 46,
     "metadata": {},
     "output_type": "execute_result"
    }
   ],
   "source": [
    "p**3"
   ]
  },
  {
   "cell_type": "markdown",
   "metadata": {
    "id": "qFV1SirAWVU1"
   },
   "source": [
    "### Array Functions"
   ]
  },
  {
   "cell_type": "code",
   "execution_count": 47,
   "metadata": {
    "executionInfo": {
     "elapsed": 437,
     "status": "ok",
     "timestamp": 1713712750847,
     "user": {
      "displayName": "subena khatun",
      "userId": "16710034321048933921"
     },
     "user_tz": -360
    },
    "id": "OT9rSAj7WPCA"
   },
   "outputs": [],
   "source": [
    "import numpy as np"
   ]
  },
  {
   "cell_type": "code",
   "execution_count": 48,
   "metadata": {
    "colab": {
     "base_uri": "https://localhost:8080/"
    },
    "executionInfo": {
     "elapsed": 6,
     "status": "ok",
     "timestamp": 1713712784689,
     "user": {
      "displayName": "subena khatun",
      "userId": "16710034321048933921"
     },
     "user_tz": -360
    },
    "id": "wsMd4asn8sco",
    "outputId": "9da33746-0e6d-410e-b20c-ccf95df53bb0"
   },
   "outputs": [
    {
     "data": {
      "text/plain": [
       "array([[0.21904116, 0.14416275, 0.56246175, 0.37704744, 0.46892213],\n",
       "       [0.17279351, 0.5693337 , 0.94127018, 0.76190119, 0.53786093],\n",
       "       [0.88342383, 0.78711516, 0.38965889, 0.75598575, 0.51738346],\n",
       "       [0.89905657, 0.84633578, 0.17829383, 0.92557439, 0.31515395]])"
      ]
     },
     "execution_count": 48,
     "metadata": {},
     "output_type": "execute_result"
    }
   ],
   "source": [
    "# create an array with random value\n",
    "a1 = np.random.random((4,5))\n",
    "a1"
   ]
  },
  {
   "cell_type": "code",
   "execution_count": 49,
   "metadata": {
    "colab": {
     "base_uri": "https://localhost:8080/"
    },
    "executionInfo": {
     "elapsed": 2,
     "status": "ok",
     "timestamp": 1713712789699,
     "user": {
      "displayName": "subena khatun",
      "userId": "16710034321048933921"
     },
     "user_tz": -360
    },
    "id": "cYFcvKor82Qq",
    "outputId": "6edc09cf-20b7-4a57-cffb-da43b1551ad2"
   },
   "outputs": [
    {
     "data": {
      "text/plain": [
       "array([[22., 14., 56., 38., 47.],\n",
       "       [17., 57., 94., 76., 54.],\n",
       "       [88., 79., 39., 76., 52.],\n",
       "       [90., 85., 18., 93., 32.]])"
      ]
     },
     "execution_count": 49,
     "metadata": {},
     "output_type": "execute_result"
    }
   ],
   "source": [
    " # round\n",
    " a = np.round(a1*100)\n",
    " a"
   ]
  },
  {
   "cell_type": "markdown",
   "metadata": {
    "id": "ruF4TeryPn0k"
   },
   "source": [
    "### numpy.max(a, axis=None, out=None, keepdims=<no value>, initial=<no value>, where=<no value>) <br>\n",
    "Return the maximum of an array or maximum along an axis"
   ]
  },
  {
   "cell_type": "code",
   "execution_count": 50,
   "metadata": {
    "colab": {
     "base_uri": "https://localhost:8080/"
    },
    "executionInfo": {
     "elapsed": 5,
     "status": "ok",
     "timestamp": 1713712923204,
     "user": {
      "displayName": "subena khatun",
      "userId": "16710034321048933921"
     },
     "user_tz": -360
    },
    "id": "Ze6tnxIjPAqY",
    "outputId": "12db9467-1109-4a3e-80e5-c92e72728b18"
   },
   "outputs": [
    {
     "data": {
      "text/plain": [
       "array([56., 94., 88., 93.])"
      ]
     },
     "execution_count": 50,
     "metadata": {},
     "output_type": "execute_result"
    }
   ],
   "source": [
    "# axis 1 means all row\n",
    "# axis=0 means all cols\n",
    "a.max(axis=1)"
   ]
  },
  {
   "cell_type": "code",
   "execution_count": 51,
   "metadata": {
    "colab": {
     "base_uri": "https://localhost:8080/"
    },
    "executionInfo": {
     "elapsed": 2,
     "status": "ok",
     "timestamp": 1713712970031,
     "user": {
      "displayName": "subena khatun",
      "userId": "16710034321048933921"
     },
     "user_tz": -360
    },
    "id": "gMSxqdc-P7zV",
    "outputId": "c2995e3a-e038-454b-cbab-6740e50eb61f"
   },
   "outputs": [
    {
     "data": {
      "text/plain": [
       "array([90., 85., 94., 93., 54.])"
      ]
     },
     "execution_count": 51,
     "metadata": {},
     "output_type": "execute_result"
    }
   ],
   "source": [
    "a.max(axis=0)"
   ]
  },
  {
   "cell_type": "code",
   "execution_count": 52,
   "metadata": {
    "colab": {
     "base_uri": "https://localhost:8080/"
    },
    "executionInfo": {
     "elapsed": 2,
     "status": "ok",
     "timestamp": 1713713007399,
     "user": {
      "displayName": "subena khatun",
      "userId": "16710034321048933921"
     },
     "user_tz": -360
    },
    "id": "8V3LelRpQLRH",
    "outputId": "e396ca32-d777-4277-b189-45055876c9ac"
   },
   "outputs": [
    {
     "data": {
      "text/plain": [
       "array([14., 17., 39., 18.])"
      ]
     },
     "execution_count": 52,
     "metadata": {},
     "output_type": "execute_result"
    }
   ],
   "source": [
    "a.min(axis=1)"
   ]
  },
  {
   "cell_type": "code",
   "execution_count": 53,
   "metadata": {
    "colab": {
     "base_uri": "https://localhost:8080/"
    },
    "executionInfo": {
     "elapsed": 2,
     "status": "ok",
     "timestamp": 1713713212116,
     "user": {
      "displayName": "subena khatun",
      "userId": "16710034321048933921"
     },
     "user_tz": -360
    },
    "id": "03yMpT_MQRql",
    "outputId": "2bda67a7-d3e9-4854-d195-5c26489ace90"
   },
   "outputs": [
    {
     "data": {
      "text/plain": [
       "array([[3.58491285e+09, 1.20260428e+06, 2.09165950e+24, 3.18559318e+16,\n",
       "        2.58131289e+20],\n",
       "       [2.41549528e+07, 5.68572000e+24, 6.66317622e+40, 1.01480039e+33,\n",
       "        2.83075330e+23],\n",
       "       [1.65163625e+38, 2.03828107e+34, 8.65934004e+16, 1.01480039e+33,\n",
       "        3.83100800e+22],\n",
       "       [1.22040329e+39, 8.22301271e+36, 6.56599691e+07, 2.45124554e+40,\n",
       "        7.89629602e+13]])"
      ]
     },
     "execution_count": 53,
     "metadata": {},
     "output_type": "execute_result"
    }
   ],
   "source": [
    "np.exp(a)"
   ]
  },
  {
   "cell_type": "markdown",
   "metadata": {
    "id": "ssGny1h5hqWe"
   },
   "source": [
    "### Indexing and Slicing"
   ]
  },
  {
   "cell_type": "code",
   "execution_count": 54,
   "metadata": {
    "colab": {
     "base_uri": "https://localhost:8080/"
    },
    "executionInfo": {
     "elapsed": 750,
     "status": "ok",
     "timestamp": 1713717649182,
     "user": {
      "displayName": "subena khatun",
      "userId": "16710034321048933921"
     },
     "user_tz": -360
    },
    "id": "ki5U8nyYRC2N",
    "outputId": "c3b79475-4eb6-4f04-f8f5-0bc019415a6c"
   },
   "outputs": [
    {
     "data": {
      "text/plain": [
       "array([0, 1, 2, 3, 4, 5, 6, 7, 8])"
      ]
     },
     "execution_count": 54,
     "metadata": {},
     "output_type": "execute_result"
    }
   ],
   "source": [
    "                                                                                                                                                                                                                                                                                                                                                                                                                                                                                                                                                                                                                                                                                                                                                                                                                                                                                                                                                                                                                                                                                                                                                                                                                                                                                                                                                                                                                                                                                                                                                                                                                                                                                                                                                                                                                                                                                                                                                                                                                                                                                                                                                                                                                                                                                                                                                                                                                                                                                                                                                                                                                                                                                                                                                                                                                                                                                                                                                                                                                                                                                                                                                                                                                                                                                                                                                                                                                                                                                                                                                                                                                                                                                                                                                                                                                                                                                                                                                                                                                                                                                                                                                                                                                                                                                                                                                                                                                                                                                                                                                                                                                                                                                                   # create 3 array\n",
    "# 1D\n",
    "x = np.arange(9)\n",
    "# 2D\n",
    "y = np.arange(12).reshape(3,4)\n",
    "# 2 rows , 3 rows, 2 cols. 3D\n",
    "z = np.arange(12).reshape(2,3,2)\n",
    "x"
   ]
  },
  {
   "cell_type": "code",
   "execution_count": 55,
   "metadata": {
    "colab": {
     "base_uri": "https://localhost:8080/"
    },
    "executionInfo": {
     "elapsed": 484,
     "status": "ok",
     "timestamp": 1713717653842,
     "user": {
      "displayName": "subena khatun",
      "userId": "16710034321048933921"
     },
     "user_tz": -360
    },
    "id": "WVrPUyJoh55X",
    "outputId": "721727db-d75e-4a3c-bc8c-5f4d948b360a"
   },
   "outputs": [
    {
     "data": {
      "text/plain": [
       "array([0, 1, 2, 3, 4, 5, 6, 7, 8])"
      ]
     },
     "execution_count": 55,
     "metadata": {},
     "output_type": "execute_result"
    }
   ],
   "source": [
    "x"
   ]
  },
  {
   "cell_type": "code",
   "execution_count": 56,
   "metadata": {
    "colab": {
     "base_uri": "https://localhost:8080/"
    },
    "executionInfo": {
     "elapsed": 672,
     "status": "ok",
     "timestamp": 1713717658100,
     "user": {
      "displayName": "subena khatun",
      "userId": "16710034321048933921"
     },
     "user_tz": -360
    },
    "id": "lyxp4ZWyiClE",
    "outputId": "e0d76e59-2d14-4b59-ea58-34bb97dfb2ff"
   },
   "outputs": [
    {
     "data": {
      "text/plain": [
       "array([[ 0,  1,  2,  3],\n",
       "       [ 4,  5,  6,  7],\n",
       "       [ 8,  9, 10, 11]])"
      ]
     },
     "execution_count": 56,
     "metadata": {},
     "output_type": "execute_result"
    }
   ],
   "source": [
    "y"
   ]
  },
  {
   "cell_type": "code",
   "execution_count": 57,
   "metadata": {
    "colab": {
     "base_uri": "https://localhost:8080/"
    },
    "executionInfo": {
     "elapsed": 2,
     "status": "ok",
     "timestamp": 1713717662613,
     "user": {
      "displayName": "subena khatun",
      "userId": "16710034321048933921"
     },
     "user_tz": -360
    },
    "id": "K01Mj8-wiDm1",
    "outputId": "29952c87-2848-4c33-f4a5-8ea9a65a645d"
   },
   "outputs": [
    {
     "data": {
      "text/plain": [
       "array([[[ 0,  1],\n",
       "        [ 2,  3],\n",
       "        [ 4,  5]],\n",
       "\n",
       "       [[ 6,  7],\n",
       "        [ 8,  9],\n",
       "        [10, 11]]])"
      ]
     },
     "execution_count": 57,
     "metadata": {},
     "output_type": "execute_result"
    }
   ],
   "source": [
    "z"
   ]
  },
  {
   "cell_type": "code",
   "execution_count": 58,
   "metadata": {
    "colab": {
     "base_uri": "https://localhost:8080/"
    },
    "executionInfo": {
     "elapsed": 471,
     "status": "ok",
     "timestamp": 1713717941836,
     "user": {
      "displayName": "subena khatun",
      "userId": "16710034321048933921"
     },
     "user_tz": -360
    },
    "id": "-b7BlUuSiE0z",
    "outputId": "97113802-df2b-4169-ab0b-8f479873554c"
   },
   "outputs": [
    {
     "data": {
      "text/plain": [
       "4"
      ]
     },
     "execution_count": 58,
     "metadata": {},
     "output_type": "execute_result"
    }
   ],
   "source": [
    "# calculation start from 0\n",
    "# 0,0 = row 0, col 0,  5,3 = row 5 col 3 value\n",
    "# show array value 4 from 2d array\n",
    "y[1,0]"
   ]
  },
  {
   "cell_type": "code",
   "execution_count": 59,
   "metadata": {
    "colab": {
     "base_uri": "https://localhost:8080/"
    },
    "executionInfo": {
     "elapsed": 757,
     "status": "ok",
     "timestamp": 1713718012657,
     "user": {
      "displayName": "subena khatun",
      "userId": "16710034321048933921"
     },
     "user_tz": -360
    },
    "id": "83I4MMdXjJGy",
    "outputId": "32e74b8d-ca59-4848-88a9-291382c2a8d5"
   },
   "outputs": [
    {
     "data": {
      "text/plain": [
       "11"
      ]
     },
     "execution_count": 59,
     "metadata": {},
     "output_type": "execute_result"
    }
   ],
   "source": [
    "# show 11 values from 3D array - [3d row, 2D row, col no]\n",
    "z[1,2,1]"
   ]
  },
  {
   "cell_type": "code",
   "execution_count": 60,
   "metadata": {
    "colab": {
     "base_uri": "https://localhost:8080/"
    },
    "executionInfo": {
     "elapsed": 431,
     "status": "ok",
     "timestamp": 1713718117971,
     "user": {
      "displayName": "subena khatun",
      "userId": "16710034321048933921"
     },
     "user_tz": -360
    },
    "id": "hvnGYf1njaU9",
    "outputId": "6aa047e1-8a6b-4059-a5f8-587fb506c16d"
   },
   "outputs": [
    {
     "data": {
      "text/plain": [
       "5"
      ]
     },
     "execution_count": 60,
     "metadata": {},
     "output_type": "execute_result"
    }
   ],
   "source": [
    "# show 5 value from 3d array\n",
    "z[0,2,1]"
   ]
  },
  {
   "cell_type": "markdown",
   "metadata": {
    "id": "yyoAUFRaj2_M"
   },
   "source": [
    "### Slicing"
   ]
  },
  {
   "cell_type": "code",
   "execution_count": 61,
   "metadata": {
    "colab": {
     "base_uri": "https://localhost:8080/"
    },
    "executionInfo": {
     "elapsed": 3,
     "status": "ok",
     "timestamp": 1713718243793,
     "user": {
      "displayName": "subena khatun",
      "userId": "16710034321048933921"
     },
     "user_tz": -360
    },
    "id": "P5rf8dU7j0HF",
    "outputId": "3674f912-9d07-4df8-e277-df2693384dde"
   },
   "outputs": [
    {
     "data": {
      "text/plain": [
       "array([0, 1, 2, 3, 4, 5, 6, 7, 8])"
      ]
     },
     "execution_count": 61,
     "metadata": {},
     "output_type": "execute_result"
    }
   ],
   "source": [
    "#[start:end:step] 1D array\n",
    "x"
   ]
  },
  {
   "cell_type": "code",
   "execution_count": 62,
   "metadata": {
    "colab": {
     "base_uri": "https://localhost:8080/"
    },
    "executionInfo": {
     "elapsed": 453,
     "status": "ok",
     "timestamp": 1713718309094,
     "user": {
      "displayName": "subena khatun",
      "userId": "16710034321048933921"
     },
     "user_tz": -360
    },
    "id": "8QjMnkCRkS6V",
    "outputId": "9b497815-1286-40b5-9b18-005bf9c7efc4"
   },
   "outputs": [
    {
     "data": {
      "text/plain": [
       "array([4, 5])"
      ]
     },
     "execution_count": 62,
     "metadata": {},
     "output_type": "execute_result"
    }
   ],
   "source": [
    "# show 4,5,6 no value from 1D array\n",
    "x[4:6]"
   ]
  },
  {
   "cell_type": "code",
   "execution_count": 63,
   "metadata": {
    "colab": {
     "base_uri": "https://localhost:8080/"
    },
    "executionInfo": {
     "elapsed": 427,
     "status": "ok",
     "timestamp": 1713718365753,
     "user": {
      "displayName": "subena khatun",
      "userId": "16710034321048933921"
     },
     "user_tz": -360
    },
    "id": "BFzCof5LkixB",
    "outputId": "7f3ea41d-86d8-4ca0-d793-dd6d4e1ca7ab"
   },
   "outputs": [
    {
     "data": {
      "text/plain": [
       "array([4, 7])"
      ]
     },
     "execution_count": 63,
     "metadata": {},
     "output_type": "execute_result"
    }
   ],
   "source": [
    "# show 4 to 8 values only even no\n",
    "x[4:8:3]"
   ]
  },
  {
   "cell_type": "code",
   "execution_count": 64,
   "metadata": {
    "colab": {
     "base_uri": "https://localhost:8080/"
    },
    "executionInfo": {
     "elapsed": 659,
     "status": "ok",
     "timestamp": 1713718391296,
     "user": {
      "displayName": "subena khatun",
      "userId": "16710034321048933921"
     },
     "user_tz": -360
    },
    "id": "I7NSZdNLkp9S",
    "outputId": "4df932f6-d2f6-4349-de1c-2db13d452ec6"
   },
   "outputs": [
    {
     "data": {
      "text/plain": [
       "array([0, 1, 2, 3])"
      ]
     },
     "execution_count": 64,
     "metadata": {},
     "output_type": "execute_result"
    }
   ],
   "source": [
    "#  from start to 4\n",
    "x[:4]"
   ]
  },
  {
   "cell_type": "code",
   "execution_count": 65,
   "metadata": {
    "colab": {
     "base_uri": "https://localhost:8080/"
    },
    "executionInfo": {
     "elapsed": 640,
     "status": "ok",
     "timestamp": 1713718401468,
     "user": {
      "displayName": "subena khatun",
      "userId": "16710034321048933921"
     },
     "user_tz": -360
    },
    "id": "OmceGTUEk2yS",
    "outputId": "bcee18dd-a4fc-450e-be46-e00a44fd55db"
   },
   "outputs": [
    {
     "data": {
      "text/plain": [
       "array([0, 4, 8])"
      ]
     },
     "execution_count": 65,
     "metadata": {},
     "output_type": "execute_result"
    }
   ],
   "source": [
    "x[::4]"
   ]
  },
  {
   "cell_type": "code",
   "execution_count": 66,
   "metadata": {
    "colab": {
     "base_uri": "https://localhost:8080/"
    },
    "executionInfo": {
     "elapsed": 438,
     "status": "ok",
     "timestamp": 1713718448655,
     "user": {
      "displayName": "subena khatun",
      "userId": "16710034321048933921"
     },
     "user_tz": -360
    },
    "id": "At9YEIxnk5RS",
    "outputId": "1b6fcaa1-1485-44dd-89bb-622054ea4e1e"
   },
   "outputs": [
    {
     "data": {
      "text/plain": [
       "array([0, 1, 2, 3, 4, 5, 6, 7])"
      ]
     },
     "execution_count": 66,
     "metadata": {},
     "output_type": "execute_result"
    }
   ],
   "source": [
    "x[:-1]"
   ]
  },
  {
   "cell_type": "code",
   "execution_count": 67,
   "metadata": {
    "colab": {
     "base_uri": "https://localhost:8080/"
    },
    "executionInfo": {
     "elapsed": 509,
     "status": "ok",
     "timestamp": 1713718548899,
     "user": {
      "displayName": "subena khatun",
      "userId": "16710034321048933921"
     },
     "user_tz": -360
    },
    "id": "Ri06KKg2k_0h",
    "outputId": "e241138d-5e18-410c-f5fd-9ef612f7feda"
   },
   "outputs": [
    {
     "data": {
      "text/plain": [
       "array([[ 0,  1,  2,  3],\n",
       "       [ 4,  5,  6,  7],\n",
       "       [ 8,  9, 10, 11]])"
      ]
     },
     "execution_count": 67,
     "metadata": {},
     "output_type": "execute_result"
    }
   ],
   "source": [
    "# 2D array slicing\n",
    "y"
   ]
  },
  {
   "cell_type": "code",
   "execution_count": 68,
   "metadata": {
    "colab": {
     "base_uri": "https://localhost:8080/"
    },
    "executionInfo": {
     "elapsed": 442,
     "status": "ok",
     "timestamp": 1713718575627,
     "user": {
      "displayName": "subena khatun",
      "userId": "16710034321048933921"
     },
     "user_tz": -360
    },
    "id": "k9z8edCsldHK",
    "outputId": "a94d4a3e-15fe-41a1-b6f1-0f7fc1ed9bef"
   },
   "outputs": [
    {
     "data": {
      "text/plain": [
       "array([[ 8,  9, 10, 11]])"
      ]
     },
     "execution_count": 68,
     "metadata": {},
     "output_type": "execute_result"
    }
   ],
   "source": [
    "# whant to show 3\n",
    "y[2:4]"
   ]
  },
  {
   "cell_type": "code",
   "execution_count": 69,
   "metadata": {
    "colab": {
     "base_uri": "https://localhost:8080/"
    },
    "executionInfo": {
     "elapsed": 454,
     "status": "ok",
     "timestamp": 1713718669010,
     "user": {
      "displayName": "subena khatun",
      "userId": "16710034321048933921"
     },
     "user_tz": -360
    },
    "id": "XjQ9Mbyslj1p",
    "outputId": "3bff3d2d-d0bd-4a56-c555-66d8323488a7"
   },
   "outputs": [
    {
     "data": {
      "text/plain": [
       "array([[1],\n",
       "       [5]])"
      ]
     },
     "execution_count": 69,
     "metadata": {},
     "output_type": "execute_result"
    }
   ],
   "source": [
    "#[rows:cols,cols:cols]\n",
    "y[0:2, 1:2]"
   ]
  },
  {
   "cell_type": "code",
   "execution_count": 70,
   "metadata": {
    "colab": {
     "base_uri": "https://localhost:8080/"
    },
    "executionInfo": {
     "elapsed": 529,
     "status": "ok",
     "timestamp": 1713718779630,
     "user": {
      "displayName": "subena khatun",
      "userId": "16710034321048933921"
     },
     "user_tz": -360
    },
    "id": "JGX44Qlclwgb",
    "outputId": "f71af28d-410d-4b71-a7ae-f423f2b7b0b2"
   },
   "outputs": [
    {
     "data": {
      "text/plain": [
       "array([[10, 11]])"
      ]
     },
     "execution_count": 70,
     "metadata": {},
     "output_type": "execute_result"
    }
   ],
   "source": [
    "y[2::,2::]"
   ]
  },
  {
   "cell_type": "code",
   "execution_count": 71,
   "metadata": {
    "colab": {
     "base_uri": "https://localhost:8080/"
    },
    "executionInfo": {
     "elapsed": 608,
     "status": "ok",
     "timestamp": 1713719536673,
     "user": {
      "displayName": "subena khatun",
      "userId": "16710034321048933921"
     },
     "user_tz": -360
    },
    "id": "zuoQSo1PpNg8",
    "outputId": "a00434b9-b36a-4f61-ca94-105039520513"
   },
   "outputs": [
    {
     "data": {
      "text/plain": [
       "array([[ 0,  1,  2,  3],\n",
       "       [ 4,  5,  6,  7],\n",
       "       [ 8,  9, 10, 11]])"
      ]
     },
     "execution_count": 71,
     "metadata": {},
     "output_type": "execute_result"
    }
   ],
   "source": [
    "y"
   ]
  },
  {
   "cell_type": "code",
   "execution_count": 72,
   "metadata": {
    "colab": {
     "base_uri": "https://localhost:8080/"
    },
    "executionInfo": {
     "elapsed": 555,
     "status": "ok",
     "timestamp": 1713718931867,
     "user": {
      "displayName": "subena khatun",
      "userId": "16710034321048933921"
     },
     "user_tz": -360
    },
    "id": "DQZ4LUDJmRgi",
    "outputId": "24a89c3e-a349-4462-fe9b-9bb499659677"
   },
   "outputs": [
    {
     "data": {
      "text/plain": [
       "array([[ 5,  6],\n",
       "       [ 9, 10]])"
      ]
     },
     "execution_count": 72,
     "metadata": {},
     "output_type": "execute_result"
    }
   ],
   "source": [
    "# show 5 6 9 10\n",
    "y[1:3,1:3]"
   ]
  },
  {
   "cell_type": "code",
   "execution_count": 73,
   "metadata": {
    "colab": {
     "base_uri": "https://localhost:8080/"
    },
    "executionInfo": {
     "elapsed": 618,
     "status": "ok",
     "timestamp": 1713719144908,
     "user": {
      "displayName": "subena khatun",
      "userId": "16710034321048933921"
     },
     "user_tz": -360
    },
    "id": "YskMT05ImotM",
    "outputId": "7849bd71-867f-4997-b740-ebf28a74aa65"
   },
   "outputs": [
    {
     "data": {
      "text/plain": [
       "array([[ 0,  1,  2,  3],\n",
       "       [ 4,  5,  6,  7],\n",
       "       [ 8,  9, 10, 11]])"
      ]
     },
     "execution_count": 73,
     "metadata": {},
     "output_type": "execute_result"
    }
   ],
   "source": [
    "y"
   ]
  },
  {
   "cell_type": "code",
   "execution_count": 74,
   "metadata": {
    "colab": {
     "base_uri": "https://localhost:8080/"
    },
    "executionInfo": {
     "elapsed": 459,
     "status": "ok",
     "timestamp": 1713719618178,
     "user": {
      "displayName": "subena khatun",
      "userId": "16710034321048933921"
     },
     "user_tz": -360
    },
    "id": "SdGyn8cbnush",
    "outputId": "69f2de27-bc64-4f41-ac3a-324ed3bf53e9"
   },
   "outputs": [
    {
     "data": {
      "text/plain": [
       "array([[ 0,  1,  2,  3],\n",
       "       [ 4,  5,  6,  7],\n",
       "       [ 8,  9, 10, 11],\n",
       "       [12, 13, 14, 15]])"
      ]
     },
     "execution_count": 74,
     "metadata": {},
     "output_type": "execute_result"
    }
   ],
   "source": [
    "w = np.arange(16).reshape((4,4))\n",
    "w"
   ]
  },
  {
   "cell_type": "code",
   "execution_count": 75,
   "metadata": {
    "colab": {
     "base_uri": "https://localhost:8080/"
    },
    "executionInfo": {
     "elapsed": 437,
     "status": "ok",
     "timestamp": 1713719776290,
     "user": {
      "displayName": "subena khatun",
      "userId": "16710034321048933921"
     },
     "user_tz": -360
    },
    "id": "-R1Opgo5n5rs",
    "outputId": "2c1c1259-c3ea-47af-9c99-7bfae93c5f2a"
   },
   "outputs": [
    {
     "data": {
      "text/plain": [
       "array([[5]])"
      ]
     },
     "execution_count": 75,
     "metadata": {},
     "output_type": "execute_result"
    }
   ],
   "source": [
    "# show 5 6, 9 10, 13 14\n",
    "#[rows:rows,cols:cols]\n",
    "w[1:2, 1:2]"
   ]
  },
  {
   "cell_type": "code",
   "execution_count": 76,
   "metadata": {
    "colab": {
     "base_uri": "https://localhost:8080/"
    },
    "executionInfo": {
     "elapsed": 666,
     "status": "ok",
     "timestamp": 1713719956451,
     "user": {
      "displayName": "subena khatun",
      "userId": "16710034321048933921"
     },
     "user_tz": -360
    },
    "id": "R9Wf5llfpDOQ",
    "outputId": "059082de-068a-41d5-a7c5-ad3125199cb8"
   },
   "outputs": [
    {
     "data": {
      "text/plain": [
       "array([[ 0,  1,  2,  3],\n",
       "       [ 4,  5,  6,  7],\n",
       "       [ 8,  9, 10, 11],\n",
       "       [12, 13, 14, 15]])"
      ]
     },
     "execution_count": 76,
     "metadata": {},
     "output_type": "execute_result"
    }
   ],
   "source": [
    "w"
   ]
  },
  {
   "cell_type": "code",
   "execution_count": 77,
   "metadata": {
    "colab": {
     "base_uri": "https://localhost:8080/"
    },
    "executionInfo": {
     "elapsed": 471,
     "status": "ok",
     "timestamp": 1713720013347,
     "user": {
      "displayName": "subena khatun",
      "userId": "16710034321048933921"
     },
     "user_tz": -360
    },
    "id": "eZ6BcjMNq0s8",
    "outputId": "2ea51f6f-93cc-4e1a-b26b-0c8bb646aae8"
   },
   "outputs": [
    {
     "data": {
      "text/plain": [
       "10"
      ]
     },
     "execution_count": 77,
     "metadata": {},
     "output_type": "execute_result"
    }
   ],
   "source": [
    "# show 10 row, cols\n",
    "w[2,2]"
   ]
  },
  {
   "cell_type": "code",
   "execution_count": 78,
   "metadata": {
    "colab": {
     "base_uri": "https://localhost:8080/"
    },
    "executionInfo": {
     "elapsed": 434,
     "status": "ok",
     "timestamp": 1713720133227,
     "user": {
      "displayName": "subena khatun",
      "userId": "16710034321048933921"
     },
     "user_tz": -360
    },
    "id": "94Prylf6rC2A",
    "outputId": "ecad3843-0ccf-4afd-d077-5b01cc252ef5"
   },
   "outputs": [
    {
     "data": {
      "text/plain": [
       "array([[10, 11],\n",
       "       [14, 15]])"
      ]
     },
     "execution_count": 78,
     "metadata": {},
     "output_type": "execute_result"
    }
   ],
   "source": [
    "# 10 11 , 14,15\n",
    "w[2::, 2::]"
   ]
  },
  {
   "cell_type": "code",
   "execution_count": 79,
   "metadata": {
    "colab": {
     "base_uri": "https://localhost:8080/"
    },
    "executionInfo": {
     "elapsed": 459,
     "status": "ok",
     "timestamp": 1713720389225,
     "user": {
      "displayName": "subena khatun",
      "userId": "16710034321048933921"
     },
     "user_tz": -360
    },
    "id": "3zZGflU1rQMU",
    "outputId": "e5b55d36-da3b-4a45-ac2f-93eb5863dcbf"
   },
   "outputs": [
    {
     "data": {
      "text/plain": [
       "array([[ 5,  6,  7],\n",
       "       [ 9, 10, 11]])"
      ]
     },
     "execution_count": 79,
     "metadata": {},
     "output_type": "execute_result"
    }
   ],
   "source": [
    "# 5 6, 9, 10\n",
    "w[1:3, 1::]"
   ]
  },
  {
   "cell_type": "code",
   "execution_count": 80,
   "metadata": {
    "colab": {
     "base_uri": "https://localhost:8080/"
    },
    "executionInfo": {
     "elapsed": 471,
     "status": "ok",
     "timestamp": 1713720471493,
     "user": {
      "displayName": "subena khatun",
      "userId": "16710034321048933921"
     },
     "user_tz": -360
    },
    "id": "2wAefKy_r9IY",
    "outputId": "f9a35f0f-b48e-4fef-afbb-4d40a991b84a"
   },
   "outputs": [
    {
     "data": {
      "text/plain": [
       "array([[ 0,  1,  2,  3,  4],\n",
       "       [ 5,  6,  7,  8,  9],\n",
       "       [10, 11, 12, 13, 14],\n",
       "       [15, 16, 17, 18, 19]])"
      ]
     },
     "execution_count": 80,
     "metadata": {},
     "output_type": "execute_result"
    }
   ],
   "source": [
    "k = np.arange(20).reshape(4,5)\n",
    "k"
   ]
  },
  {
   "cell_type": "code",
   "execution_count": 81,
   "metadata": {
    "colab": {
     "base_uri": "https://localhost:8080/"
    },
    "executionInfo": {
     "elapsed": 605,
     "status": "ok",
     "timestamp": 1713720631847,
     "user": {
      "displayName": "subena khatun",
      "userId": "16710034321048933921"
     },
     "user_tz": -360
    },
    "id": "Bl5PwmCvsyeq",
    "outputId": "dc0f8d73-13b0-4974-87d3-2b852c3bb955"
   },
   "outputs": [
    {
     "data": {
      "text/plain": [
       "array([[ 5,  6,  7,  8,  9],\n",
       "       [10, 11, 12, 13, 14]])"
      ]
     },
     "execution_count": 81,
     "metadata": {},
     "output_type": "execute_result"
    }
   ],
   "source": [
    "#[rows:rows, cols:cols]\n",
    "#select rows in index positions 1 through 3\n",
    "k[1:3, :]"
   ]
  },
  {
   "cell_type": "code",
   "execution_count": 82,
   "metadata": {
    "colab": {
     "base_uri": "https://localhost:8080/"
    },
    "executionInfo": {
     "elapsed": 654,
     "status": "ok",
     "timestamp": 1713720671940,
     "user": {
      "displayName": "subena khatun",
      "userId": "16710034321048933921"
     },
     "user_tz": -360
    },
    "id": "rLzdjawttZ0D",
    "outputId": "119b54be-2a60-40bc-a994-2adec47e1a40"
   },
   "outputs": [
    {
     "data": {
      "text/plain": [
       "array([[ 1,  2],\n",
       "       [ 6,  7],\n",
       "       [11, 12],\n",
       "       [16, 17]])"
      ]
     },
     "execution_count": 82,
     "metadata": {},
     "output_type": "execute_result"
    }
   ],
   "source": [
    "#select columns in index positions 1 through 3\n",
    "k[:, 1:3]"
   ]
  },
  {
   "cell_type": "code",
   "execution_count": 83,
   "metadata": {
    "colab": {
     "base_uri": "https://localhost:8080/"
    },
    "executionInfo": {
     "elapsed": 514,
     "status": "ok",
     "timestamp": 1713720734333,
     "user": {
      "displayName": "subena khatun",
      "userId": "16710034321048933921"
     },
     "user_tz": -360
    },
    "id": "J3g2ydeItjlw",
    "outputId": "d105fbd7-46bf-4d42-997a-5a71de4cf8c7"
   },
   "outputs": [
    {
     "data": {
      "text/plain": [
       "array([[11, 12],\n",
       "       [16, 17]])"
      ]
     },
     "execution_count": 83,
     "metadata": {},
     "output_type": "execute_result"
    }
   ],
   "source": [
    "#select rows in 2:4 and columns in 1:3\n",
    "k[2:4, 1:3]"
   ]
  },
  {
   "cell_type": "code",
   "execution_count": 84,
   "metadata": {
    "colab": {
     "base_uri": "https://localhost:8080/"
    },
    "executionInfo": {
     "elapsed": 441,
     "status": "ok",
     "timestamp": 1713720744147,
     "user": {
      "displayName": "subena khatun",
      "userId": "16710034321048933921"
     },
     "user_tz": -360
    },
    "id": "YDvtQm0Gty2T",
    "outputId": "c9f12f83-219e-4069-9b27-9fc4b39b98ba"
   },
   "outputs": [
    {
     "data": {
      "text/plain": [
       "array([[ 0,  1,  2,  3,  4],\n",
       "       [ 5,  6,  7,  8,  9],\n",
       "       [10, 11, 12, 13, 14],\n",
       "       [15, 16, 17, 18, 19]])"
      ]
     },
     "execution_count": 84,
     "metadata": {},
     "output_type": "execute_result"
    }
   ],
   "source": [
    "k"
   ]
  },
  {
   "cell_type": "code",
   "execution_count": 85,
   "metadata": {
    "colab": {
     "base_uri": "https://localhost:8080/"
    },
    "executionInfo": {
     "elapsed": 455,
     "status": "ok",
     "timestamp": 1713720870917,
     "user": {
      "displayName": "subena khatun",
      "userId": "16710034321048933921"
     },
     "user_tz": -360
    },
    "id": "LwFNqiT1t1C7",
    "outputId": "b66b120a-59c7-4f8f-963d-147528a6d797"
   },
   "outputs": [
    {
     "data": {
      "text/plain": [
       "array([[ 7,  8],\n",
       "       [12, 13]])"
      ]
     },
     "execution_count": 85,
     "metadata": {},
     "output_type": "execute_result"
    }
   ],
   "source": [
    "# 7 8 , 12 13\n",
    "k[1:3, 2:4]"
   ]
  },
  {
   "cell_type": "markdown",
   "metadata": {
    "id": "1OpITQ3uubGw"
   },
   "source": [
    "### 3D array slicing"
   ]
  },
  {
   "cell_type": "code",
   "execution_count": 86,
   "metadata": {
    "colab": {
     "base_uri": "https://localhost:8080/"
    },
    "executionInfo": {
     "elapsed": 505,
     "status": "ok",
     "timestamp": 1713721273568,
     "user": {
      "displayName": "subena khatun",
      "userId": "16710034321048933921"
     },
     "user_tz": -360
    },
    "id": "ZO2HmDbhuNsL",
    "outputId": "3d3645d7-08f5-4005-c704-7aa891d4b5d4"
   },
   "outputs": [
    {
     "data": {
      "text/plain": [
       "array([[[ 0,  1,  2],\n",
       "        [ 3,  4,  5],\n",
       "        [ 6,  7,  8]],\n",
       "\n",
       "       [[ 9, 10, 11],\n",
       "        [12, 13, 14],\n",
       "        [15, 16, 17]],\n",
       "\n",
       "       [[18, 19, 20],\n",
       "        [21, 22, 23],\n",
       "        [24, 25, 26]],\n",
       "\n",
       "       [[27, 28, 29],\n",
       "        [30, 31, 32],\n",
       "        [33, 34, 35]]])"
      ]
     },
     "execution_count": 86,
     "metadata": {},
     "output_type": "execute_result"
    }
   ],
   "source": [
    "t = np.arange(36).reshape(4,3,3)\n",
    "t"
   ]
  },
  {
   "cell_type": "code",
   "execution_count": 87,
   "metadata": {
    "colab": {
     "base_uri": "https://localhost:8080/"
    },
    "executionInfo": {
     "elapsed": 470,
     "status": "ok",
     "timestamp": 1713721465662,
     "user": {
      "displayName": "subena khatun",
      "userId": "16710034321048933921"
     },
     "user_tz": -360
    },
    "id": "ZRGcWhqsvxWz",
    "outputId": "94d29991-5025-4c23-d9c4-1d4df210b429"
   },
   "outputs": [
    {
     "data": {
      "text/plain": [
       "array([[[ 4,  5],\n",
       "        [ 7,  8]],\n",
       "\n",
       "       [[22, 23],\n",
       "        [25, 26]]])"
      ]
     },
     "execution_count": 87,
     "metadata": {},
     "output_type": "execute_result"
    }
   ],
   "source": [
    "# 1st and 3rd row, 1st and 2nd row 1st and 2nd column value\n",
    "t[::2, 1::, 1::]"
   ]
  },
  {
   "cell_type": "code",
   "execution_count": 88,
   "metadata": {
    "colab": {
     "base_uri": "https://localhost:8080/"
    },
    "executionInfo": {
     "elapsed": 558,
     "status": "ok",
     "timestamp": 1713721498549,
     "user": {
      "displayName": "subena khatun",
      "userId": "16710034321048933921"
     },
     "user_tz": -360
    },
    "id": "m4kJuD7pwlaQ",
    "outputId": "06be2bd6-dfdd-45de-8bdf-839083829762"
   },
   "outputs": [
    {
     "data": {
      "text/plain": [
       "array([[[ 0,  1,  2],\n",
       "        [ 3,  4,  5],\n",
       "        [ 6,  7,  8]],\n",
       "\n",
       "       [[ 9, 10, 11],\n",
       "        [12, 13, 14],\n",
       "        [15, 16, 17]],\n",
       "\n",
       "       [[18, 19, 20],\n",
       "        [21, 22, 23],\n",
       "        [24, 25, 26]],\n",
       "\n",
       "       [[27, 28, 29],\n",
       "        [30, 31, 32],\n",
       "        [33, 34, 35]]])"
      ]
     },
     "execution_count": 88,
     "metadata": {},
     "output_type": "execute_result"
    }
   ],
   "source": [
    "t"
   ]
  },
  {
   "cell_type": "code",
   "execution_count": 89,
   "metadata": {
    "colab": {
     "base_uri": "https://localhost:8080/"
    },
    "executionInfo": {
     "elapsed": 767,
     "status": "ok",
     "timestamp": 1713721528659,
     "user": {
      "displayName": "subena khatun",
      "userId": "16710034321048933921"
     },
     "user_tz": -360
    },
    "id": "sB40DYONwtNo",
    "outputId": "a6fc94c1-74a7-43b0-9104-295ef60d4cfd"
   },
   "outputs": [
    {
     "data": {
      "text/plain": [
       "array([[4, 5],\n",
       "       [7, 8]])"
      ]
     },
     "execution_count": 89,
     "metadata": {},
     "output_type": "execute_result"
    }
   ],
   "source": [
    "t[0,1::, 1::]"
   ]
  },
  {
   "cell_type": "markdown",
   "metadata": {
    "id": "PNT5QhnHxA5j"
   },
   "source": [
    "### Iterating"
   ]
  },
  {
   "cell_type": "code",
   "execution_count": 90,
   "metadata": {
    "colab": {
     "base_uri": "https://localhost:8080/"
    },
    "executionInfo": {
     "elapsed": 3,
     "status": "ok",
     "timestamp": 1713721613667,
     "user": {
      "displayName": "subena khatun",
      "userId": "16710034321048933921"
     },
     "user_tz": -360
    },
    "id": "VZrreBAPw0uQ",
    "outputId": "10ca2102-67c3-4b08-f78d-559acdace86c"
   },
   "outputs": [
    {
     "data": {
      "text/plain": [
       "array([0, 1, 2, 3, 4, 5, 6, 7, 8])"
      ]
     },
     "execution_count": 90,
     "metadata": {},
     "output_type": "execute_result"
    }
   ],
   "source": [
    "# 1D array value show\n",
    "x"
   ]
  },
  {
   "cell_type": "code",
   "execution_count": 91,
   "metadata": {
    "colab": {
     "base_uri": "https://localhost:8080/"
    },
    "executionInfo": {
     "elapsed": 459,
     "status": "ok",
     "timestamp": 1713721627592,
     "user": {
      "displayName": "subena khatun",
      "userId": "16710034321048933921"
     },
     "user_tz": -360
    },
    "id": "NAV2ZhGExJni",
    "outputId": "071afd1c-19d3-4365-c825-edf758cb415f"
   },
   "outputs": [
    {
     "name": "stdout",
     "output_type": "stream",
     "text": [
      "0\n",
      "1\n",
      "2\n",
      "3\n",
      "4\n",
      "5\n",
      "6\n",
      "7\n",
      "8\n"
     ]
    }
   ],
   "source": [
    "for i in x:\n",
    "  print(i)"
   ]
  },
  {
   "cell_type": "code",
   "execution_count": 92,
   "metadata": {
    "colab": {
     "base_uri": "https://localhost:8080/"
    },
    "executionInfo": {
     "elapsed": 456,
     "status": "ok",
     "timestamp": 1713721664913,
     "user": {
      "displayName": "subena khatun",
      "userId": "16710034321048933921"
     },
     "user_tz": -360
    },
    "id": "tGXmYXZDxMw4",
    "outputId": "9229bce5-0255-4cb8-d68b-87ff6685e32e"
   },
   "outputs": [
    {
     "name": "stdout",
     "output_type": "stream",
     "text": [
      "0\n",
      "1\n",
      "2\n",
      "3\n",
      "4\n",
      "5\n",
      "6\n",
      "7\n",
      "8\n",
      "9\n",
      "10\n",
      "11\n"
     ]
    }
   ],
   "source": [
    "for i in np.nditer(y):\n",
    "  print(i)"
   ]
  },
  {
   "cell_type": "markdown",
   "metadata": {
    "id": "c2yNw5_Exhph"
   },
   "source": [
    "### Reshaping"
   ]
  },
  {
   "cell_type": "code",
   "execution_count": 93,
   "metadata": {
    "colab": {
     "base_uri": "https://localhost:8080/"
    },
    "executionInfo": {
     "elapsed": 456,
     "status": "ok",
     "timestamp": 1713721745112,
     "user": {
      "displayName": "subena khatun",
      "userId": "16710034321048933921"
     },
     "user_tz": -360
    },
    "id": "tnguQ8EkxV34",
    "outputId": "15b34944-0300-4e3e-f5a1-afce30f36238"
   },
   "outputs": [
    {
     "data": {
      "text/plain": [
       "array([[ 0,  1,  2,  3],\n",
       "       [ 4,  5,  6,  7],\n",
       "       [ 8,  9, 10, 11]])"
      ]
     },
     "execution_count": 93,
     "metadata": {},
     "output_type": "execute_result"
    }
   ],
   "source": [
    "# Transpose: row col abd col row\n",
    "y"
   ]
  },
  {
   "cell_type": "code",
   "execution_count": 94,
   "metadata": {
    "colab": {
     "base_uri": "https://localhost:8080/"
    },
    "executionInfo": {
     "elapsed": 627,
     "status": "ok",
     "timestamp": 1713721752201,
     "user": {
      "displayName": "subena khatun",
      "userId": "16710034321048933921"
     },
     "user_tz": -360
    },
    "id": "ks_mfrc3xpnA",
    "outputId": "6159dfa0-109f-441d-8cca-77de8e32b766"
   },
   "outputs": [
    {
     "data": {
      "text/plain": [
       "array([[ 0,  4,  8],\n",
       "       [ 1,  5,  9],\n",
       "       [ 2,  6, 10],\n",
       "       [ 3,  7, 11]])"
      ]
     },
     "execution_count": 94,
     "metadata": {},
     "output_type": "execute_result"
    }
   ],
   "source": [
    "y.T"
   ]
  },
  {
   "cell_type": "code",
   "execution_count": 95,
   "metadata": {
    "colab": {
     "base_uri": "https://localhost:8080/"
    },
    "executionInfo": {
     "elapsed": 475,
     "status": "ok",
     "timestamp": 1713721807890,
     "user": {
      "displayName": "subena khatun",
      "userId": "16710034321048933921"
     },
     "user_tz": -360
    },
    "id": "aNpojudgxrE4",
    "outputId": "34b87ab6-5881-4b3a-f388-6b2b344ca2ea"
   },
   "outputs": [
    {
     "data": {
      "text/plain": [
       "array([ 0,  1,  2,  3,  4,  5,  6,  7,  8,  9, 10, 11])"
      ]
     },
     "execution_count": 95,
     "metadata": {},
     "output_type": "execute_result"
    }
   ],
   "source": [
    "# ravel convert 1D array\n",
    "np.ravel(y)"
   ]
  },
  {
   "cell_type": "code",
   "execution_count": null,
   "metadata": {
    "id": "K973Wvopx47q"
   },
   "outputs": [],
   "source": []
  },
  {
   "cell_type": "code",
   "execution_count": null,
   "metadata": {},
   "outputs": [],
   "source": []
  }
 ],
 "metadata": {
  "colab": {
   "authorship_tag": "ABX9TyP3na1czB3hGL9srXNEsIKt",
   "provenance": []
  },
  "kernelspec": {
   "display_name": "Python 3 (ipykernel)",
   "language": "python",
   "name": "python3"
  },
  "language_info": {
   "codemirror_mode": {
    "name": "ipython",
    "version": 3
   },
   "file_extension": ".py",
   "mimetype": "text/x-python",
   "name": "python",
   "nbconvert_exporter": "python",
   "pygments_lexer": "ipython3",
   "version": "3.11.5"
  }
 },
 "nbformat": 4,
 "nbformat_minor": 1
}
