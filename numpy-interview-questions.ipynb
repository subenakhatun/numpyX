{
 "cells": [
  {
   "cell_type": "markdown",
   "id": "430ae911",
   "metadata": {},
   "source": [
    "### 1. What is NumPy? Why should we use it?\n",
    "NumPy (also called Numerical Python) is a highly flexible, optimized, open-source package meant for array processing. It provides tools for delivering high-end performance while dealing with N-dimensional powerful array objects. It is also beneficial for performing scientific computations, mathematical, and logical operations, sorting operations, I/O functions, basic statistical and linear algebra-based operations along with random simulation and broadcasting functionalities. Due to the vast range of capabilities, NumPy has become very popular and is the most preferred package. The following image represents the uses of NumPy."
   ]
  },
  {
   "cell_type": "markdown",
   "id": "4516c145",
   "metadata": {},
   "source": [
    "### 2. Why is NumPy preferred over Matlab, Octave, Idl or Yorick?\n",
    "NumPy is an open-source, high-performing library that allows complex mathematical and scientific computational capabilities. It makes use of Python language which is a high-level, easy-to-learn, general-purpose programming language. It supports the following:\n",
    "\n",
    "Powerful functions for performing complex mathematical operations on multi-dimensional matrices and arrays. The operations on ndarrays of NumPy are approximately up to 50% faster when compared to operations on native lists using loops. This efficiency is very much useful when the arrays have millions of elements.\n",
    "Provides indexing syntax to access portions of data easily in a large array.\n",
    "Provides built-in functions which help to easily perform operations related to linear algebra and statistics.\n",
    "It takes only a few lines of code to achieve complex computations using NumPy."
   ]
  },
  {
   "cell_type": "markdown",
   "id": "f82e05cd",
   "metadata": {},
   "source": [
    "### 3. How are NumPy arrays better than Python’s lists?\n",
    "Python lists support storing heterogeneous data types whereas NumPy arrays can store datatypes of one nature itself. NumPy provides extra functional capabilities that make operating on its arrays easier which makes NumPy array advantageous in comparison to Python lists as those functions cannot be operated on heterogeneous data.\n",
    "NumPy arrays are treated as objects which results in minimal memory usage. Since Python keeps track of objects by creating or deleting them based on the requirements, NumPy objects are also treated the same way. This results in lesser memory wastage.\n",
    "NumPy arrays support multi-dimensional arrays.\n",
    "NumPy provides various powerful and efficient functions for complex computations on the arrays.\n",
    "NumPy also provides various range of functions for BitWise Operations, String Operations, Linear Algebraic operations, Arithmetic operations etc. These are not provided on Python’s default lists."
   ]
  },
  {
   "cell_type": "markdown",
   "id": "1c0e2b6e",
   "metadata": {},
   "source": [
    "### 4. What are ndarrays in NumPy?\n",
    "ndarray object is the core of the NumPy package. It consists of n-dimensional arrays storing elements of the same data types and also has many operations that are done in compiled code for optimised performance. These arrays have fixed sizes defined at the time of creation. Following are some of the properties of ndarrays:\n",
    "\n",
    "When the size of ndarrays is changed, it results in a new array and the original array is deleted.\n",
    "The ndarrays are bound to store homogeneous data.\n",
    "They provide functions to perform advanced mathematical operations in an efficient manner."
   ]
  },
  {
   "cell_type": "markdown",
   "id": "c8dcf0e9",
   "metadata": {},
   "source": [
    "### 5. What are ways of creating 1D, 2D and 3D arrays in NumPy?\n",
    "Consider you have a normal python list. From this, we can create NumPy arrays by making use of the array function as follows:"
   ]
  },
  {
   "cell_type": "markdown",
   "id": "ccf07592",
   "metadata": {},
   "source": [
    "# Using the np.array() function, we can create NumPy arrays of any dimensions."
   ]
  },
  {
   "cell_type": "markdown",
   "id": "33513ac2",
   "metadata": {},
   "source": [
    "#### One-Dimensional array"
   ]
  },
  {
   "cell_type": "code",
   "execution_count": 1,
   "id": "98719c32",
   "metadata": {},
   "outputs": [],
   "source": [
    "import numpy as np\n",
    " \n",
    "arr = [1,2,3,4]        #python list\n",
    "numpy_arr = np.array(arr)    #numpy array"
   ]
  },
  {
   "cell_type": "markdown",
   "id": "e822d295",
   "metadata": {},
   "source": [
    "#### Two-Dimensional array"
   ]
  },
  {
   "cell_type": "code",
   "execution_count": 2,
   "id": "0098149f",
   "metadata": {},
   "outputs": [],
   "source": [
    "import numpy as np\n",
    "arr = [[1,2,3,4],[4,5,6,7]]\n",
    "numpy_arr = np.array(arr)"
   ]
  },
  {
   "cell_type": "markdown",
   "id": "a19bcfce",
   "metadata": {},
   "source": [
    "#### Three-Dimensional array"
   ]
  },
  {
   "cell_type": "code",
   "execution_count": 3,
   "id": "d76b01fb",
   "metadata": {},
   "outputs": [],
   "source": [
    "import numpy as np\n",
    "arr = [[[1,2,3,4],[4,5,6,7],[7,8,9,10]]]\n",
    "numpy_arr = np.array(arr)"
   ]
  },
  {
   "cell_type": "markdown",
   "id": "49bd0223",
   "metadata": {},
   "source": [
    "### 6. How do I create a NumPy array?\n",
    "We can create NumPy arrays using various methods. Here are some common ways to create NumPy arrays:\n",
    "\n",
    "Using <br>\n",
    "* np. array(shape, axis)\n",
    "* np.zeros(hape, dtype=None)\n",
    "* np.ones(shape, dtype = None, order = 'C')\n",
    "* np.full(shape, fill_value, dtype = None, order = ‘C’)\n",
    "* np.arange([start,] stop[, step,][, dtype])\n",
    "* np.linspace(start, stop, num=50, endpoint=True , retstep=False, dtype=None, axis=0)"
   ]
  },
  {
   "cell_type": "code",
   "execution_count": 4,
   "id": "3fb8a810",
   "metadata": {},
   "outputs": [
    {
     "data": {
      "text/plain": [
       "array([10, 20, 30, 40, 50])"
      ]
     },
     "execution_count": 4,
     "metadata": {},
     "output_type": "execute_result"
    }
   ],
   "source": [
    "# np. array(shape, axis)\n",
    "# 1D array\n",
    "a = np.array([10,20,30,40,50])\n",
    "a"
   ]
  },
  {
   "cell_type": "code",
   "execution_count": 5,
   "id": "ad36d65f",
   "metadata": {},
   "outputs": [
    {
     "data": {
      "text/plain": [
       "(5,)"
      ]
     },
     "execution_count": 5,
     "metadata": {},
     "output_type": "execute_result"
    }
   ],
   "source": [
    "np.shape(a)"
   ]
  },
  {
   "cell_type": "code",
   "execution_count": 6,
   "id": "5b8be448",
   "metadata": {},
   "outputs": [
    {
     "data": {
      "text/plain": [
       "5"
      ]
     },
     "execution_count": 6,
     "metadata": {},
     "output_type": "execute_result"
    }
   ],
   "source": [
    "np.size(a)"
   ]
  },
  {
   "cell_type": "code",
   "execution_count": 7,
   "id": "f5c71f65",
   "metadata": {},
   "outputs": [
    {
     "data": {
      "text/plain": [
       "array([[ 0,  4,  2],\n",
       "       [ 3,  4,  5],\n",
       "       [23,  4,  5],\n",
       "       [ 2, 34,  5],\n",
       "       [ 5,  6,  7]])"
      ]
     },
     "execution_count": 7,
     "metadata": {},
     "output_type": "execute_result"
    }
   ],
   "source": [
    "# 2D array\n",
    "b = np.array([[0, 4, 2],[3, 4, 5],[23, 4, 5], [2, 34, 5],[5, 6, 7]])\n",
    "b"
   ]
  },
  {
   "cell_type": "code",
   "execution_count": 8,
   "id": "71f88a7b",
   "metadata": {},
   "outputs": [
    {
     "data": {
      "text/plain": [
       "array([[[ 0,  4,  2],\n",
       "        [ 3,  4,  5]],\n",
       "\n",
       "       [[23,  4,  5],\n",
       "        [ 2, 34,  5]],\n",
       "\n",
       "       [[ 5,  6,  7],\n",
       "        [ 8,  9, 10]]])"
      ]
     },
     "execution_count": 8,
     "metadata": {},
     "output_type": "execute_result"
    }
   ],
   "source": [
    "# 3D array\n",
    "c = np.array([[[0, 4, 2], [3, 4, 5]],[[23, 4, 5],[2, 34, 5]],[[5, 6, 7],[8,9,10]]])\n",
    "c"
   ]
  },
  {
   "cell_type": "code",
   "execution_count": 9,
   "id": "abed5811",
   "metadata": {},
   "outputs": [
    {
     "data": {
      "text/plain": [
       "array([[0., 0., 0.],\n",
       "       [0., 0., 0.],\n",
       "       [0., 0., 0.],\n",
       "       [0., 0., 0.]])"
      ]
     },
     "execution_count": 9,
     "metadata": {},
     "output_type": "execute_result"
    }
   ],
   "source": [
    "# np.zeros(hape, dtype=None) ---- all values will be zeso\n",
    "zero = np.zeros([4,3]) # 4 row and 3 cols\n",
    "zero"
   ]
  },
  {
   "cell_type": "code",
   "execution_count": 10,
   "id": "8b1e74b7",
   "metadata": {},
   "outputs": [
    {
     "data": {
      "text/plain": [
       "array([[1., 1., 1., 1., 1.],\n",
       "       [1., 1., 1., 1., 1.],\n",
       "       [1., 1., 1., 1., 1.],\n",
       "       [1., 1., 1., 1., 1.]])"
      ]
     },
     "execution_count": 10,
     "metadata": {},
     "output_type": "execute_result"
    }
   ],
   "source": [
    "# np.ones(shape, dtype = None, order = 'C') --- all values will be 1\n",
    "one = np.ones([4,5])   # 4 rows and 5 cols\n",
    "one"
   ]
  },
  {
   "cell_type": "code",
   "execution_count": 11,
   "id": "91b08cdf",
   "metadata": {},
   "outputs": [
    {
     "data": {
      "text/plain": [
       "array([[6, 6, 6, 6, 6],\n",
       "       [6, 6, 6, 6, 6],\n",
       "       [6, 6, 6, 6, 6],\n",
       "       [6, 6, 6, 6, 6]])"
      ]
     },
     "execution_count": 11,
     "metadata": {},
     "output_type": "execute_result"
    }
   ],
   "source": [
    "# np.full(shape, fill_value, dtype = None, order = ‘C’\n",
    "# create an array set a default value\n",
    "full = np.full([4,5], 6) # 4 rows and 5 cols with value 6\n",
    "full"
   ]
  },
  {
   "cell_type": "code",
   "execution_count": 12,
   "id": "98fd4f63",
   "metadata": {},
   "outputs": [
    {
     "data": {
      "text/plain": [
       "array([ 2,  5,  8, 11, 14, 17, 20, 23, 26, 29])"
      ]
     },
     "execution_count": 12,
     "metadata": {},
     "output_type": "execute_result"
    }
   ],
   "source": [
    "# np.arange([start,] stop[, step,][, dtype]) \n",
    "# create a 1D array start from 2, end 30, step will be 3\n",
    "d = np.arange(2,30,3)\n",
    "d"
   ]
  },
  {
   "cell_type": "code",
   "execution_count": 13,
   "id": "55441785",
   "metadata": {},
   "outputs": [
    {
     "data": {
      "text/plain": [
       "array([[ 0,  4],\n",
       "       [ 8, 12],\n",
       "       [16, 20],\n",
       "       [24, 28],\n",
       "       [32, 36]])"
      ]
     },
     "execution_count": 13,
     "metadata": {},
     "output_type": "execute_result"
    }
   ],
   "source": [
    "# if i want to create n-d array using arange then add reshape(row,cols) with it\n",
    "d1 = np.arange(0,40,4).reshape(5,2)\n",
    "d1"
   ]
  },
  {
   "cell_type": "code",
   "execution_count": 14,
   "id": "e653895f",
   "metadata": {},
   "outputs": [
    {
     "data": {
      "text/plain": [
       "array([[[ 0,  1],\n",
       "        [ 2,  3]],\n",
       "\n",
       "       [[ 4,  5],\n",
       "        [ 6,  7]],\n",
       "\n",
       "       [[ 8,  9],\n",
       "        [10, 11]]])"
      ]
     },
     "execution_count": 14,
     "metadata": {},
     "output_type": "execute_result"
    }
   ],
   "source": [
    "# 3D \n",
    "d3 = np.arange(12).reshape(3,2,2)\n",
    "d3"
   ]
  },
  {
   "cell_type": "code",
   "execution_count": 15,
   "id": "9ffabc51",
   "metadata": {},
   "outputs": [
    {
     "data": {
      "text/plain": [
       "array([ 0,  3,  6,  9, 12, 15, 18, 21, 24, 27, 30, 33, 36, 39, 42, 45, 48,\n",
       "       51, 54, 57])"
      ]
     },
     "execution_count": 15,
     "metadata": {},
     "output_type": "execute_result"
    }
   ],
   "source": [
    "# another 3D\n",
    "d2 = np.arange(0,60,3)\n",
    "d2"
   ]
  },
  {
   "cell_type": "code",
   "execution_count": 16,
   "id": "d3179240",
   "metadata": {},
   "outputs": [
    {
     "data": {
      "text/plain": [
       "20"
      ]
     },
     "execution_count": 16,
     "metadata": {},
     "output_type": "execute_result"
    }
   ],
   "source": [
    "np.size(d2)"
   ]
  },
  {
   "cell_type": "code",
   "execution_count": 17,
   "id": "75f1ee65",
   "metadata": {},
   "outputs": [
    {
     "data": {
      "text/plain": [
       "array([[[ 0,  3],\n",
       "        [ 6,  9]],\n",
       "\n",
       "       [[12, 15],\n",
       "        [18, 21]],\n",
       "\n",
       "       [[24, 27],\n",
       "        [30, 33]],\n",
       "\n",
       "       [[36, 39],\n",
       "        [42, 45]],\n",
       "\n",
       "       [[48, 51],\n",
       "        [54, 57]]])"
      ]
     },
     "execution_count": 17,
     "metadata": {},
     "output_type": "execute_result"
    }
   ],
   "source": [
    "d2 = np.arange(0,60,3).reshape(5,2,2)\n",
    "d2"
   ]
  },
  {
   "cell_type": "code",
   "execution_count": 18,
   "id": "61471e23",
   "metadata": {},
   "outputs": [
    {
     "data": {
      "text/plain": [
       "array([[[10.        , 12.10526316],\n",
       "        [14.21052632, 16.31578947]],\n",
       "\n",
       "       [[18.42105263, 20.52631579],\n",
       "        [22.63157895, 24.73684211]],\n",
       "\n",
       "       [[26.84210526, 28.94736842],\n",
       "        [31.05263158, 33.15789474]],\n",
       "\n",
       "       [[35.26315789, 37.36842105],\n",
       "        [39.47368421, 41.57894737]],\n",
       "\n",
       "       [[43.68421053, 45.78947368],\n",
       "        [47.89473684, 50.        ]]])"
      ]
     },
     "execution_count": 18,
     "metadata": {},
     "output_type": "execute_result"
    }
   ],
   "source": [
    "# np.linspace(start, stop, num=50, endpoint=True , retstep=False, dtype=None, axis=0)\n",
    "# it as like arange but different is that here is no step no. here we use total value without step\n",
    "# for ploting we always use linespace .\n",
    "l = np.linspace(10,50,20).reshape(5,2,2)\n",
    "l"
   ]
  },
  {
   "cell_type": "markdown",
   "id": "10138165",
   "metadata": {},
   "source": [
    "### Q.7 What are the main features of Numpy?\n",
    "Here are some main features of the NumPy.\n",
    "\n",
    "* Arrays\n",
    "* Efficiency\n",
    "* Mathematical Functions\n",
    "* Broadcasting\n",
    "* Integration with other libraries\n",
    "* Multi-dimensional arrays\n",
    "* Indexing and Slicing\n",
    "* Memory Management"
   ]
  },
  {
   "cell_type": "markdown",
   "id": "894fda00",
   "metadata": {},
   "source": [
    "### 8. How do you find the data type of the elements stored in the NumPy arrays?\n",
    "NumPy supports the following datatypes:\n",
    "\n",
    "* i - integer\n",
    "* S - string\n",
    "* b - boolean\n",
    "* f - float\n",
    "* u - unsigned integer\n",
    "* c - complex float\n",
    "* m - timedelta\n",
    "* M - datetime\n",
    "* O - object\n",
    "* U - unicode string\n",
    "* V - fixed memory chunk for types such as void\n",
    "We can make use of the dtype property that returns the type of the elements stored in the NumPy array. Let us consider the below code snippet. We create some sample arrays and we see what the data types of these arrays are."
   ]
  },
  {
   "cell_type": "code",
   "execution_count": 19,
   "id": "b2eb9425",
   "metadata": {},
   "outputs": [
    {
     "name": "stdout",
     "output_type": "stream",
     "text": [
      "int32\n",
      "<U12\n",
      "|S1\n"
     ]
    }
   ],
   "source": [
    "import numpy as np\n",
    "\n",
    "arr1 = np.array([1, 2, 3, 4])\n",
    "arr2 = np.array(['I', 'love', 'Interviewbit'])    # Stored as Unicode characters with length of characters ranging from 1 to 12\n",
    "arr3 = np.array([1, 2, 3, 4], dtype='S')        # Creating numpy array of defined type string\n",
    "\n",
    "print(arr1.dtype)\n",
    "print(arr2.dtype)\n",
    "print(arr3.dtype)"
   ]
  },
  {
   "cell_type": "markdown",
   "id": "79c3c40b",
   "metadata": {},
   "source": [
    "### 9. How can you reverse a NumPy array?\n",
    "There are two ways of reversing a NumPy array.\n",
    "\n",
    "Method 1: Using the slicing method: We can make use of [::-1] for reversing the array. The following example demonstrates this:<br>\n",
    "Method 2: flipud function: This function is provided by NumPy to reverse the NumPy array. Let us see the below example about its usage."
   ]
  },
  {
   "cell_type": "code",
   "execution_count": 20,
   "id": "7e267f1b",
   "metadata": {},
   "outputs": [
    {
     "data": {
      "text/plain": [
       "array([ 2,  5,  8, 11, 14, 17, 20, 23, 26, 29])"
      ]
     },
     "execution_count": 20,
     "metadata": {},
     "output_type": "execute_result"
    }
   ],
   "source": [
    "d"
   ]
  },
  {
   "cell_type": "code",
   "execution_count": 21,
   "id": "adf23a05",
   "metadata": {},
   "outputs": [
    {
     "data": {
      "text/plain": [
       "array([29, 26, 23, 20, 17, 14, 11,  8,  5,  2])"
      ]
     },
     "execution_count": 21,
     "metadata": {},
     "output_type": "execute_result"
    }
   ],
   "source": [
    "d[::-1]"
   ]
  },
  {
   "cell_type": "code",
   "execution_count": 22,
   "id": "39f55245",
   "metadata": {},
   "outputs": [
    {
     "data": {
      "text/plain": [
       "array([ 2,  5,  8, 11, 14, 17, 20, 23, 26, 29])"
      ]
     },
     "execution_count": 22,
     "metadata": {},
     "output_type": "execute_result"
    }
   ],
   "source": [
    "d"
   ]
  },
  {
   "cell_type": "code",
   "execution_count": 23,
   "id": "667f9a1c",
   "metadata": {},
   "outputs": [
    {
     "data": {
      "text/plain": [
       "array([29, 26, 23, 20, 17, 14, 11,  8,  5,  2])"
      ]
     },
     "execution_count": 23,
     "metadata": {},
     "output_type": "execute_result"
    }
   ],
   "source": [
    "np.flip(d)"
   ]
  },
  {
   "cell_type": "markdown",
   "id": "a6cd7cbe",
   "metadata": {},
   "source": [
    "### Q.10 How do you calculate the dot product of two NumPy arrays?\n",
    "Calculating the dot product of two NumPy arrays we used numpy.dot() function and we also used the @ operator:<br>\n",
    "\n",
    "Using numpy.dot() function:"
   ]
  },
  {
   "cell_type": "code",
   "execution_count": 24,
   "id": "46bed2ec",
   "metadata": {},
   "outputs": [],
   "source": [
    "n = np.arange(6).reshape(2,3)\n",
    "m = np.arange(0,12,2).reshape(2,3)"
   ]
  },
  {
   "cell_type": "code",
   "execution_count": 25,
   "id": "385dde85",
   "metadata": {},
   "outputs": [
    {
     "data": {
      "text/plain": [
       "array([[0, 1, 2],\n",
       "       [3, 4, 5]])"
      ]
     },
     "execution_count": 25,
     "metadata": {},
     "output_type": "execute_result"
    }
   ],
   "source": [
    "n"
   ]
  },
  {
   "cell_type": "code",
   "execution_count": 26,
   "id": "9cf2b0ad",
   "metadata": {},
   "outputs": [
    {
     "data": {
      "text/plain": [
       "array([[ 0,  2,  4],\n",
       "       [ 6,  8, 10]])"
      ]
     },
     "execution_count": 26,
     "metadata": {},
     "output_type": "execute_result"
    }
   ],
   "source": [
    "m"
   ]
  },
  {
   "cell_type": "code",
   "execution_count": 27,
   "id": "661b6526",
   "metadata": {},
   "outputs": [
    {
     "data": {
      "text/plain": [
       "array([1080, 1900,  820])"
      ]
     },
     "execution_count": 27,
     "metadata": {},
     "output_type": "execute_result"
    }
   ],
   "source": [
    "# numpy.dot() function:\n",
    "np.dot(a,b)"
   ]
  },
  {
   "cell_type": "code",
   "execution_count": 28,
   "id": "e44891cb",
   "metadata": {},
   "outputs": [
    {
     "data": {
      "text/plain": [
       "array([1080, 1900,  820])"
      ]
     },
     "execution_count": 28,
     "metadata": {},
     "output_type": "execute_result"
    }
   ],
   "source": [
    "# use @ operator\n",
    "a@b"
   ]
  },
  {
   "cell_type": "markdown",
   "id": "95f4411a",
   "metadata": {},
   "source": [
    "### Q.11 How do I access elements in a NumPy array?\n",
    "In NumPy, we can access elements in an array by indexing and slicing. Here’s we can do it:<br>\n",
    "\n",
    "Slicing: You can also access a range of elements using slicing. Slicing allows you to extract a subset of the array based on the indices or ranges you provide.<br>\n",
    "\n",
    "Boolean indexing: Boolean indexing is used to access elements based on a condition. it help us when we want to select elements that meet the critiria.<br>\n",
    "###### slicing: Lst[ Initial : End : IndexJump ]"
   ]
  },
  {
   "cell_type": "markdown",
   "id": "1eb6a3ad",
   "metadata": {},
   "source": [
    "##### Positive Indexes"
   ]
  },
  {
   "cell_type": "code",
   "execution_count": 29,
   "id": "26a6cf6d",
   "metadata": {},
   "outputs": [
    {
     "data": {
      "text/plain": [
       "array([10, 20, 30, 40, 50])"
      ]
     },
     "execution_count": 29,
     "metadata": {},
     "output_type": "execute_result"
    }
   ],
   "source": [
    "a"
   ]
  },
  {
   "cell_type": "code",
   "execution_count": 30,
   "id": "d1ddb533",
   "metadata": {},
   "outputs": [
    {
     "data": {
      "text/plain": [
       "array([10, 20, 30, 40, 50])"
      ]
     },
     "execution_count": 30,
     "metadata": {},
     "output_type": "execute_result"
    }
   ],
   "source": [
    "# show all values\n",
    "a[::]"
   ]
  },
  {
   "cell_type": "markdown",
   "id": "4dbeb17f",
   "metadata": {},
   "source": [
    "###### Negative Indexes"
   ]
  },
  {
   "cell_type": "code",
   "execution_count": 31,
   "id": "9bf20bba",
   "metadata": {},
   "outputs": [
    {
     "data": {
      "text/plain": [
       "array([10, 20, 30, 40, 50])"
      ]
     },
     "execution_count": 31,
     "metadata": {},
     "output_type": "execute_result"
    }
   ],
   "source": [
    "# last to first\n",
    "a[-5::1]"
   ]
  },
  {
   "cell_type": "code",
   "execution_count": 32,
   "id": "29e63f5a",
   "metadata": {},
   "outputs": [
    {
     "data": {
      "text/plain": [
       "array([20, 30])"
      ]
     },
     "execution_count": 32,
     "metadata": {},
     "output_type": "execute_result"
    }
   ],
   "source": [
    "# 1 to 3 index value want to show\n",
    "a[1:3]"
   ]
  },
  {
   "cell_type": "code",
   "execution_count": 33,
   "id": "fc6f0aa6",
   "metadata": {},
   "outputs": [],
   "source": [
    "# for slicng show practics file"
   ]
  },
  {
   "cell_type": "markdown",
   "id": "bd4b38fd",
   "metadata": {},
   "source": [
    "### 12. How is np.mean() different from np.average() in NumPy?\n",
    "np.mean() method calculates the arithmetic mean and provides additional options for input and results. For example, it has the option to specify what data types have to be taken, where the result has to be placed etc.<br>\n",
    "np.average() computes the weighted average if the weights parameter is specified. In the case of weighted average, instead of considering that each data point is contributing equally to the final average, it considers that some data points have more weightage than the others (unequal contribution).<br>"
   ]
  },
  {
   "cell_type": "markdown",
   "id": "6ce4acb0",
   "metadata": {},
   "source": [
    "### Q.13 What is the difference between a shallow copy and a deep copy in NumPy?\n",
    "In numPy we have two ways to copy an array. shallow copy and deep copy are two most used methods used in numpy to copy an array. Here is the main difference between both of them.\n",
    "\n",
    "Shallow copy: <br>\n",
    "A shallow copy is a new array that is a view of the original array’s data.<br>\n",
    "The new array is referencing the same data as the original array, so there’s actually no duplication happening.<br>\n",
    "Changes made in the original array will also be reflected in the shallow copy, and vice versa. <br>\n",
    "\n",
    "Deep copy: <br> \n",
    "A deep copy is a completely new and independent array that does not share any data with the original array.<br>\n",
    "The data is duplicated, creating a separate copy in memory.<br>\n",
    "    \n",
    "Changes made in the original array do not affect the deep copy, and vice versa."
   ]
  },
  {
   "cell_type": "markdown",
   "id": "57d2cb8f",
   "metadata": {},
   "source": [
    "### 14. How do you count the frequency of a given positive value appearing in the NumPy array?\n",
    "We can make use of the bincount() function to compute the number of times a given value is there in the array. This function accepts only positive integers and boolean expressions as the arguments."
   ]
  },
  {
   "cell_type": "code",
   "execution_count": 34,
   "id": "631c333b",
   "metadata": {},
   "outputs": [
    {
     "name": "stdout",
     "output_type": "stream",
     "text": [
      "[3 2 2 2 0 1]\n"
     ]
    }
   ],
   "source": [
    "import numpy as np\n",
    "arr = np.array([1, 2, 1, 3, 5, 0, 0, 0, 2, 3]) # 1--3, 2--2,3--2, 0--2\n",
    "result = np.bincount(arr)\n",
    "print(result)"
   ]
  },
  {
   "cell_type": "markdown",
   "id": "31570d1a",
   "metadata": {},
   "source": [
    "### Q.15 How do you reshape a NumPy array?\n",
    "We can reshape a NumPy array by using the reshape() method or the np.reshape() function. it help us to change the dimensions of the array and keep all the elements constant.\n",
    "<br>\n",
    "Using the reshape() method:array1= original_array.reshape(new_shape)"
   ]
  },
  {
   "cell_type": "code",
   "execution_count": 35,
   "id": "134c4ef2",
   "metadata": {},
   "outputs": [
    {
     "data": {
      "text/plain": [
       "array([0, 1, 2, 3, 4])"
      ]
     },
     "execution_count": 35,
     "metadata": {},
     "output_type": "execute_result"
    }
   ],
   "source": [
    "original_array = np.arange(5)\n",
    "array1 = np.reshape(original_array, 5)\n",
    "array1"
   ]
  },
  {
   "cell_type": "code",
   "execution_count": 36,
   "id": "d9e84281",
   "metadata": {},
   "outputs": [
    {
     "data": {
      "text/plain": [
       "array([0, 1, 2, 3, 4])"
      ]
     },
     "execution_count": 36,
     "metadata": {},
     "output_type": "execute_result"
    }
   ],
   "source": [
    "original_array"
   ]
  },
  {
   "cell_type": "code",
   "execution_count": 37,
   "id": "9c5d555c",
   "metadata": {},
   "outputs": [
    {
     "data": {
      "text/plain": [
       "array([10, 20, 30, 40, 50])"
      ]
     },
     "execution_count": 37,
     "metadata": {},
     "output_type": "execute_result"
    }
   ],
   "source": [
    "a"
   ]
  },
  {
   "cell_type": "markdown",
   "id": "af5a904b",
   "metadata": {},
   "source": [
    "### Q.16 How to perform element-wise operations on NumPy arrays?\n",
    "To perform element-wise operations on NumPy arrays, you can use standard arithmetic operators.NumPy automatically applies these operations element-wise when you use them with arrays of the same shape."
   ]
  },
  {
   "cell_type": "code",
   "execution_count": 38,
   "id": "cf0429c9",
   "metadata": {},
   "outputs": [],
   "source": [
    "import numpy as np\n",
    "# create 2 array\n",
    "a = np.array([2,3,4,5,6])\n",
    "b = np.array([10,20,30,40,50])"
   ]
  },
  {
   "cell_type": "code",
   "execution_count": 39,
   "id": "9795475f",
   "metadata": {},
   "outputs": [
    {
     "name": "stdout",
     "output_type": "stream",
     "text": [
      "[12 23 34 45 56]\n"
     ]
    }
   ],
   "source": [
    "add = a + b\n",
    "print(add)"
   ]
  },
  {
   "cell_type": "code",
   "execution_count": 40,
   "id": "be412773",
   "metadata": {},
   "outputs": [
    {
     "name": "stdout",
     "output_type": "stream",
     "text": [
      "[ -8 -17 -26 -35 -44]\n"
     ]
    }
   ],
   "source": [
    "sub = a - b\n",
    "print(sub)"
   ]
  },
  {
   "cell_type": "code",
   "execution_count": 41,
   "id": "d5cb4262",
   "metadata": {},
   "outputs": [
    {
     "name": "stdout",
     "output_type": "stream",
     "text": [
      "[ 20  60 120 200 300]\n"
     ]
    }
   ],
   "source": [
    "mul = a * b\n",
    "print(mul)"
   ]
  },
  {
   "cell_type": "code",
   "execution_count": 42,
   "id": "64b50197",
   "metadata": {},
   "outputs": [
    {
     "name": "stdout",
     "output_type": "stream",
     "text": [
      "[0.2        0.15       0.13333333 0.125      0.12      ]\n"
     ]
    }
   ],
   "source": [
    "div = a / b \n",
    "print(div)"
   ]
  },
  {
   "cell_type": "code",
   "execution_count": 43,
   "id": "4d6d3b2b",
   "metadata": {},
   "outputs": [
    {
     "name": "stdout",
     "output_type": "stream",
     "text": [
      "[2 3 4 5 6]\n"
     ]
    }
   ],
   "source": [
    "rim = a % b\n",
    "print(rim)"
   ]
  },
  {
   "cell_type": "code",
   "execution_count": 44,
   "id": "f8e0abf0",
   "metadata": {},
   "outputs": [
    {
     "name": "stdout",
     "output_type": "stream",
     "text": [
      "[       1024  -808182895           0 -1413876383           0]\n"
     ]
    }
   ],
   "source": [
    "power = a**b\n",
    "print(power)"
   ]
  },
  {
   "cell_type": "markdown",
   "id": "8e45e3d7",
   "metadata": {},
   "source": [
    "#### 17. How do we check for an empty array (or zero elements array)?\n",
    "We can check for the emptiness of a NumPy array by making use of the size attribute.\n",
    "Let us consider the below example. We have NumPy array arr filled with zeros. If the size element returns zero, that means the array is empty or it only consists of zeros."
   ]
  },
  {
   "cell_type": "code",
   "execution_count": 45,
   "id": "f9395d6b",
   "metadata": {},
   "outputs": [
    {
     "data": {
      "text/plain": [
       "0"
      ]
     },
     "execution_count": 45,
     "metadata": {},
     "output_type": "execute_result"
    }
   ],
   "source": [
    "c = np.zeros((1,0))\n",
    "c.size"
   ]
  },
  {
   "cell_type": "markdown",
   "id": "9989448c",
   "metadata": {},
   "source": [
    "### 18. How is arr[:,0] different from arr[:,[0]]\n",
    "arr[:,0] - Returns 0th index elements of all rows. In other words, return the first column elements."
   ]
  },
  {
   "cell_type": "code",
   "execution_count": 46,
   "id": "15200203",
   "metadata": {},
   "outputs": [
    {
     "data": {
      "text/plain": [
       "array([[ 0,  1,  2,  3,  4,  5],\n",
       "       [ 6,  7,  8,  9, 10, 11],\n",
       "       [12, 13, 14, 15, 16, 17],\n",
       "       [18, 19, 20, 21, 22, 23]])"
      ]
     },
     "execution_count": 46,
     "metadata": {},
     "output_type": "execute_result"
    }
   ],
   "source": [
    "d = np.arange(24).reshape(4,6)\n",
    "d"
   ]
  },
  {
   "cell_type": "code",
   "execution_count": 47,
   "id": "d47811ab",
   "metadata": {},
   "outputs": [
    {
     "name": "stdout",
     "output_type": "stream",
     "text": [
      "[ 0  6 12 18]\n"
     ]
    }
   ],
   "source": [
    "print(d[:,0]) # output 1D array means just show values all in a array"
   ]
  },
  {
   "cell_type": "code",
   "execution_count": 48,
   "id": "c3f80eb2",
   "metadata": {},
   "outputs": [
    {
     "data": {
      "text/plain": [
       "array([[ 0],\n",
       "       [ 6],\n",
       "       [12],\n",
       "       [18]])"
      ]
     },
     "execution_count": 48,
     "metadata": {},
     "output_type": "execute_result"
    }
   ],
   "source": [
    "d[:,[0]] # 2d array"
   ]
  },
  {
   "cell_type": "markdown",
   "id": "47cbb91f",
   "metadata": {},
   "source": [
    "### 19. How do you multiply 2 NumPy array matrices?\n",
    "We can make use of the dot() for multiplying matrices represented as NumPy arrays. This is represented in the code snippet below:"
   ]
  },
  {
   "cell_type": "code",
   "execution_count": 49,
   "id": "fe5fdf2d",
   "metadata": {},
   "outputs": [
    {
     "data": {
      "text/plain": [
       "array([[ 0,  1,  2,  3,  4,  5],\n",
       "       [ 6,  7,  8,  9, 10, 11],\n",
       "       [12, 13, 14, 15, 16, 17],\n",
       "       [18, 19, 20, 21, 22, 23],\n",
       "       [24, 25, 26, 27, 28, 29],\n",
       "       [30, 31, 32, 33, 34, 35]])"
      ]
     },
     "execution_count": 49,
     "metadata": {},
     "output_type": "execute_result"
    }
   ],
   "source": [
    "e = np.arange(36).reshape(6,6)\n",
    "e"
   ]
  },
  {
   "cell_type": "code",
   "execution_count": 50,
   "id": "7697aea0",
   "metadata": {},
   "outputs": [
    {
     "data": {
      "text/plain": [
       "array([[ 330,  345,  360,  375,  390,  405],\n",
       "       [ 870,  921,  972, 1023, 1074, 1125],\n",
       "       [1410, 1497, 1584, 1671, 1758, 1845],\n",
       "       [1950, 2073, 2196, 2319, 2442, 2565]])"
      ]
     },
     "execution_count": 50,
     "metadata": {},
     "output_type": "execute_result"
    }
   ],
   "source": [
    "d.dot(e)"
   ]
  },
  {
   "cell_type": "code",
   "execution_count": 51,
   "id": "84c72ed9",
   "metadata": {},
   "outputs": [
    {
     "ename": "ValueError",
     "evalue": "shapes (6,6) and (4,6) not aligned: 6 (dim 1) != 4 (dim 0)",
     "output_type": "error",
     "traceback": [
      "\u001b[1;31m---------------------------------------------------------------------------\u001b[0m",
      "\u001b[1;31mValueError\u001b[0m                                Traceback (most recent call last)",
      "Cell \u001b[1;32mIn[51], line 2\u001b[0m\n\u001b[0;32m      1\u001b[0m \u001b[38;5;66;03m# row size one array will be same another array columns size.\u001b[39;00m\n\u001b[1;32m----> 2\u001b[0m e\u001b[38;5;241m.\u001b[39mdot(d)\n",
      "\u001b[1;31mValueError\u001b[0m: shapes (6,6) and (4,6) not aligned: 6 (dim 1) != 4 (dim 0)"
     ]
    }
   ],
   "source": [
    "# row size one array will be same another array columns size.\n",
    "e.dot(d)"
   ]
  },
  {
   "cell_type": "markdown",
   "id": "1e7d568a",
   "metadata": {},
   "source": [
    "### 20. How do you concatenate 2 NumPy arrays?\n",
    "Concatenating 2 arrays by adding elements to the end can be achieved by making use of the concatenate() method of the NumPy package. Syntax:<br>\n",
    "\n",
    "np.concatenate((a1, a2, ...), axis=0, out=None) <br>\n",
    "where,<br>\n",
    "\n",
    "#### a1,a2: arrays of the same shape<br>\n",
    "axis: Represents the axis along which the arrays are joined. The default value is 0.<br>\n",
    "out: If mentioned, it specifies the destination for placing the result.<br>\n",
    "For example:"
   ]
  },
  {
   "cell_type": "code",
   "execution_count": 52,
   "id": "4bfee338",
   "metadata": {},
   "outputs": [],
   "source": [
    "x = np.arange(12).reshape(3,4)\n",
    "y = np.arange(0,24,2).reshape(3,4)"
   ]
  },
  {
   "cell_type": "code",
   "execution_count": 53,
   "id": "e02a4586",
   "metadata": {},
   "outputs": [
    {
     "data": {
      "text/plain": [
       "array([[ 0,  2,  4,  6],\n",
       "       [ 8, 10, 12, 14],\n",
       "       [16, 18, 20, 22]])"
      ]
     },
     "execution_count": 53,
     "metadata": {},
     "output_type": "execute_result"
    }
   ],
   "source": [
    "y"
   ]
  },
  {
   "cell_type": "code",
   "execution_count": 54,
   "id": "980583bb",
   "metadata": {},
   "outputs": [
    {
     "data": {
      "text/plain": [
       "array([[ 0,  1,  2,  3],\n",
       "       [ 4,  5,  6,  7],\n",
       "       [ 8,  9, 10, 11],\n",
       "       [ 0,  2,  4,  6],\n",
       "       [ 8, 10, 12, 14],\n",
       "       [16, 18, 20, 22]])"
      ]
     },
     "execution_count": 54,
     "metadata": {},
     "output_type": "execute_result"
    }
   ],
   "source": [
    "# cols concatenate\n",
    "np.concatenate((x,y),axis=0)"
   ]
  },
  {
   "cell_type": "code",
   "execution_count": 55,
   "id": "7f868897",
   "metadata": {},
   "outputs": [
    {
     "data": {
      "text/plain": [
       "array([[ 0,  1,  2,  3,  0,  2,  4,  6],\n",
       "       [ 4,  5,  6,  7,  8, 10, 12, 14],\n",
       "       [ 8,  9, 10, 11, 16, 18, 20, 22]])"
      ]
     },
     "execution_count": 55,
     "metadata": {},
     "output_type": "execute_result"
    }
   ],
   "source": [
    "# rows concatenate\n",
    "np.concatenate((x,y),axis=1)"
   ]
  },
  {
   "cell_type": "code",
   "execution_count": 56,
   "id": "88caea2b",
   "metadata": {},
   "outputs": [
    {
     "data": {
      "text/plain": [
       "array([[ 0,  1,  2,  3],\n",
       "       [ 4,  5,  6,  7],\n",
       "       [ 8,  9, 10, 11],\n",
       "       [ 0,  2,  4,  6],\n",
       "       [ 8, 10, 12, 14],\n",
       "       [16, 18, 20, 22]])"
      ]
     },
     "execution_count": 56,
     "metadata": {},
     "output_type": "execute_result"
    }
   ],
   "source": [
    "# normal concatenate. \n",
    "np.concatenate((x,y))"
   ]
  },
  {
   "cell_type": "markdown",
   "id": "1b78e954",
   "metadata": {},
   "source": [
    "### Q.21 Define the var function in NumPy.\n",
    "In NumPy, the var function is used to compute the variance of elements in an array or along a specified axis. Variance is a measure of the spread or dispersion of data points."
   ]
  },
  {
   "cell_type": "code",
   "execution_count": 57,
   "id": "7d5f1ad0",
   "metadata": {},
   "outputs": [
    {
     "data": {
      "text/plain": [
       "2.0"
      ]
     },
     "execution_count": 57,
     "metadata": {},
     "output_type": "execute_result"
    }
   ],
   "source": [
    "# variance\n",
    "np.var(a)"
   ]
  },
  {
   "cell_type": "markdown",
   "id": "bfaf86ad",
   "metadata": {},
   "source": [
    "### Q.22 Define the min and max function in NumPy.\n",
    "In NumPy, you can use the min() and max() functions to find the minimum and maximum values in a NumPy array, respectively.\n",
    "<br>\n",
    "np.min() Function:<br>\n",
    "\n",
    "The np.min() function calculates the minimum value in a NumPy array along a specified axis or for the entire array."
   ]
  },
  {
   "cell_type": "code",
   "execution_count": 58,
   "id": "362ee25b",
   "metadata": {},
   "outputs": [
    {
     "data": {
      "text/plain": [
       "2"
      ]
     },
     "execution_count": 58,
     "metadata": {},
     "output_type": "execute_result"
    }
   ],
   "source": [
    "np.min(a)"
   ]
  },
  {
   "cell_type": "code",
   "execution_count": 59,
   "id": "5993e097",
   "metadata": {},
   "outputs": [
    {
     "data": {
      "text/plain": [
       "6"
      ]
     },
     "execution_count": 59,
     "metadata": {},
     "output_type": "execute_result"
    }
   ],
   "source": [
    "np.max(a)"
   ]
  },
  {
   "cell_type": "markdown",
   "id": "6f06c174",
   "metadata": {},
   "source": [
    "### Q.23 How to generate random numbers with NumPy?\n",
    "NumPy provides a wide range of functions for generating random numbers. You can generate random numbers from various probability distributions, set seeds for reproducibility, and more. Here are some common ways to generate random numbers with NumPy:\n",
    "\n",
    "Using np.random.rand()\n",
    "Generating a Random Float between 0 and 1 using np.random.rand()"
   ]
  },
  {
   "cell_type": "code",
   "execution_count": 60,
   "id": "ef573a96",
   "metadata": {},
   "outputs": [
    {
     "data": {
      "text/plain": [
       "0.23925859790218829"
      ]
     },
     "execution_count": 60,
     "metadata": {},
     "output_type": "execute_result"
    }
   ],
   "source": [
    "z = np.random.rand()\n",
    "z"
   ]
  },
  {
   "cell_type": "code",
   "execution_count": 61,
   "id": "15ab4474",
   "metadata": {},
   "outputs": [
    {
     "data": {
      "text/plain": [
       "4"
      ]
     },
     "execution_count": 61,
     "metadata": {},
     "output_type": "execute_result"
    }
   ],
   "source": [
    "z = np.random.randint(5)\n",
    "z"
   ]
  },
  {
   "cell_type": "markdown",
   "id": "ac34e937",
   "metadata": {},
   "source": [
    "### Q.24 How can you create a NumPy array from a Python list?\n",
    "We can create a NumPy array from a Python list using the np.array() constructor provided by NumPy."
   ]
  },
  {
   "cell_type": "code",
   "execution_count": 62,
   "id": "8fcec51d",
   "metadata": {},
   "outputs": [
    {
     "data": {
      "text/plain": [
       "array([4, 8, 9, 6, 3])"
      ]
     },
     "execution_count": 62,
     "metadata": {},
     "output_type": "execute_result"
    }
   ],
   "source": [
    "# one way\n",
    "l = [4,8,9,6,3]\n",
    "a = np.array(l)\n",
    "a"
   ]
  },
  {
   "cell_type": "code",
   "execution_count": 63,
   "id": "f6199315",
   "metadata": {},
   "outputs": [
    {
     "data": {
      "text/plain": [
       "array([10,  2, 30, 60, 40])"
      ]
     },
     "execution_count": 63,
     "metadata": {},
     "output_type": "execute_result"
    }
   ],
   "source": [
    "# 2no way\n",
    "b = np.array([10,2,30,60,40])\n",
    "b"
   ]
  },
  {
   "cell_type": "markdown",
   "id": "49418365",
   "metadata": {},
   "source": [
    "### Q.25 How can you access elements in a NumPy array based on specific conditions?\n",
    "We can access elements in a NumPy array based on specific conditions using boolean indexing. Boolean indexing allows us to create true and false values based on a condition."
   ]
  },
  {
   "cell_type": "code",
   "execution_count": 64,
   "id": "f6cdea78",
   "metadata": {},
   "outputs": [],
   "source": [
    "arr = np.array([1, 2, 3, 4, 5])\n",
    "\n",
    "# Define a condition (boolean mask)\n",
    "# condition = (arr > some_value)  \n",
    "\n",
    "# Use the condition to access elements\n",
    "# selected_elements = arr[condition]"
   ]
  },
  {
   "cell_type": "markdown",
   "id": "92c2d734",
   "metadata": {},
   "source": [
    "# Q.26 What are some common data types supported by NumPy?\n",
    "In NumPy there are so many data types that are used to specify the type of data which stored in array. This data type provide control that how data stored in memory during operations.Some common data types supported by NumPy include:\n",
    "\n",
    "* int\n",
    "* float\n",
    "* complex\n",
    "* bool\n",
    "* object\n",
    "* datetime"
   ]
  },
  {
   "cell_type": "markdown",
   "id": "b933162d",
   "metadata": {},
   "source": [
    "### Q 27. How can you concatenate two NumPy arrays vertically?\n",
    "We can concatenate two NumPy arrays vertically (along the rows) using the np.vstack() function or the np.concatenate() function with the axis parameter set to 0. Here’s how to do it with both methods:\n",
    "\n",
    "##### Method 1: Using np.vstack()\n",
    "##### Method 2: Using np.concatenate() with axis"
   ]
  },
  {
   "cell_type": "code",
   "execution_count": 65,
   "id": "41220cef",
   "metadata": {},
   "outputs": [
    {
     "data": {
      "text/plain": [
       "array([[ 0,  1,  2,  3],\n",
       "       [ 4,  5,  6,  7],\n",
       "       [ 8,  9, 10, 11],\n",
       "       [ 0,  2,  4,  6],\n",
       "       [ 8, 10, 12, 14],\n",
       "       [16, 18, 20, 22]])"
      ]
     },
     "execution_count": 65,
     "metadata": {},
     "output_type": "execute_result"
    }
   ],
   "source": [
    "array= np.vstack((x, y))\n",
    "array"
   ]
  },
  {
   "cell_type": "code",
   "execution_count": 66,
   "id": "ad650bc4",
   "metadata": {},
   "outputs": [
    {
     "data": {
      "text/plain": [
       "array([[ 0,  1,  2,  3],\n",
       "       [ 4,  5,  6,  7],\n",
       "       [ 8,  9, 10, 11],\n",
       "       [ 0,  2,  4,  6],\n",
       "       [ 8, 10, 12, 14],\n",
       "       [16, 18, 20, 22]])"
      ]
     },
     "execution_count": 66,
     "metadata": {},
     "output_type": "execute_result"
    }
   ],
   "source": [
    "array= np.concatenate((x, y), axis=0)\n",
    "array"
   ]
  },
  {
   "cell_type": "markdown",
   "id": "e7036b4b",
   "metadata": {},
   "source": [
    "### Q.28 What is the significance of the random module in NumPy?\n",
    "Here’s a brief explanation of the significance of the random module in Python:\n",
    "\n",
    "* Random Number Generation\n",
    "* Random Sequences\n",
    "* Probability Distributions\n",
    "* Random Choices"
   ]
  },
  {
   "cell_type": "markdown",
   "id": "535dd020",
   "metadata": {},
   "source": [
    "### Q.29 How can you generate random numbers following a normal distribution using NumPy?\n",
    "We can generate random numbers following a normal distribution (Gaussian distribution) using NumPy’s random module. NumPy provides several functions for this purpose, with different options for specifying the mean and standard deviation of the distribution. The most commonly used function is numpy.random.normal."
   ]
  },
  {
   "cell_type": "markdown",
   "id": "006bc6ac",
   "metadata": {},
   "source": [
    "### Q.30 What is Matrix Inversion in NumPy?\n",
    "Matrix inversion in NumPy refers to the process of finding the inverse of a square matrix. The identity matrix is produced when multiplying the original matrix by the inverse of the matrix. In other words, if A is a square matrix and A^(-1) is its inverse, then A * A^(-1) = I, where I is the identity matrix.\n",
    "\n",
    "NumPy provides a convenient function called numpy.linalg.inv() to compute the inverse of a square matrix. Here’s how you can use it:"
   ]
  },
  {
   "cell_type": "code",
   "execution_count": 67,
   "id": "a0717f02",
   "metadata": {},
   "outputs": [
    {
     "data": {
      "text/plain": [
       "array([[ 0,  1,  2,  3],\n",
       "       [ 4,  5,  6,  7],\n",
       "       [ 8,  9, 10, 11],\n",
       "       [12, 13, 14, 15]])"
      ]
     },
     "execution_count": 67,
     "metadata": {},
     "output_type": "execute_result"
    }
   ],
   "source": [
    "# Define a square matrix\n",
    "a = np.arange(16).reshape(4,4)\n",
    "a"
   ]
  },
  {
   "cell_type": "code",
   "execution_count": 68,
   "id": "083a93a8",
   "metadata": {},
   "outputs": [
    {
     "data": {
      "text/plain": [
       "array([[ 9.00719925e+14, -4.50359963e+14, -1.80143985e+15,\n",
       "         1.35107989e+15],\n",
       "       [-2.40191980e+15,  2.70215978e+15,  1.80143985e+15,\n",
       "        -2.10167983e+15],\n",
       "       [ 2.10167983e+15, -4.05323966e+15,  1.80143985e+15,\n",
       "         1.50119988e+14],\n",
       "       [-6.00479950e+14,  1.80143985e+15, -1.80143985e+15,\n",
       "         6.00479950e+14]])"
      ]
     },
     "execution_count": 68,
     "metadata": {},
     "output_type": "execute_result"
    }
   ],
   "source": [
    "# Calculate the inverse of the matrix\n",
    "a_inverse = np.linalg.inv(a)\n",
    "a_inverse"
   ]
  },
  {
   "cell_type": "markdown",
   "id": "f72f4397",
   "metadata": {},
   "source": [
    "### Q.31 Convert a multidimensional array to 1D array.\n",
    "You can convert a multidimensional array to a 1D array (also known as flattening the array) in NumPy using various methods. Two common methods are using for the Convert a multidimensional array to 1D array.\n",
    "\n",
    "#### Using flatten():"
   ]
  },
  {
   "cell_type": "code",
   "execution_count": 69,
   "id": "d556e482",
   "metadata": {},
   "outputs": [
    {
     "data": {
      "text/plain": [
       "array([[ 0,  1,  2,  3],\n",
       "       [ 4,  5,  6,  7],\n",
       "       [ 8,  9, 10, 11]])"
      ]
     },
     "execution_count": 69,
     "metadata": {},
     "output_type": "execute_result"
    }
   ],
   "source": [
    "x"
   ]
  },
  {
   "cell_type": "code",
   "execution_count": 70,
   "id": "f1842bdf",
   "metadata": {},
   "outputs": [
    {
     "data": {
      "text/plain": [
       "array([ 0,  1,  2,  3,  4,  5,  6,  7,  8,  9, 10, 11])"
      ]
     },
     "execution_count": 70,
     "metadata": {},
     "output_type": "execute_result"
    }
   ],
   "source": [
    "x.flatten()"
   ]
  },
  {
   "cell_type": "code",
   "execution_count": 71,
   "id": "eba3f59b",
   "metadata": {},
   "outputs": [
    {
     "data": {
      "text/plain": [
       "array([[ 0,  2,  4,  6],\n",
       "       [ 8, 10, 12, 14],\n",
       "       [16, 18, 20, 22]])"
      ]
     },
     "execution_count": 71,
     "metadata": {},
     "output_type": "execute_result"
    }
   ],
   "source": [
    "# Using ravel():\n",
    "y"
   ]
  },
  {
   "cell_type": "code",
   "execution_count": 72,
   "id": "0e970863",
   "metadata": {},
   "outputs": [
    {
     "data": {
      "text/plain": [
       "array([ 0,  2,  4,  6,  8, 10, 12, 14, 16, 18, 20, 22])"
      ]
     },
     "execution_count": 72,
     "metadata": {},
     "output_type": "execute_result"
    }
   ],
   "source": [
    "y.ravel()"
   ]
  },
  {
   "cell_type": "markdown",
   "id": "f47c69de",
   "metadata": {},
   "source": [
    "Both of these methods will flatten the multidimensional array into a 1D array. The primary difference between them is that flatten() returns a new copy of the array, while ravel() returns a flattened view of the original array whenever possible. If you modify the elements in the flattened view obtained from ravel()."
   ]
  },
  {
   "cell_type": "markdown",
   "id": "9bd97d4c",
   "metadata": {},
   "source": [
    "### Q.32 Write a NumPy code snippet to create an array of zeros.\n",
    "With the help of numpy.zeros() function we can create an array of zeros in numpy. it help us to specify the shape and data type of the resulting array"
   ]
  },
  {
   "cell_type": "code",
   "execution_count": 73,
   "id": "8bd23843",
   "metadata": {},
   "outputs": [],
   "source": [
    "q =np.zeros((10,5))"
   ]
  },
  {
   "cell_type": "code",
   "execution_count": 74,
   "id": "bfd943fa",
   "metadata": {},
   "outputs": [
    {
     "data": {
      "text/plain": [
       "array([[0., 0., 0., 0., 0.],\n",
       "       [0., 0., 0., 0., 0.],\n",
       "       [0., 0., 0., 0., 0.],\n",
       "       [0., 0., 0., 0., 0.],\n",
       "       [0., 0., 0., 0., 0.],\n",
       "       [0., 0., 0., 0., 0.],\n",
       "       [0., 0., 0., 0., 0.],\n",
       "       [0., 0., 0., 0., 0.],\n",
       "       [0., 0., 0., 0., 0.],\n",
       "       [0., 0., 0., 0., 0.]])"
      ]
     },
     "execution_count": 74,
     "metadata": {},
     "output_type": "execute_result"
    }
   ],
   "source": [
    "q"
   ]
  },
  {
   "cell_type": "markdown",
   "id": "7c4485e9",
   "metadata": {},
   "source": [
    "### Q.32 How can you identify outliers in a NumPy array?\n",
    "Identifying and removing outliers in a NumPy array involves several steps. Outliers are data points that significantly deviate from the majority of the data and can adversely affect the results of data analysis. Here’s a general approach to identify and remove outliers:\n",
    "<br>\n",
    "Identifying Outliers:<br>\n",
    "\n",
    "* Calculate Descriptive Statistics: Compute basic statistics like the mean and standard deviation of the array to understand the central tendency and spread of the data.\n",
    "* Define a Threshold:\n",
    "Decide on a threshold where data points are considered outliers."
   ]
  },
  {
   "cell_type": "markdown",
   "id": "95b524ba",
   "metadata": {},
   "source": [
    "### Q.33 How do you remove missing or null values from a NumPy array?\n",
    "Removing missing or null values from NumPy array we can use boolean indexing or the numpy.isnan() function to create a mask that identifies the missing values."
   ]
  },
  {
   "cell_type": "markdown",
   "id": "b07ad655",
   "metadata": {},
   "source": [
    "### Q.34 What is the difference between slicing and indexing in NumPy?\n",
    "In NumPy, both slicing and indexing are fundamental operations for accessing and manipulating elements in arrays, but there are some main difference are avialable.<br>\n",
    "#### slicing\n",
    "* Slicing is the process of extracting a portion or a subset of elements from a NumPy array by specifying a range or slice of indices.\n",
    "* We can use slicing to create a new array that contains a contiguous subset of elements from the original array.\n",
    "* Slicing involves using a colon : inside square brackets to specify a range of indices.\n",
    "\n",
    "#### indexing\n",
    "* Indexing refers to the process of accessing individual elements or subsets of elements from a NumPy array using specific indices or index values.\n",
    "* You can use indexing to retrieve a single element from an array or to access multiple elements at specific positions.\n",
    "* Indexing typically involves using square brackets [] and providing one or more index values separated by commas (for multidimensional arrays).<br>\n",
    "In summary, indexing is used to access individual or specific elements from an array, while slicing is used to create a new array that contains a contiguous subset of elements from the original array based on a specified range of indices."
   ]
  },
  {
   "cell_type": "markdown",
   "id": "01dc03ea",
   "metadata": {},
   "source": [
    "### Q.35 How do you compute the Fourier transform of a signal using NumPy?\n",
    "To compute the Fourier transform of a signal using NumPy we will use numpy.fft module that provides functions for various types of Fourier transforms. for computing the Fourier transform of a signal we use the Fast Fourier Transform (FFT) algorithm. Here’s a step-by-step guide on how to do it."
   ]
  },
  {
   "cell_type": "code",
   "execution_count": 75,
   "id": "59db7ab4",
   "metadata": {},
   "outputs": [],
   "source": [
    "t = np.linspace(0, 1, 1000, endpoint=False)  # Time vector\n",
    "signal = np.sin(2 * np.pi * 5 * t) \n",
    "\n",
    "# Compute the FFT of the signal\n",
    "fft_result = np.fft.fft(signal)"
   ]
  },
  {
   "cell_type": "code",
   "execution_count": 76,
   "id": "81b557ea",
   "metadata": {},
   "outputs": [
    {
     "data": {
      "text/plain": [
       "array([-4.80432007e-14+0.00000000e+00j,  1.01013288e-14+1.98729921e-14j,\n",
       "       -8.34458282e-14+7.80818947e-14j, -1.04085109e-13-7.28306304e-14j,\n",
       "        3.20386773e-14-2.65968515e-14j, -1.50492432e-13-5.00000000e+02j,\n",
       "        5.82871889e-15-7.95300444e-14j, -4.45732035e-15-2.79507026e-14j,\n",
       "       -1.32901809e-14-4.87668253e-14j, -2.74337758e-14+9.18627794e-15j,\n",
       "        6.76884068e-15-7.17465710e-14j,  5.38884761e-14-4.08792527e-14j,\n",
       "       -4.65620855e-14+1.17490662e-13j, -8.04806244e-14-1.29075344e-13j,\n",
       "        4.86322482e-14-6.65598906e-14j, -1.66160778e-14-2.23102749e-14j,\n",
       "        3.80398647e-14-2.22303555e-14j,  1.33162376e-14-1.08176845e-14j,\n",
       "        3.09107869e-14-1.95961349e-14j, -5.77683296e-14+4.41152795e-14j,\n",
       "        2.22543713e-14-7.38604014e-14j,  2.58920152e-14-3.79184238e-14j,\n",
       "        5.13653469e-15+4.49597827e-14j,  1.37115465e-14-1.88044010e-14j,\n",
       "        5.76459619e-15+1.82798612e-14j,  1.40160589e-14-1.38537998e-14j,\n",
       "       -2.20915262e-14+2.68050098e-14j,  9.95801011e-15-5.21360420e-14j,\n",
       "        5.98219561e-15+1.54250548e-14j, -1.82133403e-14+4.12734625e-14j,\n",
       "       -1.28093012e-15-7.56096705e-15j, -4.82989164e-17-1.85379381e-14j,\n",
       "       -2.05174826e-14-6.51289997e-15j, -2.06576653e-14+2.65903329e-15j,\n",
       "        7.59680975e-15-1.61966466e-14j,  1.84983795e-14-2.48689958e-14j,\n",
       "       -4.73890387e-14+1.63257588e-14j,  1.14772435e-15-3.86390504e-14j,\n",
       "       -2.12850003e-14-8.22561927e-15j,  4.54993661e-15-1.21567452e-14j,\n",
       "        6.40608354e-15-1.23930562e-14j,  2.39795995e-14-1.58384053e-14j,\n",
       "        6.42326779e-15+1.01211559e-15j, -2.56739397e-14+1.01571065e-14j,\n",
       "        1.23452262e-14-3.39758647e-14j,  1.22203446e-14-8.31726432e-15j,\n",
       "       -3.63889428e-15-1.41177013e-15j,  7.29523549e-15+3.07340861e-15j,\n",
       "        3.21411901e-15-1.75426979e-15j, -4.12871703e-15+1.83340280e-15j,\n",
       "       -1.95833825e-14-7.14717766e-15j,  1.41878973e-14-2.82131511e-15j,\n",
       "        9.63188119e-15+6.63314990e-15j, -2.03056013e-14+1.95129637e-14j,\n",
       "        1.12501254e-14-6.69287933e-15j, -9.77668784e-15-5.85391203e-15j,\n",
       "        2.93606399e-15-1.34194648e-14j, -2.38303347e-14-7.66446262e-15j,\n",
       "        3.11622277e-14-1.31330575e-14j, -8.04187372e-15-3.25407390e-16j,\n",
       "       -1.44052067e-14-8.11773235e-15j, -1.28561720e-15-8.27353861e-15j,\n",
       "       -5.17960412e-15+3.42368868e-15j, -3.26482386e-15-1.25723595e-15j,\n",
       "        7.90052937e-15-6.51270074e-15j,  1.36517027e-14-6.09896461e-15j,\n",
       "        5.36085313e-15+2.34782218e-17j, -2.50342692e-14+8.97129354e-15j,\n",
       "        2.83771274e-14-1.18539487e-14j, -7.15050966e-15-6.45094803e-15j,\n",
       "        3.00139531e-15-1.10761703e-14j, -4.36168803e-15+6.65317768e-15j,\n",
       "        2.93130659e-15+6.55016455e-15j, -6.18289125e-15+1.60663914e-15j,\n",
       "       -1.48843770e-14-9.31824693e-15j,  2.37251194e-14-7.27456402e-15j,\n",
       "       -2.76905804e-15+5.29426525e-15j, -4.93966269e-15+8.00018615e-15j,\n",
       "       -2.99052297e-15+1.87738674e-15j, -7.52250025e-15+3.34592941e-15j,\n",
       "       -1.23671121e-14-5.88419556e-15j, -1.32388109e-14-1.09911525e-14j,\n",
       "        1.18847857e-14-2.18043180e-15j, -4.56650229e-15+6.25499971e-17j,\n",
       "       -1.42070300e-14-1.39104898e-14j,  9.96684921e-15+1.81388189e-16j,\n",
       "       -1.60611437e-14-1.07281377e-14j,  8.72574810e-16-6.37692208e-16j,\n",
       "       -1.94163570e-14-1.02345767e-14j,  1.89429402e-14-1.58227351e-14j,\n",
       "       -5.12061481e-15-5.63401147e-15j, -8.23937379e-15-5.29070528e-15j,\n",
       "        1.11326255e-14-1.03300890e-15j, -1.39266097e-15-6.38277329e-15j,\n",
       "        4.04674108e-15-1.22832695e-14j, -1.80070327e-15+7.76316421e-15j,\n",
       "       -6.20867485e-15+2.47635754e-15j, -4.78790639e-15+8.67848450e-15j,\n",
       "       -2.07354968e-14-2.40834740e-14j,  8.45739508e-15-6.13650662e-15j,\n",
       "       -8.43453489e-16-9.14062056e-15j,  3.41124818e-15+1.38256977e-14j,\n",
       "       -4.24924806e-15-4.42170894e-15j,  5.13682320e-16+1.20647254e-14j,\n",
       "       -1.33410201e-14-9.40686463e-15j,  3.89902466e-15-4.10918244e-15j,\n",
       "       -9.04036662e-15+2.77050736e-15j, -3.12574992e-15+3.93415304e-15j,\n",
       "       -2.43415573e-14-5.14302996e-15j,  1.70874093e-14+1.70659619e-14j,\n",
       "       -7.26289882e-14-2.83551843e-14j,  4.55641284e-15-3.56718764e-14j,\n",
       "        6.62213605e-14-4.01371895e-14j, -1.14843807e-14+1.49301222e-14j,\n",
       "        8.17453887e-15-2.98458041e-15j,  2.75708304e-15-8.44524546e-15j,\n",
       "        7.11394352e-16-1.00530374e-14j, -4.96661607e-15-1.61657677e-14j,\n",
       "       -8.27989806e-15+5.72553071e-15j,  2.20352889e-14+8.91849682e-16j,\n",
       "       -5.79504966e-14-1.11196181e-14j, -4.51225824e-15-3.61431716e-14j,\n",
       "        8.03481363e-14-3.15447811e-14j, -1.91119308e-14+4.36233492e-15j,\n",
       "        2.53839483e-14-4.23289832e-15j,  3.19892131e-15+2.46094885e-15j,\n",
       "        1.14062771e-14-6.42781834e-15j, -6.77714198e-15+2.91750664e-15j,\n",
       "        7.38491495e-15-1.33980590e-14j,  3.14802839e-15+2.23190679e-15j,\n",
       "        1.24167657e-14+8.47976306e-15j, -4.22565083e-15-1.14397919e-14j,\n",
       "        1.61230706e-14-3.84829306e-15j, -2.07211804e-15+1.94897037e-14j,\n",
       "       -7.95633649e-15-4.56022982e-15j,  2.70972843e-15-4.73774302e-15j,\n",
       "        3.17591488e-15-6.93505109e-15j,  1.87623260e-15+1.26690384e-14j,\n",
       "        2.56757679e-15-1.68363431e-14j, -7.96657431e-16+1.06249427e-14j,\n",
       "        3.26865786e-15-4.59710779e-15j,  1.40163764e-15-1.02384278e-15j,\n",
       "        1.15949914e-14-7.42245079e-15j,  5.54876350e-15+1.75455154e-14j,\n",
       "       -1.14062412e-14+5.32022200e-15j,  1.02937180e-15-1.30363936e-14j,\n",
       "        1.23616668e-15-5.39607692e-15j,  2.69391825e-17+1.01816126e-14j,\n",
       "        2.46414531e-15-4.38403545e-15j,  2.83515062e-16+9.45839579e-15j,\n",
       "       -2.53240429e-15-6.33114764e-16j, -5.84827486e-15+4.91915640e-15j,\n",
       "       -2.42568569e-15-1.46592639e-14j, -2.12323734e-15+1.27913798e-15j,\n",
       "       -7.94798076e-15+3.10210515e-15j, -1.02894117e-14-1.48022730e-14j,\n",
       "        4.57409274e-15+2.00059126e-15j,  2.10886974e-16-8.15240056e-15j,\n",
       "       -3.96896954e-15-4.99950515e-15j,  7.43479741e-15-1.55146274e-16j,\n",
       "        3.04782220e-16+2.37259087e-15j, -2.00405323e-16-2.54680734e-15j,\n",
       "        7.57735667e-15-1.03735885e-14j, -2.51197823e-15-1.32531383e-16j,\n",
       "       -1.80156694e-15+2.59200621e-15j,  9.02482445e-16-1.25258362e-14j,\n",
       "        1.31967405e-14+3.11654944e-15j,  4.08289425e-15+9.82747102e-16j,\n",
       "       -5.91020887e-15+2.61595401e-15j,  3.75471738e-15-1.21161290e-14j,\n",
       "       -2.12791553e-15+3.44494317e-15j, -2.11804313e-15-3.30366642e-15j,\n",
       "        9.95266836e-15-5.84140365e-16j,  3.84413114e-16-1.24056214e-15j,\n",
       "        3.17042857e-16+2.04363445e-15j, -3.74068653e-15-9.88659382e-16j,\n",
       "        9.61243294e-15-2.57876516e-15j, -5.75304810e-16+1.95297157e-15j,\n",
       "       -7.79922272e-15+3.99531136e-15j,  4.02635164e-15-5.05718008e-15j,\n",
       "        1.63942684e-15+1.32899247e-15j, -9.93673728e-15-5.19434636e-15j,\n",
       "        3.09234708e-15+2.43000871e-15j,  9.98997741e-15+8.81080161e-16j,\n",
       "       -9.32800048e-15+3.62314957e-15j, -2.52785686e-15-2.11836916e-15j,\n",
       "        8.10209498e-16-8.57835421e-15j, -1.16239042e-14+6.19433858e-15j,\n",
       "       -9.77341559e-15-3.24203943e-15j,  9.14488923e-15-1.99156605e-15j,\n",
       "        5.23147661e-15-2.57109352e-15j, -1.80680132e-15+1.72862227e-15j,\n",
       "       -1.61862317e-16+4.99167511e-15j,  1.02080360e-14+4.18466026e-15j,\n",
       "       -1.57155753e-14+1.87917673e-15j, -1.74555800e-14+2.84217094e-14j,\n",
       "       -5.66503954e-15-2.13992139e-17j,  1.35857322e-16-7.12772327e-16j,\n",
       "       -1.12090135e-14+3.15618708e-16j, -1.99547086e-15-4.92688288e-15j,\n",
       "        4.86657410e-15-6.54203185e-15j, -2.35365422e-15+3.68968595e-15j,\n",
       "       -6.74168099e-15-3.62727975e-15j,  3.60415606e-15-2.03814410e-15j,\n",
       "       -2.40825307e-14+1.24587552e-16j, -1.06569320e-15-1.70957316e-14j,\n",
       "        1.25552909e-14+6.82026307e-18j,  1.07497205e-14-2.71966770e-15j,\n",
       "       -1.70459642e-15-1.21954679e-15j, -3.15256312e-15-3.96998834e-15j,\n",
       "        6.90090113e-15+1.71120303e-16j, -8.33477774e-15+6.37351398e-15j,\n",
       "        1.13530825e-15-7.29790789e-15j, -3.05845020e-16-4.60756762e-15j,\n",
       "       -1.08636589e-14+6.11467958e-17j, -7.66671776e-15-2.71236850e-14j,\n",
       "        1.84402684e-14-3.93827789e-15j,  5.70909107e-15-2.91828171e-15j,\n",
       "        3.44557595e-15-1.62354500e-15j,  6.24869408e-15-8.26621185e-15j,\n",
       "        3.99224815e-15+1.88704106e-15j, -5.59533920e-15+1.09189411e-14j,\n",
       "       -3.53157750e-15+8.33530857e-15j,  1.24669172e-15-8.53690622e-15j,\n",
       "        4.72335378e-15-3.63905020e-15j, -2.31737963e-14-2.67847940e-15j,\n",
       "       -1.38091651e-14+8.31878842e-15j, -8.43954075e-15-4.76191585e-14j,\n",
       "        1.79675468e-14+1.44348105e-14j,  1.24674384e-14-9.65589030e-15j,\n",
       "       -2.04116092e-15-1.66658387e-14j, -1.00463456e-15+8.03410215e-15j,\n",
       "       -9.04723331e-15+8.38957784e-15j,  1.44945043e-14-1.46179013e-15j,\n",
       "        1.86513172e-15-6.74690409e-15j, -1.11232840e-14-6.10968364e-15j,\n",
       "       -1.09616951e-14+1.19993421e-14j,  2.74625158e-15-4.50804106e-14j,\n",
       "        2.68810044e-14+1.75235214e-14j,  1.08718260e-14-8.10291589e-15j,\n",
       "        3.65566148e-15-1.17806173e-14j, -4.10761030e-15+7.30397220e-15j,\n",
       "        5.31848993e-16-2.78123300e-15j,  1.44667171e-15-5.14497089e-15j,\n",
       "        8.52400218e-15-4.95080069e-16j, -9.98608304e-15+8.82608755e-15j,\n",
       "        6.36618715e-15-4.06788418e-15j,  6.14446992e-15-1.56563416e-15j,\n",
       "        1.01456458e-14+9.84660201e-16j,  1.60121841e-15+1.00291399e-14j,\n",
       "       -1.64975601e-15+3.02535774e-15j,  2.65652030e-15+5.39943120e-15j,\n",
       "        2.53271525e-15+8.55498239e-16j, -8.55501749e-15-9.50451731e-15j,\n",
       "        8.46410817e-15-5.51165286e-16j, -5.05696356e-17+5.55834256e-15j,\n",
       "       -1.09689686e-15-4.72103788e-15j,  3.87927255e-15+1.87981209e-15j,\n",
       "        2.45235916e-15-4.29855935e-16j, -1.26656488e-15+1.91004885e-15j,\n",
       "       -5.71817110e-15-4.54065391e-15j,  3.79573868e-15-4.18383466e-17j,\n",
       "       -7.44249337e-16+4.97274133e-15j, -7.98650914e-16-6.32333695e-15j,\n",
       "        4.99565983e-15+6.44378115e-15j,  2.49916492e-15+5.66752408e-15j,\n",
       "       -7.29132189e-15-1.89224822e-15j,  4.11111440e-15-7.75436385e-15j,\n",
       "       -1.68593934e-15+2.71883889e-15j, -3.47145949e-16-3.12889028e-15j,\n",
       "       -6.98567467e-15-6.31642261e-15j,  2.29383891e-15-5.95143482e-15j,\n",
       "       -9.29572785e-16-1.57395583e-15j,  3.99957727e-15-6.58061613e-15j,\n",
       "        2.67715126e-15+4.42856054e-15j,  5.58925225e-15+2.05152382e-14j,\n",
       "       -7.73257380e-15-4.08999704e-16j,  9.62508698e-16-1.73097030e-14j,\n",
       "       -7.51591340e-16+3.61742570e-15j, -9.56979659e-16+2.31053022e-15j,\n",
       "       -2.60904231e-15-4.34228147e-15j,  8.10509176e-16+9.71568074e-16j,\n",
       "        3.97418455e-15-3.23057554e-15j, -2.62759479e-15+8.10728584e-16j,\n",
       "        7.24898011e-15-4.39685393e-15j,  1.47928379e-16+2.08207065e-15j,\n",
       "       -5.45718894e-15-3.46457929e-15j,  4.13524750e-15-1.52559845e-14j,\n",
       "        5.44921310e-15-7.12451422e-16j, -1.80156825e-15-3.10201058e-15j,\n",
       "        5.53850612e-15-4.39008497e-15j,  1.17837634e-14+3.67041844e-15j,\n",
       "        5.77875724e-15+1.46723376e-15j, -5.97217576e-15+1.30543208e-14j,\n",
       "        3.77257748e-15-5.36734702e-15j, -3.37667922e-15+3.05578637e-15j,\n",
       "       -1.78512872e-15+8.46870892e-16j,  7.48096319e-15+4.79209880e-15j,\n",
       "        1.15725053e-14-4.46398160e-15j, -1.11753293e-14+1.20555808e-14j,\n",
       "       -6.52225036e-15-7.64771814e-15j, -6.87878494e-15+3.30074273e-15j,\n",
       "        1.99918936e-15+3.44990090e-15j,  4.07273251e-15-8.87066345e-16j,\n",
       "       -1.39830729e-15-8.95394591e-15j, -5.43782083e-15-5.26031662e-16j,\n",
       "       -4.99873389e-15+4.05656498e-16j,  1.02034559e-14+5.78232357e-15j,\n",
       "        1.12423947e-14-8.03950469e-15j, -1.57810622e-15+8.67676810e-15j,\n",
       "       -9.52139562e-15-4.54897575e-15j, -5.75144410e-15+5.99682632e-16j,\n",
       "       -8.36537220e-15+3.98571141e-15j, -4.26755219e-15+1.94951580e-15j,\n",
       "       -3.18606047e-15-5.79342583e-15j,  1.80778306e-15+1.62456581e-15j,\n",
       "       -6.53345749e-15-2.12242754e-16j,  8.18003775e-16+6.20213111e-15j,\n",
       "       -6.62951831e-15-4.78231777e-15j, -7.42882479e-16+8.72049962e-17j,\n",
       "       -3.39524412e-14-4.33612765e-15j,  4.76254491e-15-4.72470274e-14j,\n",
       "        2.45925046e-14+1.70231769e-15j, -8.84230732e-16+1.24463931e-15j,\n",
       "        3.86187730e-15+7.34920226e-16j,  6.42835785e-15+6.06718175e-16j,\n",
       "       -1.22971359e-15+2.17190062e-15j,  7.38056519e-16-4.39764094e-16j,\n",
       "       -5.66218652e-15-1.73473956e-15j,  7.49942631e-17+8.36169427e-15j,\n",
       "       -3.19311375e-14-9.96339967e-15j, -3.46749904e-15-4.59193851e-14j,\n",
       "        3.44742740e-14-5.24654728e-15j,  5.96798042e-15+3.26321539e-15j,\n",
       "        1.03298107e-14-6.64192655e-15j,  3.54325127e-15+2.50570844e-15j,\n",
       "        3.45232025e-15+2.18387712e-15j,  6.07696674e-15+4.00085678e-15j,\n",
       "       -1.05809124e-15-3.96912972e-15j,  6.45176562e-15+7.51925487e-15j,\n",
       "       -7.51295540e-15+1.05709766e-16j,  9.52385497e-15+2.04425343e-15j,\n",
       "       -1.65080390e-14-8.28048025e-15j,  1.90680136e-15-1.11650067e-14j,\n",
       "        2.39353364e-14-1.84938126e-14j, -4.17190462e-15+1.07281310e-14j,\n",
       "        7.28407970e-15+3.90546375e-17j, -3.22694497e-15+1.71470906e-15j,\n",
       "       -3.25903385e-15-6.03484494e-15j,  7.78474565e-15-3.87079536e-15j,\n",
       "       -3.41470849e-15+1.49189447e-15j,  1.48086565e-14-3.51754293e-15j,\n",
       "       -1.62495057e-14-5.18866827e-15j, -3.86053049e-15-7.72355187e-15j,\n",
       "        2.41255200e-14-1.22850915e-14j, -2.60068029e-14+1.22102077e-14j,\n",
       "        1.65021555e-14-3.27483844e-16j, -5.56910926e-15+1.26632192e-15j,\n",
       "        4.93736069e-15-6.17388717e-15j, -8.17383114e-16+4.69185105e-15j,\n",
       "        6.66610059e-15-5.34673725e-15j,  2.56937984e-15-1.44981647e-15j,\n",
       "        6.89634415e-15-3.01877041e-15j,  4.65032329e-16-3.33390019e-15j,\n",
       "        6.57619130e-15-4.05171303e-16j,  8.39908134e-15+6.84208710e-15j,\n",
       "       -1.67880440e-15+2.85978367e-15j, -2.56639379e-15-1.08698084e-15j,\n",
       "        1.86316074e-15-1.56066633e-15j, -7.58574965e-16+3.72665635e-16j,\n",
       "        8.80775292e-15-1.03288242e-15j, -1.60010148e-15+1.21994136e-14j,\n",
       "        1.99323662e-15-4.35762573e-15j, -3.18564409e-17+3.43354311e-15j,\n",
       "        3.28228180e-15-4.57540505e-15j,  9.54434810e-15+5.06137221e-15j,\n",
       "       -1.22701690e-14-7.49723671e-17j,  1.08813689e-15-7.21919403e-15j,\n",
       "       -4.13214953e-15+4.78198643e-16j,  4.64255922e-15-4.79547785e-15j,\n",
       "        3.27976859e-15+1.23573726e-15j, -3.53821746e-15+3.74622306e-15j,\n",
       "       -5.19541724e-16+1.30620828e-15j, -5.07847871e-15+3.74232329e-15j,\n",
       "       -3.05402995e-15-1.89886784e-15j,  2.34209504e-15+5.71264128e-15j,\n",
       "       -9.32333071e-16-2.25030274e-15j, -1.11308454e-15-1.09659622e-14j,\n",
       "        1.38395677e-15-3.05855895e-15j,  6.80743846e-15+2.82335441e-15j,\n",
       "       -1.42879383e-15-1.12270201e-15j,  6.79195841e-15-4.88944510e-15j,\n",
       "       -3.09789113e-15-2.34847831e-15j,  2.00924486e-15-4.97157922e-15j,\n",
       "        3.01597199e-15+3.14705335e-15j, -1.09301923e-14+0.00000000e+00j,\n",
       "        2.90109534e-15+4.68437639e-15j, -2.25846206e-15-6.70078776e-15j,\n",
       "        6.32886173e-15+7.63531226e-16j,  2.86234961e-15+5.09145237e-15j,\n",
       "       -1.58801470e-15-5.41125325e-16j, -5.54751569e-16+6.18291159e-15j,\n",
       "       -4.12339568e-15-7.72386898e-15j, -5.96524722e-15-4.75112714e-15j,\n",
       "        3.58531797e-15+6.72109396e-16j, -4.04473418e-15-1.31476599e-14j,\n",
       "        5.29358560e-15+3.51366555e-15j, -3.88103963e-15+6.45140469e-16j,\n",
       "        6.24587413e-15+2.01583635e-15j,  3.16289109e-15-3.28693060e-16j,\n",
       "       -1.70024494e-16+1.55362856e-15j,  3.37974384e-16+1.28802583e-14j,\n",
       "        5.95551275e-15-2.35584341e-15j,  1.12996154e-15-4.40530493e-15j,\n",
       "        1.10882734e-14+2.67092463e-15j,  2.71795671e-15+5.19617768e-15j,\n",
       "       -1.25173448e-14+2.29458584e-15j,  2.50078308e-15+5.49596076e-15j,\n",
       "       -2.96696654e-15-1.80172275e-15j,  6.97241990e-16+2.12760820e-15j,\n",
       "       -1.09465751e-14+2.70477352e-15j, -1.28562458e-15+1.59753181e-15j,\n",
       "       -9.26690421e-17-2.86241409e-15j, -3.66432880e-15+6.06415318e-15j,\n",
       "        1.76922129e-15+3.79587806e-15j, -3.46527211e-15+1.09005857e-14j,\n",
       "       -2.39082187e-14+6.81247052e-16j,  2.56765060e-15+1.68479946e-14j,\n",
       "       -1.56130856e-14-4.79131023e-15j,  1.46616274e-15+3.06121086e-15j,\n",
       "       -2.36359170e-14-2.29424876e-15j, -2.53188738e-16-4.33718401e-15j,\n",
       "       -1.96083128e-14-6.18975304e-15j,  1.55307025e-15+2.67467779e-15j,\n",
       "       -3.41079771e-14-3.26895309e-15j,  7.65469545e-15+4.72418649e-15j,\n",
       "       -9.40974123e-14-3.65609728e-15j, -4.51971414e-16-1.34897905e-13j,\n",
       "        7.99152628e-14-6.58506838e-15j,  2.55902139e-15+5.29845009e-15j,\n",
       "        1.96345800e-14-3.86823629e-15j,  3.95477549e-15+4.97655824e-15j,\n",
       "        8.26591467e-15-5.98396465e-15j,  3.09114269e-15+6.94240603e-15j,\n",
       "       -1.65304452e-14-4.81460339e-15j,  5.13214650e-15+2.72335446e-15j,\n",
       "       -7.33061075e-14-3.36743274e-15j,  3.50791390e-15-1.34927808e-13j,\n",
       "        9.72802225e-14-8.43946494e-15j,  1.60573979e-16+4.43813063e-15j,\n",
       "        4.07889870e-14-3.20729519e-15j, -6.96121543e-15-2.87477900e-15j,\n",
       "        3.28736928e-14-8.21199636e-15j,  8.49899866e-15+8.67854005e-15j,\n",
       "        1.26812269e-14-4.28556035e-15j, -5.42331752e-15-1.69974684e-15j,\n",
       "        9.58560521e-15-2.60518445e-15j, -1.57009283e-15+4.59121371e-15j,\n",
       "        9.82976468e-15-3.07044680e-16j,  2.60928778e-15-2.15194547e-14j,\n",
       "        1.99167320e-14+3.49692147e-15j,  7.84611314e-15+1.80937869e-14j,\n",
       "        1.67781615e-14-8.62675055e-15j,  1.33230686e-14+8.75125610e-15j,\n",
       "        5.71158811e-15-9.55369474e-15j, -3.03583742e-15-2.23339219e-15j,\n",
       "        4.12907924e-15-2.94089513e-15j, -7.60048400e-15+8.68987700e-15j,\n",
       "        2.40494406e-15+3.90962915e-15j,  4.28513169e-15-2.14863343e-14j,\n",
       "        1.32508798e-14+7.79401986e-15j,  8.43436988e-15+6.39266546e-15j,\n",
       "        8.26288832e-15-4.88542840e-15j,  6.18230116e-15+5.26052531e-15j,\n",
       "        6.88190997e-15-8.49287503e-15j, -5.15249860e-15+1.41663431e-14j,\n",
       "        9.11989012e-15-8.41083442e-15j,  9.23142087e-15+2.83197619e-15j,\n",
       "        2.00003492e-15-5.11706029e-15j,  6.38477579e-15-1.03012644e-15j,\n",
       "        8.40334710e-15+8.01156680e-16j,  1.05588050e-14+9.14897461e-15j,\n",
       "       -3.59416782e-15-6.06860800e-15j,  3.45162377e-15+7.20028120e-16j,\n",
       "        2.56892913e-15+2.21627251e-15j,  8.09589112e-17-8.02147834e-15j,\n",
       "        1.28481778e-14-1.37879003e-15j,  6.35858218e-15+7.36079921e-15j,\n",
       "        1.35220801e-15-3.81893215e-15j,  7.12099603e-15+7.79225348e-15j,\n",
       "        7.83754180e-15-4.84109687e-15j,  8.92008407e-15+2.76853340e-14j,\n",
       "       -9.80894455e-15-5.35910819e-15j,  1.35746227e-14-8.68397523e-15j,\n",
       "       -6.87627164e-16+3.83523041e-15j,  7.59794120e-15+2.32561049e-15j,\n",
       "        3.91485282e-15+2.71790907e-15j,  9.06240462e-15+5.14664502e-15j,\n",
       "       -6.23598912e-15+2.70269874e-15j,  9.36836847e-15+9.69914684e-16j,\n",
       "        1.27845721e-15+0.00000000e+00j,  3.35760570e-15+3.89836788e-15j,\n",
       "       -6.23598912e-15-2.70269874e-15j,  9.51571401e-15-5.37629516e-15j,\n",
       "        3.91485282e-15-2.71790907e-15j,  7.75944799e-15-8.79577194e-16j,\n",
       "       -6.87627164e-16-3.83523041e-15j,  8.94155701e-15+1.11014459e-14j,\n",
       "       -9.80894455e-15+5.35910819e-15j,  9.68096095e-15-1.51121548e-14j,\n",
       "        7.83754180e-15+4.84109687e-15j,  8.39254850e-15-6.41961260e-15j,\n",
       "        1.35220801e-15+3.81893215e-15j,  1.08536757e-14-8.11143431e-15j,\n",
       "        1.28481778e-14+1.37879003e-15j, -1.08736637e-14+5.70814935e-15j,\n",
       "        2.56892913e-15-2.21627251e-15j,  8.22430255e-15-5.99801130e-15j,\n",
       "       -3.59416782e-15+6.06860800e-15j,  1.36539515e-14-1.24671790e-14j,\n",
       "        8.40334710e-15-8.01156680e-16j,  4.53377488e-15-3.75831921e-15j,\n",
       "        2.00003492e-15+5.11706029e-15j,  1.22649787e-14-4.55460724e-16j,\n",
       "        9.11989012e-15+8.41083442e-15j,  9.19475319e-15+2.92321296e-16j,\n",
       "        6.88190997e-15+8.49287503e-15j,  7.98758103e-15-7.74443448e-15j,\n",
       "        8.26288832e-15+4.88542840e-15j,  9.97501153e-15-5.37738179e-15j,\n",
       "        1.32508798e-14-7.79401986e-15j,  1.00950067e-14+3.15591338e-14j,\n",
       "        2.40494406e-15-3.90962915e-15j,  1.82390328e-16-2.05814770e-14j,\n",
       "        4.12907924e-15+2.94089513e-15j,  7.48663888e-16+2.88013193e-15j,\n",
       "        5.71158811e-15+9.55369474e-15j,  1.17153126e-14-2.24681886e-15j,\n",
       "        1.67781615e-14+8.62675055e-15j,  3.82818740e-15-1.92228502e-14j,\n",
       "        1.99167320e-14-3.49692147e-15j,  3.13988370e-16+2.74895245e-14j,\n",
       "        9.82976468e-15+3.07044680e-16j, -1.51869635e-15-5.66863871e-15j,\n",
       "        9.58560521e-15+2.60518445e-15j, -5.58028742e-15+3.98031133e-15j,\n",
       "        1.26812269e-14+4.28556035e-15j,  2.36028580e-15-1.37623421e-14j,\n",
       "        3.28736928e-14+8.21199636e-15j, -4.29221644e-15+5.07339140e-15j,\n",
       "        4.07889870e-14+3.20729519e-15j,  1.37197724e-15-2.57438294e-15j,\n",
       "        9.72802225e-14+8.43946494e-15j, -1.14680137e-16+1.31829990e-13j,\n",
       "       -7.33061075e-14+3.36743274e-15j, -5.29793995e-16-1.45595560e-14j,\n",
       "       -1.65304452e-14+4.81460339e-15j, -4.70364040e-15-5.99061214e-15j,\n",
       "        8.26591467e-15+5.98396465e-15j,  1.01676035e-15-5.31784909e-15j,\n",
       "        1.96345800e-14+3.86823629e-15j,  4.51663425e-15-2.92021821e-15j,\n",
       "        7.99152628e-14+6.58506838e-15j, -1.08042553e-15+1.42778196e-13j,\n",
       "       -9.40974123e-14+3.65609728e-15j, -1.72136931e-15-1.15451623e-14j,\n",
       "       -3.41079771e-14+3.26895309e-15j,  9.90822097e-16-2.24775987e-15j,\n",
       "       -1.96083128e-14+6.18975304e-15j, -1.23625617e-15+5.31157144e-15j,\n",
       "       -2.36359170e-14+2.29424876e-15j,  8.85006548e-16+7.14514504e-15j,\n",
       "       -1.56130856e-14+4.79131023e-15j,  2.98332789e-15-2.81391981e-15j,\n",
       "       -2.39082187e-14-6.81247052e-16j, -3.04221062e-15-1.01960729e-14j,\n",
       "        1.76922129e-15-3.79587806e-15j, -3.35299540e-15-4.50839915e-15j,\n",
       "       -9.26690421e-17+2.86241409e-15j,  5.29504741e-15+9.05374112e-15j,\n",
       "       -1.09465751e-14-2.70477352e-15j, -3.03208805e-15-3.39995366e-15j,\n",
       "       -2.96696654e-15+1.80172275e-15j,  3.75684987e-15-4.96910098e-15j,\n",
       "       -1.25173448e-14-2.29458584e-15j,  2.40654536e-15-4.34669916e-15j,\n",
       "        1.10882734e-14-2.67092463e-15j, -5.91667459e-15+1.63564059e-15j,\n",
       "        5.95551275e-15+2.35584341e-15j, -3.04316178e-15+3.74205230e-16j,\n",
       "       -1.70024494e-16-1.55362856e-15j,  7.30510386e-16+1.28670813e-15j,\n",
       "        6.24587413e-15-2.01583635e-15j, -2.92335163e-15-1.38985996e-15j,\n",
       "        5.29358560e-15-3.51366555e-15j,  6.70600393e-15+0.00000000e+00j,\n",
       "        3.58531797e-15-6.72109396e-16j, -7.47628020e-15+8.03395103e-15j,\n",
       "       -4.12339568e-15+7.72386898e-15j, -2.92300955e-15-4.91876227e-15j,\n",
       "       -1.58801470e-15+5.41125325e-16j,  3.51109961e-15-7.18857832e-15j,\n",
       "        6.32886173e-15-7.63531226e-16j, -7.85407145e-15+5.78418430e-15j,\n",
       "        2.90109534e-15-4.68437639e-15j, -4.04473418e-15-1.06319478e-15j,\n",
       "        3.01597199e-15-3.14705335e-15j,  3.60011057e-15+9.03945168e-15j,\n",
       "       -3.09789113e-15+2.34847831e-15j,  5.65428311e-15+7.10835930e-15j,\n",
       "       -1.42879383e-15+1.12270201e-15j,  3.40243842e-15-4.55886400e-15j,\n",
       "        1.38395677e-15+3.05855895e-15j, -6.20560502e-15+1.28488886e-14j,\n",
       "       -9.32333071e-16+2.25030274e-15j,  6.44907394e-16+1.56327131e-16j,\n",
       "       -3.05402995e-15+1.89886784e-15j, -6.37592409e-15-5.38039165e-15j,\n",
       "       -5.19541724e-16-1.30620828e-15j, -3.33109884e-15-1.17852825e-15j,\n",
       "        3.27976859e-15-1.23573726e-15j,  4.83140033e-15-3.32930479e-15j,\n",
       "       -4.13214953e-15-4.78198643e-16j, -4.60743159e-16+2.41293252e-15j,\n",
       "       -1.22701690e-14+7.49723671e-17j,  7.20668545e-15-9.83520305e-15j,\n",
       "        3.28228180e-15+4.57540505e-15j, -2.92747653e-15-4.25131566e-15j,\n",
       "        1.99323662e-15+4.35762573e-15j, -1.40522740e-15-4.73472343e-15j,\n",
       "        8.80775292e-15+1.03288242e-15j,  5.29576932e-16+1.07639399e-15j,\n",
       "        1.86316074e-15+1.56066633e-15j, -1.01296221e-15+4.93648617e-15j,\n",
       "       -1.67880440e-15-2.85978367e-15j,  6.66876570e-15+3.73825674e-15j,\n",
       "        6.57619130e-15+4.05171303e-16j,  3.85526272e-15-4.54745332e-15j,\n",
       "        6.89634415e-15+3.01877041e-15j,  2.71271892e-15-6.74596632e-16j,\n",
       "        6.66610059e-15+5.34673725e-15j, -4.05653270e-16-5.99656226e-15j,\n",
       "        4.93736069e-15+6.17388717e-15j,  3.06981171e-15-1.51139135e-14j,\n",
       "        1.65021555e-14+3.27483844e-16j, -9.65554381e-15-7.39726037e-15j,\n",
       "        2.41255200e-14+1.22850915e-14j, -1.60340066e-15+5.91269219e-15j,\n",
       "       -1.62495057e-14+5.18866827e-15j,  1.28098251e-14+2.86052053e-15j,\n",
       "       -3.41470849e-15-1.49189447e-15j,  2.06690408e-15+1.24912379e-15j,\n",
       "       -3.25903385e-15+6.03484494e-15j,  4.09172621e-15+1.50156513e-15j,\n",
       "        7.28407970e-15-3.90546375e-17j, -7.06568377e-15-1.02178285e-14j,\n",
       "        2.39353364e-14+1.84938126e-14j,  1.03653447e-15+9.76372103e-15j,\n",
       "       -1.65080390e-14+8.28048025e-15j,  9.35064483e-15-8.14603470e-16j,\n",
       "       -7.51295540e-15-1.05709766e-16j,  1.81554728e-15-7.27244506e-15j,\n",
       "       -1.05809124e-15+3.96912972e-15j,  5.61761503e-15-8.10536677e-16j,\n",
       "        3.45232025e-15-2.18387712e-15j,  3.65898044e-15-4.64401351e-15j,\n",
       "        1.03298107e-14+6.64192655e-15j, -4.62960718e-15-1.19770231e-15j,\n",
       "        3.44742740e-14+5.24654728e-15j, -2.20043358e-15+3.93957424e-14j,\n",
       "       -3.19311375e-14+9.96339967e-15j, -1.20173750e-15-9.08721043e-15j,\n",
       "       -5.66218652e-15+1.73473956e-15j,  1.65896178e-15-2.59861019e-15j,\n",
       "       -1.22971359e-15-2.17190062e-15j,  1.01323206e-14+1.24355924e-14j,\n",
       "        3.86187730e-15-7.34920226e-16j, -8.33809316e-15-1.72903062e-15j,\n",
       "        2.45925046e-14-1.70231769e-15j,  5.14962414e-15+4.25912129e-14j,\n",
       "       -3.39524412e-14+4.33612765e-15j, -6.45474694e-16-2.61919509e-15j,\n",
       "       -6.62951831e-15+4.78231777e-15j,  2.66419190e-15-6.99367436e-15j,\n",
       "       -6.53345749e-15+2.12242754e-16j, -6.10020640e-15+1.00369680e-14j,\n",
       "       -3.18606047e-15+5.79342583e-15j, -5.66124683e-15-6.23623485e-16j,\n",
       "       -8.36537220e-15-3.98571141e-15j, -5.39301005e-15-4.51717262e-16j,\n",
       "       -9.52139562e-15+4.54897575e-15j, -3.85189190e-15-2.41614659e-14j,\n",
       "        1.12423947e-14+8.03950469e-15j,  5.43631791e-15-1.62278627e-15j,\n",
       "       -4.99873389e-15-4.05656498e-16j, -5.52072077e-15-1.58564572e-15j,\n",
       "       -1.39830729e-15+8.95394591e-15j,  1.57389565e-15-2.33567721e-15j,\n",
       "        1.99918936e-15-3.44990090e-15j, -5.91710865e-15-4.05294922e-15j,\n",
       "       -6.52225036e-15+7.64771814e-15j, -5.98596464e-15-1.31247891e-14j,\n",
       "        1.15725053e-14+4.46398160e-15j,  5.76690120e-15-1.91622491e-15j,\n",
       "       -1.78512872e-15-8.46870892e-16j, -3.38839861e-15-5.75847854e-16j,\n",
       "        3.77257748e-15+5.36734702e-15j, -1.50474555e-15-1.38908949e-14j,\n",
       "        5.77875724e-15-1.46723376e-15j,  2.03692479e-15-3.05090816e-15j,\n",
       "        5.53850612e-15+4.39008497e-15j,  1.23300130e-16+2.12195410e-15j,\n",
       "        5.44921310e-15+7.12451422e-16j,  3.60909087e-15+1.23978804e-14j,\n",
       "       -5.45718894e-15+3.46457929e-15j,  7.65556769e-15-9.96430975e-15j,\n",
       "        7.24898011e-15+4.39685393e-15j,  2.73721170e-15-4.33070029e-15j,\n",
       "        3.97418455e-15+3.23057554e-15j,  1.12930365e-15+1.17841912e-15j,\n",
       "       -2.60904231e-15+4.34228147e-15j, -1.78617270e-15-3.35504091e-15j,\n",
       "       -7.51591340e-16-3.61742570e-15j, -5.58505393e-15+1.39284960e-14j,\n",
       "       -7.73257380e-15+4.08999704e-16j,  2.97497130e-15-2.11357757e-15j,\n",
       "        2.67715126e-15-4.42856054e-15j,  1.88405749e-15+2.83154292e-15j,\n",
       "       -9.29572785e-16+1.57395583e-15j,  4.17792980e-15+7.74581754e-15j,\n",
       "       -6.98567467e-15+6.31642261e-15j,  2.25133895e-16-6.52065377e-15j,\n",
       "       -1.68593934e-15-2.71883889e-15j,  2.25285754e-15+2.63113349e-15j,\n",
       "       -7.29132189e-15+1.89224822e-15j,  3.10481648e-15-2.39404342e-15j,\n",
       "        4.99565983e-15-6.44378115e-15j, -1.94958903e-15+7.01744748e-15j,\n",
       "       -7.44249337e-16-4.97274133e-15j,  2.92141890e-15+1.17958264e-14j,\n",
       "       -5.71817110e-15+4.54065391e-15j,  1.67417790e-15-9.31518289e-15j,\n",
       "        2.45235916e-15+4.29855935e-16j,  8.46080734e-15-4.67118169e-15j,\n",
       "       -1.09689686e-15+4.72103788e-15j, -1.94252368e-15-5.85756471e-15j,\n",
       "        8.46410817e-15+5.51165286e-16j, -7.93763764e-15+8.49773231e-15j,\n",
       "        2.53271525e-15-8.55498239e-16j, -4.36752650e-15-4.69384383e-15j,\n",
       "       -1.64975601e-15-3.02535774e-15j, -2.22214679e-15-5.27355937e-15j,\n",
       "        1.01456458e-14-9.84660201e-16j,  9.63059716e-15+2.93785567e-15j,\n",
       "        6.36618715e-15+4.06788418e-15j,  1.80442285e-14-1.42603517e-14j,\n",
       "        8.52400218e-15+4.95080069e-16j,  1.20912602e-14+3.82296366e-15j,\n",
       "        5.31848993e-16+2.78123300e-15j, -1.47325544e-15-5.72557704e-15j,\n",
       "        3.65566148e-15+1.17806173e-14j,  1.36860985e-14+8.57273704e-15j,\n",
       "        2.68810044e-14-1.75235214e-14j,  5.28945881e-15+4.76523423e-14j,\n",
       "       -1.09616951e-14-1.19993421e-14j, -1.18508525e-15+9.44093445e-15j,\n",
       "        1.86513172e-15+6.74690409e-15j,  1.75056308e-14+4.43722432e-16j,\n",
       "       -9.04723331e-15-8.38957784e-15j, -3.06039468e-16-9.19225223e-15j,\n",
       "       -2.04116092e-15+1.66658387e-14j,  6.98571349e-15+3.05174038e-15j,\n",
       "        1.79675468e-14-1.44348105e-14j, -5.53329338e-15+4.61588206e-14j,\n",
       "       -1.38091651e-14-8.31878842e-15j, -1.96163604e-14+3.28103393e-15j,\n",
       "        4.72335378e-15+3.63905020e-15j, -1.23118765e-15+5.66899173e-15j,\n",
       "       -3.53157750e-15-8.33530857e-15j, -4.07785850e-15-1.14034171e-14j,\n",
       "        3.99224815e-15-1.88704106e-15j,  4.97450461e-15+3.59162339e-15j,\n",
       "        3.44557595e-15+1.62354500e-15j,  4.54397462e-15+4.39024565e-15j,\n",
       "        1.84402684e-14+3.93827789e-15j, -4.15760222e-15+2.79285613e-14j,\n",
       "       -1.08636589e-14-6.11467958e-17j, -3.24832267e-15-1.61448003e-16j,\n",
       "        1.13530825e-15+7.29790789e-15j, -6.99084745e-15-3.39868966e-15j,\n",
       "        6.90090113e-15-1.71120303e-16j, -5.94617829e-15+7.05560867e-15j,\n",
       "       -1.70459642e-15+1.21954679e-15j,  9.68140676e-15+1.77127968e-15j,\n",
       "        1.25552909e-14-6.82026307e-18j,  2.29679208e-15+5.68434189e-14j,\n",
       "       -2.40825307e-14-1.24587552e-16j,  3.12417611e-15+4.58523452e-15j,\n",
       "       -6.74168099e-15+3.62727975e-15j, -1.78338847e-15-4.79242427e-15j,\n",
       "        4.86657410e-15+6.54203185e-15j, -2.38585361e-15+4.36589698e-15j,\n",
       "       -1.12090135e-14-3.15618708e-16j,  2.43679849e-15-3.87989437e-15j,\n",
       "       -5.66503954e-15+2.13992139e-17j, -1.06569320e-15+1.70957316e-14j,\n",
       "       -1.57155753e-14-1.87917673e-15j,  9.21874065e-15-2.33322919e-15j,\n",
       "       -1.61862317e-16-4.99167511e-15j, -1.19470240e-15-3.46724384e-15j,\n",
       "        5.23147661e-15+2.57109352e-15j,  6.51960070e-15+6.71645819e-15j,\n",
       "       -9.77341559e-15+3.24203943e-15j, -2.70808092e-15-1.56873475e-14j,\n",
       "        8.10209498e-16+8.57835421e-15j, -1.40775395e-15+6.03432427e-16j,\n",
       "       -9.32800048e-15-3.62314957e-15j,  8.93657985e-15-1.43744609e-15j,\n",
       "        3.09234708e-15-2.43000871e-15j, -1.18710170e-14+5.27104734e-15j,\n",
       "        1.63942684e-15-1.32899247e-15j,  1.62675887e-15+9.65761849e-16j,\n",
       "       -7.79922272e-15-3.99531136e-15j,  3.74738006e-15-6.31102775e-15j,\n",
       "        9.61243294e-15+2.57876516e-15j, -4.26286396e-15+2.24556653e-15j,\n",
       "        3.17042857e-16-2.04363445e-15j,  4.55616838e-15-1.50735799e-15j,\n",
       "        9.95266836e-15+5.84140365e-16j, -3.68907601e-15+4.41286101e-15j,\n",
       "       -2.12791553e-15-3.44494317e-15j,  4.35301314e-15+1.00233955e-14j,\n",
       "       -5.91020887e-15-2.61595401e-15j,  5.89705498e-15+7.91990356e-16j,\n",
       "        1.31967405e-14-3.11654944e-15j,  1.75026358e-14+2.25162362e-14j,\n",
       "       -1.80156694e-15-2.59200621e-15j, -1.30521168e-15-5.39536183e-15j,\n",
       "        7.57735667e-15+1.03735885e-14j, -1.53160998e-15+1.86339287e-15j,\n",
       "        3.04782220e-16-2.37259087e-15j,  7.44262301e-15-2.74260324e-15j,\n",
       "       -3.96896954e-15+4.99950515e-15j,  1.06638034e-15+6.10312493e-15j,\n",
       "        4.57409274e-15-2.00059126e-15j,  4.76532316e-15+1.50502175e-14j,\n",
       "       -7.94798076e-15-3.10210515e-15j, -3.92046864e-15+7.07736149e-16j,\n",
       "       -2.42568569e-15+1.46592639e-14j, -4.40422657e-15-2.96453349e-15j,\n",
       "       -2.53240429e-15+6.33114764e-16j,  4.36233237e-15-1.06446196e-14j,\n",
       "        2.46414531e-15+4.38403545e-15j, -3.88094795e-15-1.14095526e-14j,\n",
       "        1.23616668e-15+5.39607692e-15j,  2.41663853e-15+7.52079083e-15j,\n",
       "       -1.14062412e-14-5.32022200e-15j,  2.71596739e-15-1.71796682e-14j,\n",
       "        1.15949914e-14+7.42245079e-15j,  5.48213675e-16+1.28419765e-15j,\n",
       "        3.26865786e-15+4.59710779e-15j,  2.77510429e-15-1.11273134e-14j,\n",
       "        2.56757679e-15+1.68363431e-14j,  3.24228412e-17-1.30430353e-14j,\n",
       "        3.17591488e-15+6.93505109e-15j,  6.83639258e-16+8.43477637e-15j,\n",
       "       -7.95633649e-15+4.56022982e-15j,  6.76562989e-17-1.69616018e-14j,\n",
       "        1.61230706e-14+3.84829306e-15j,  9.68899258e-16-4.88084331e-16j,\n",
       "        1.24167657e-14-8.47976306e-15j,  1.61141326e-15-2.77993456e-16j,\n",
       "        7.38491495e-15+1.33980590e-14j, -7.67360843e-15-5.72889765e-16j,\n",
       "        1.14062771e-14+6.42781834e-15j,  9.63278267e-15-4.31547287e-15j,\n",
       "        2.53839483e-14+4.23289832e-15j, -2.06316359e-14-1.85185476e-14j,\n",
       "        8.03481363e-14+3.15447811e-14j, -5.50544621e-15+3.38189185e-14j,\n",
       "       -5.79504966e-14+1.11196181e-14j,  2.35008468e-14-1.53548998e-15j,\n",
       "       -8.27989806e-15-5.72553071e-15j, -7.28172103e-15+5.12932407e-15j,\n",
       "        7.11394352e-16+1.00530374e-14j,  1.10399866e-14+1.71883632e-15j,\n",
       "        8.17453887e-15+2.98458041e-15j, -1.32793691e-14-1.81518767e-14j,\n",
       "        6.62213605e-14+4.01371895e-14j,  3.40835476e-15+4.07197223e-14j,\n",
       "       -7.26289882e-14+2.83551843e-14j,  1.52711058e-14-5.32407792e-15j,\n",
       "       -2.43415573e-14+5.14302996e-15j, -1.08351979e-14-6.76095348e-15j,\n",
       "       -9.04036662e-15-2.77050736e-15j,  1.41782842e-15-1.04302159e-15j,\n",
       "       -1.33410201e-14+9.40686463e-15j,  3.16661999e-15-6.66160546e-15j,\n",
       "       -4.24924806e-15+4.42170894e-15j,  1.13154110e-14-5.12228161e-15j,\n",
       "       -8.43453489e-16+9.14062056e-15j,  7.88913983e-15+8.61712704e-15j,\n",
       "       -2.07354968e-14+2.40834740e-14j, -5.49679380e-15-6.65458439e-15j,\n",
       "       -6.20867485e-15-2.47635754e-15j, -3.02375154e-16-3.78883109e-15j,\n",
       "        4.04674108e-15+1.22832695e-14j, -1.05247922e-14+9.35883601e-15j,\n",
       "        1.11326255e-14+1.03300890e-15j, -5.05668366e-15+1.31068372e-14j,\n",
       "       -5.12061481e-15+5.63401147e-15j,  2.02091474e-14+1.47960799e-14j,\n",
       "       -1.94163570e-14+1.02345767e-14j,  1.45685197e-15+1.54545484e-15j,\n",
       "       -1.60611437e-14+1.07281377e-14j,  1.68386627e-14+1.10768400e-14j,\n",
       "       -1.42070300e-14+1.39104898e-14j, -1.34411131e-14+3.34211016e-15j,\n",
       "        1.18847857e-14+2.18043180e-15j, -1.11527129e-14+8.84399827e-15j,\n",
       "       -1.23671121e-14+5.88419556e-15j, -6.00744510e-15-7.99267298e-15j,\n",
       "       -2.99052297e-15-1.87738674e-15j, -4.10705051e-15-1.89146535e-14j,\n",
       "       -2.76905804e-15-5.29426525e-15j,  1.42208401e-14-7.24419553e-15j,\n",
       "       -1.48843770e-14+9.31824693e-15j, -6.12677116e-15-2.47617135e-15j,\n",
       "        2.93130659e-15-6.55016455e-15j, -2.66243765e-15-6.86775667e-15j,\n",
       "        3.00139531e-15+1.10761703e-14j, -2.49403029e-15+6.90597534e-15j,\n",
       "        2.83771274e-14+1.18539487e-14j, -2.42185170e-14-9.14727671e-15j,\n",
       "        5.36085313e-15-2.34782218e-17j,  1.50571301e-14+1.02706542e-14j,\n",
       "        7.90052937e-15+6.51270074e-15j, -3.73417500e-15+8.02986570e-15j,\n",
       "       -5.17960412e-15-3.42368868e-15j, -1.93228619e-15+2.20931354e-15j,\n",
       "       -1.44052067e-14+8.11773235e-15j, -1.95751079e-15-1.40337364e-15j,\n",
       "        3.11622277e-14+1.31330575e-14j, -2.38892007e-14+4.87993032e-16j,\n",
       "        2.93606399e-15+1.34194648e-14j, -8.98930559e-15+2.28610683e-15j,\n",
       "        1.12501254e-14+6.69287933e-15j, -2.24593410e-14-1.51275847e-14j,\n",
       "        9.63188119e-15-6.63314990e-15j,  5.23916054e-15+8.91297370e-16j,\n",
       "       -1.95833825e-14+7.14717766e-15j, -3.95537942e-15-4.92565063e-16j,\n",
       "        3.21411901e-15+1.75426979e-15j,  6.12239719e-15+3.02581267e-15j,\n",
       "       -3.63889428e-15+1.41177013e-15j,  5.35278928e-15-4.11516375e-15j,\n",
       "        1.23452262e-14+3.39758647e-14j, -2.65093434e-14-7.33095368e-15j,\n",
       "        6.42326779e-15-1.01211559e-15j,  2.29749731e-14+1.49841936e-14j,\n",
       "        6.40608354e-15+1.23930562e-14j,  6.88205743e-15+9.52415218e-15j,\n",
       "       -2.12850003e-14+8.22561927e-15j,  3.94976103e-15+4.33446632e-14j,\n",
       "       -4.73890387e-14-1.63257588e-14j,  2.98693931e-14-3.09715788e-15j,\n",
       "        7.59680975e-15+1.61966466e-14j, -1.73217186e-14-1.73644840e-15j,\n",
       "       -2.05174826e-14+6.51289997e-15j, -5.66554463e-16+1.84471407e-14j,\n",
       "       -1.28093012e-15+7.56096705e-15j, -3.03968772e-14-4.99152113e-14j,\n",
       "        5.98219561e-15-1.54250548e-14j,  1.64740456e-14+4.79731422e-14j,\n",
       "       -2.20915262e-14-2.68050098e-14j,  1.43828471e-14+1.74232519e-14j,\n",
       "        5.76459619e-15-1.82798612e-14j,  1.24749363e-14+1.95455294e-14j,\n",
       "        5.13653469e-15-4.49597827e-14j,  4.28122057e-14+4.55714942e-14j,\n",
       "        2.22543713e-14+7.38604014e-14j, -6.01274330e-14-3.42344894e-14j,\n",
       "        3.09107869e-14+1.95961349e-14j,  1.05032589e-14+1.31183458e-14j,\n",
       "        3.80398647e-14+2.22303555e-14j, -1.58858708e-14+1.64138797e-14j,\n",
       "        4.86322482e-14+6.65598906e-14j, -8.53760471e-14+1.14630278e-13j,\n",
       "       -4.65620855e-14-1.17490662e-13j,  4.70579042e-14+5.88364425e-14j,\n",
       "        6.76884068e-15+7.17465710e-14j, -2.93594604e-14-1.20657226e-14j,\n",
       "       -1.32901809e-14+4.87668253e-14j, -5.15048153e-15+2.60325830e-14j,\n",
       "        5.82871889e-15+7.95300444e-14j, -1.38949197e-13+5.00000000e+02j,\n",
       "        3.20386773e-14+2.65968515e-14j, -1.08420445e-13+7.03385890e-14j,\n",
       "       -8.34458282e-14-7.80818947e-14j,  9.78087396e-15-1.48969950e-14j])"
      ]
     },
     "execution_count": 76,
     "metadata": {},
     "output_type": "execute_result"
    }
   ],
   "source": [
    "fft_result"
   ]
  },
  {
   "cell_type": "markdown",
   "id": "32a07404",
   "metadata": {},
   "source": [
    "### Q.36 How can you create array with same values.\n",
    "We can create a NumPy array with the same values using various functions and methods depending on your specific needs. Here are a few common approaches:\n",
    "\n",
    "#### Using numpy.full():\n",
    "\n",
    "You can use the numpy.full() function to create an array filled with a specific value. This function takes two arguments: the shape of the array and the fill value."
   ]
  },
  {
   "cell_type": "code",
   "execution_count": 77,
   "id": "424e7fc1",
   "metadata": {},
   "outputs": [],
   "source": [
    "# Create a 1D array with 5 elements, all set to 7\n",
    "arr = np.full(5, 7)\n",
    "# Create a 1D array with 5 elements, all set to 7\n",
    "arr = 7 * np.ones(5)\n",
    "\n",
    "# Create a 2D array with dimensions 3x4, all elements set to 2.0\n",
    "arr_2d = 2.0 * np.ones((3, 4))\n",
    "# Create a 1D array with 5 elements, all set to 7\n",
    "arr = np.array([7] * 5)\n",
    "\n",
    "# Create a 2D array with dimensions 3x4, all elements set to 2.0\n",
    "arr_2d = np.array([[2.0] * 4] * 3)"
   ]
  },
  {
   "cell_type": "markdown",
   "id": "1eaa2284",
   "metadata": {},
   "source": [
    "### Q.37 How can you modify the data type of a NumPy array?\n",
    "We can modify the data type of a NumPy array using the astype() method or by directly assigning a new data type to the dtype attribute. Here’s how you can do it:\n",
    "\n",
    "#### Using the astype() method:\n",
    "\n",
    "You can use the astype() method to create a new array with the desired data type while leaving the original array unchanged."
   ]
  },
  {
   "cell_type": "markdown",
   "id": "ab759ffc",
   "metadata": {},
   "source": [
    "#### Directly assigning a new data type to the dtype attribute:\n",
    "\n",
    "You can also modify the data type of a NumPy array in place by assigning a new data type directly to the dtype attribute."
   ]
  },
  {
   "cell_type": "code",
   "execution_count": 78,
   "id": "7d801114",
   "metadata": {},
   "outputs": [
    {
     "ename": "ValueError",
     "evalue": "When changing to a larger dtype, its size must be a divisor of the total size in bytes of the last axis of the array.",
     "output_type": "error",
     "traceback": [
      "\u001b[1;31m---------------------------------------------------------------------------\u001b[0m",
      "\u001b[1;31mValueError\u001b[0m                                Traceback (most recent call last)",
      "Cell \u001b[1;32mIn[78], line 5\u001b[0m\n\u001b[0;32m      2\u001b[0m original_array \u001b[38;5;241m=\u001b[39m np\u001b[38;5;241m.\u001b[39marray([\u001b[38;5;241m1\u001b[39m, \u001b[38;5;241m2\u001b[39m, \u001b[38;5;241m3\u001b[39m, \u001b[38;5;241m4\u001b[39m, \u001b[38;5;241m5\u001b[39m])\n\u001b[0;32m      4\u001b[0m \u001b[38;5;66;03m# Change the data type of the original array to float\u001b[39;00m\n\u001b[1;32m----> 5\u001b[0m original_array\u001b[38;5;241m.\u001b[39mdtype \u001b[38;5;241m=\u001b[39m \u001b[38;5;28mfloat\u001b[39m\n",
      "\u001b[1;31mValueError\u001b[0m: When changing to a larger dtype, its size must be a divisor of the total size in bytes of the last axis of the array."
     ]
    }
   ],
   "source": [
    "# Create a NumPy array with the original data type (e.g., int)\n",
    "original_array = np.array([1, 2, 3, 4, 5])\n",
    "\n",
    "# Change the data type of the original array to float\n",
    "original_array.dtype = float"
   ]
  },
  {
   "cell_type": "markdown",
   "id": "45635b4e",
   "metadata": {},
   "source": [
    "### Q.38 What is a masked array in NumPy.\n",
    "A masked array in NumPy is a special type of array that includes an additional Boolean mask, which marks certain elements as invalid or masked. This allows you to work with data that has missing or invalid values without having to modify the original data. Masked arrays are particularly useful when dealing with real-world datasets that may have missing or unreliable data points."
   ]
  },
  {
   "cell_type": "markdown",
   "id": "7ee7aa49",
   "metadata": {},
   "source": [
    "### Q.39 What are some of the limitations of NumPy.\n",
    "NumPy is a powerful library for numerical and scientific computing in Python but it have some limitations depending on some requirements. Here are some of the limitations of NumPy.\n",
    "\n",
    "* Homogeneous Data Types\n",
    "* Memory Usage\n",
    "* Single-threaded\n",
    "* Limited Support for Missing Data\n",
    "* Limited Support for Labeling Data\n",
    "* Limited Support for Advanced Statistics\n",
    "* Performance Overheads for Small Arrays\n",
    "* Limited Support for GPU Acceleration\n",
    "* Complex Installation for Some Platforms\n",
    "* Limited Support for Distributed Computing"
   ]
  },
  {
   "cell_type": "markdown",
   "id": "ba902a50",
   "metadata": {},
   "source": [
    "### Q.40 How do you sort a NumPy array in ascending or descending order?\n",
    "To arrange a NumPy array in both ascending and descending order we use numpy.sort() to create an ascending one and numpy.argsort() for a descending one. Here’s how to do it:\n",
    "\n",
    "#### Ascending Order:\n",
    "\n",
    "You can use the sort function that numpy offers to sort your array in ascending order. The function will return a new sorted array, while still leaving the original array unchanged."
   ]
  },
  {
   "cell_type": "code",
   "execution_count": 79,
   "id": "10b5fa35",
   "metadata": {},
   "outputs": [],
   "source": [
    "# Create a NumPy array\n",
    "my_array = np.array([3, 1, 2, 4, 5])\n",
    "\n",
    "# Sort the array in ascending order\n",
    "sorted_array = np.sort(my_array)"
   ]
  },
  {
   "cell_type": "markdown",
   "id": "66af5593",
   "metadata": {},
   "source": [
    "#### Sorting in Descending Order:\n",
    "\n",
    "To sort a NumPy array in descending order, you can use the numpy.argsort() function to obtain the indices that would sort the array in ascending order and then reverse those indices to sort in descending order."
   ]
  },
  {
   "cell_type": "code",
   "execution_count": 80,
   "id": "1da7225e",
   "metadata": {},
   "outputs": [],
   "source": [
    "# Create a NumPy array\n",
    "my_array = np.array([3, 1, 2, 4, 5])\n",
    "\n",
    "# Get the indices to sort the array in ascending order\n",
    "ascending_indices = np.argsort(my_array)"
   ]
  },
  {
   "cell_type": "markdown",
   "id": "e42061d5",
   "metadata": {},
   "source": [
    "### Q.41 How to use NumPy with Matplotlib?\n",
    "NumPy provides powerful array manipulation capabilities, and Matplotlib is a popular library for creating various types of plots and charts. Here’s how you can use NumPy with Matplotlib:"
   ]
  },
  {
   "cell_type": "code",
   "execution_count": 81,
   "id": "b95c9f38",
   "metadata": {},
   "outputs": [
    {
     "data": {
      "text/plain": [
       "[<matplotlib.lines.Line2D at 0x22ac4a36dd0>]"
      ]
     },
     "execution_count": 81,
     "metadata": {},
     "output_type": "execute_result"
    },
    {
     "data": {
      "image/png": "[encoded data removed]",
      "text/plain": [
       "<Figure size 640x480 with 1 Axes>"
      ]
     },
     "metadata": {},
     "output_type": "display_data"
    }
   ],
   "source": [
    "import matplotlib.pyplot as plt\n",
    "x = np.linspace(0, 2 * np.pi, 100) \n",
    "y = np.sin(x) \n",
    "# Create a basic line plot\n",
    "plt.plot(x, y)"
   ]
  },
  {
   "cell_type": "markdown",
   "id": "152775a9",
   "metadata": {},
   "source": [
    "### Q.42 What is the use of diag() square matrix ?\n",
    "The diag() function in NumPy is used to extract or manipulate the diagonal elements of a square matrix (a matrix with the same number of rows and columns). It can serve various purposes in matrix operations and linear algebra. Here are some common uses of the diag() function:"
   ]
  },
  {
   "cell_type": "markdown",
   "id": "153b47a1",
   "metadata": {},
   "source": [
    "### Q.42 Can you create a plot in NumPy?\n",
    "Using NumPy and Matplotlib together, you can create a simple plot. NumPy is primarily a library for numerical computations with arrays, while Matplotlib is a popular Python library for creating various plots and charts. To create a plot, first import NumPy and Matplotlib, then use the functions from both libraries."
   ]
  },
  {
   "cell_type": "code",
   "execution_count": 82,
   "id": "54bbe6c2",
   "metadata": {},
   "outputs": [
    {
     "data": {
      "image/png": "[encoded data removed]",
      "text/plain": [
       "<Figure size 640x480 with 1 Axes>"
      ]
     },
     "metadata": {},
     "output_type": "display_data"
    }
   ],
   "source": [
    "# Create any sample data using NumPy\n",
    "x = np.linspace(0, 2 * np.pi, 100) #generate 100 points between 0 and 2*pi\n",
    "y = np.sin(x) #compute the sine of each point\n",
    "plt.plot(x,y,label = 'Sine Wave') #plotting the sine  wave \n",
    "plt.xlabel('X-axis')\n",
    "plt.ylabel('Y-axis')\n",
    "plt.legend()\n",
    "plt.grid(True)\n",
    "#show the plot \n",
    "plt.show()"
   ]
  },
  {
   "cell_type": "markdown",
   "id": "c1ba8d4a",
   "metadata": {},
   "source": [
    "### Q.43 Discuss uses of vstack() and hstack() functions?\n",
    "The vstack() and hstack() functions in NumPy are used to stack or concatenate arrays vertically and horizontally, respectively. These functions are essential for combining arrays in different dimensions and are widely used in various data processing and manipulation tasks. Here’s a discussion of their uses:\n",
    "\n",
    "#### vstack() (Vertical Stack):\n",
    "\n",
    "np.vstack() is used to vertically stack or concatenate arrays along the vertical axis (axis 0). This means that it stacks arrays on top of each other.\n",
    "\n",
    "It is commonly used when you want to combine arrays with the same number of columns (i.e., the same number of features or variables) but different rows (i.e., different data points).\n",
    "\n",
    "#### hstack() (Horizontal Stack):\n",
    "\n",
    "np.hstack() is used to horizontally stack or concatenate arrays along the horizontal axis (axis 1). This means that it stacks arrays side by side.\n",
    "\n",
    "It is commonly used when we want to combine arrays with the same number of rows."
   ]
  },
  {
   "cell_type": "markdown",
   "id": "4217d464",
   "metadata": {},
   "source": [
    "### Q.44 How does NumPy handle numerical exceptions?\n",
    "NumPy handles numerical exceptions, such as overflow, underflow, and invalid mathematical operations, in a way that ensures stability and well-defined behavior in numerical computations.\n",
    "\n",
    "NumPy’s handling of numerical exceptions is designed to provide predictable behavior in numerical computations while adhering to standard conventions and IEEE 754 rules. It allows users to work with exceptional cases and maintain control over error handling when needed."
   ]
  },
  {
   "cell_type": "markdown",
   "id": "762a9143",
   "metadata": {},
   "source": [
    "### Q.45 What is the significance of the random module in NumPy?\n",
    "The random module in NumPy is a powerful and essential component for generating random numbers and performing various random processes in scientific computing, simulations, statistics, and machine learning. Here are some significant aspects of the random module in NumPy."
   ]
  },
  {
   "cell_type": "markdown",
   "id": "a6030ef8",
   "metadata": {},
   "source": [
    "### Q.46 How to Get the eigen values of a matrix.\n",
    "With the help of np.eigvals() method, we can get the eigen values of a matrix by using np.eigvals() method."
   ]
  },
  {
   "cell_type": "code",
   "execution_count": 83,
   "id": "54f7a1cb",
   "metadata": {},
   "outputs": [
    {
     "ename": "AttributeError",
     "evalue": "module 'numpy' has no attribute 'eigvals'",
     "output_type": "error",
     "traceback": [
      "\u001b[1;31m---------------------------------------------------------------------------\u001b[0m",
      "\u001b[1;31mAttributeError\u001b[0m                            Traceback (most recent call last)",
      "Cell \u001b[1;32mIn[83], line 2\u001b[0m\n\u001b[0;32m      1\u001b[0m \u001b[38;5;28;01mimport\u001b[39;00m \u001b[38;5;21;01mnumpy\u001b[39;00m \u001b[38;5;28;01mas\u001b[39;00m \u001b[38;5;21;01mnp\u001b[39;00m\n\u001b[1;32m----> 2\u001b[0m np\u001b[38;5;241m.\u001b[39meigvals(x)\n",
      "File \u001b[1;32m~\\anaconda3\\Lib\\site-packages\\numpy\\__init__.py:320\u001b[0m, in \u001b[0;36m__getattr__\u001b[1;34m(attr)\u001b[0m\n\u001b[0;32m    317\u001b[0m     \u001b[38;5;28;01mfrom\u001b[39;00m \u001b[38;5;21;01m.\u001b[39;00m\u001b[38;5;21;01mtesting\u001b[39;00m \u001b[38;5;28;01mimport\u001b[39;00m Tester\n\u001b[0;32m    318\u001b[0m     \u001b[38;5;28;01mreturn\u001b[39;00m Tester\n\u001b[1;32m--> 320\u001b[0m \u001b[38;5;28;01mraise\u001b[39;00m \u001b[38;5;167;01mAttributeError\u001b[39;00m(\u001b[38;5;124m\"\u001b[39m\u001b[38;5;124mmodule \u001b[39m\u001b[38;5;132;01m{!r}\u001b[39;00m\u001b[38;5;124m has no attribute \u001b[39m\u001b[38;5;124m\"\u001b[39m\n\u001b[0;32m    321\u001b[0m                      \u001b[38;5;124m\"\u001b[39m\u001b[38;5;132;01m{!r}\u001b[39;00m\u001b[38;5;124m\"\u001b[39m\u001b[38;5;241m.\u001b[39mformat(\u001b[38;5;18m__name__\u001b[39m, attr))\n",
      "\u001b[1;31mAttributeError\u001b[0m: module 'numpy' has no attribute 'eigvals'"
     ]
    }
   ],
   "source": [
    "import numpy as np\n",
    "np.eigvals(x)"
   ]
  },
  {
   "cell_type": "markdown",
   "id": "95bdbc63",
   "metadata": {},
   "source": [
    "### Q.46 How to Calculate the determinant of a matrix using NumPy?\n",
    "The Determinant of a square matrix is a unique number that can be derived from a square matrix. Using the numpy.linalg.det() method, NumPy gives us the ability to determine the determinant of a square matrix."
   ]
  },
  {
   "cell_type": "code",
   "execution_count": 84,
   "id": "2d548b27",
   "metadata": {},
   "outputs": [
    {
     "data": {
      "text/plain": [
       "-2.9582283945787796e-30"
      ]
     },
     "execution_count": 84,
     "metadata": {},
     "output_type": "execute_result"
    }
   ],
   "source": [
    "np.linalg.det(a)"
   ]
  },
  {
   "cell_type": "markdown",
   "id": "04814b4a",
   "metadata": {},
   "source": [
    "### Q.47 Find a matrix or vector norm using NumPy.\n",
    "We employ the numpy.linalg.norm() method of the NumPy Python library to determine a matrix or vector norm. Depending on the value of its parameters, this function returns either one of the seven matrix norms or one of the infinite vector norms."
   ]
  },
  {
   "cell_type": "code",
   "execution_count": 85,
   "id": "1366303a",
   "metadata": {},
   "outputs": [
    {
     "data": {
      "text/plain": [
       "36.367477940166175"
      ]
     },
     "execution_count": 85,
     "metadata": {},
     "output_type": "execute_result"
    }
   ],
   "source": [
    "np.linalg.norm(x, ord=None, axis=None)"
   ]
  },
  {
   "cell_type": "markdown",
   "id": "c26cd2f7",
   "metadata": {},
   "source": [
    "### Q.48 How to compare two NumPy arrays?\n",
    "Here, we’ll concentrate on the array comparison performed with NumPy. When two NumPy arrays are compared, the presence of the same element at each corresponding index indicates whether the arrays are comparable.\n",
    "\n",
    "#### Method 1: We generally use the == operator to compare two NumPy arrays to generate a new array object. Call ndarray.all() with the new array object as ndarray to return True if the two NumPy arrays are equivalent.\n",
    "\n",
    "#### Method 2: Using array_equal()\n",
    "\n",
    "This array_equal() function checks if two arrays have the same elements and same shape."
   ]
  },
  {
   "cell_type": "code",
   "execution_count": 86,
   "id": "b3b9ee40",
   "metadata": {},
   "outputs": [
    {
     "data": {
      "text/plain": [
       "False"
      ]
     },
     "execution_count": 86,
     "metadata": {},
     "output_type": "execute_result"
    }
   ],
   "source": [
    "np.array_equal(x, y) "
   ]
  },
  {
   "cell_type": "markdown",
   "id": "4b864de5",
   "metadata": {},
   "source": [
    "### Q.49 Calculate the QR decomposition of a given matrix using NumPy.\n",
    "A matrix’s decomposition into the form “A=QR,” where Q is an orthogonal matrix and R is an upper-triangular matrix, is known as QR factorization. With the aid of numpy, we can determine the QR decomposition of a given matrix.linalg.qr()."
   ]
  },
  {
   "cell_type": "code",
   "execution_count": 87,
   "id": "672a571a",
   "metadata": {},
   "outputs": [
    {
     "ename": "SyntaxError",
     "evalue": "invalid character '’' (U+2019) (4283540371.py, line 1)",
     "output_type": "error",
     "traceback": [
      "\u001b[1;36m  Cell \u001b[1;32mIn[87], line 1\u001b[1;36m\u001b[0m\n\u001b[1;33m    np.linalg.qr(a, mode=’reduced’)\u001b[0m\n\u001b[1;37m                         ^\u001b[0m\n\u001b[1;31mSyntaxError\u001b[0m\u001b[1;31m:\u001b[0m invalid character '’' (U+2019)\n"
     ]
    }
   ],
   "source": [
    "np.linalg.qr(a, mode=’reduced’)"
   ]
  },
  {
   "cell_type": "markdown",
   "id": "d7039461",
   "metadata": {},
   "source": [
    "### Q.50 How to filter out integers from float NumPy array.\n",
    "The aim is to remove integers from an array that contains float and integers using a numpy array. Let’s look at a couple approaches to completing a task.\n",
    "\n",
    "* Using astype(int)\n",
    "* Using np.equal() and np.mod()\n",
    "* Using np.isclose()\n",
    "* Using round()"
   ]
  },
  {
   "cell_type": "markdown",
   "id": "d05c6a63",
   "metadata": {},
   "source": [
    "### Q.51 Define a polynomial function.\n",
    "Using NumPy’s numpy.poly1d class, you can define polynomial functions. Using the coefficients of a polynomial, we can create a new function using this class. In NumPy, define a polynomial function as follows:"
   ]
  },
  {
   "cell_type": "code",
   "execution_count": 88,
   "id": "2a6f15eb",
   "metadata": {},
   "outputs": [],
   "source": [
    "# numpy.poly1d(arr, root, var) "
   ]
  },
  {
   "cell_type": "markdown",
   "id": "d34d503c",
   "metadata": {},
   "source": [
    "### Q.52 What are the main features that make NumPy unique.\n",
    "Due to a number of distinguishing characteristics, NumPy (Numerical Python) is a distinctive and crucial library in the Python ecosystem for numerical and scientific computing.\n",
    "\n",
    "The ndarray (N-dimensional array), a very effective, homogeneous, and multi-dimensional data structure, is introduced by NumPy. An ndarray’s same data types enable for memory-efficient storage and mathematical operations that are optimised."
   ]
  },
  {
   "cell_type": "markdown",
   "id": "976a2c48",
   "metadata": {},
   "source": [
    "### Q.53 What is the difference between shape and size attributes of NumPy array.\n",
    "Shape and size attributes of an array give information about the dimension of the array but there are some differences."
   ]
  },
  {
   "cell_type": "markdown",
   "id": "8ab54bcd",
   "metadata": {},
   "source": [
    "### shape\n",
    "* The array’s dimensions are represented by a tuple that the shape attribute returns. The size of the array along each axis or dimension is represented by an individual member of the tuple.\n",
    "* It gives details about the array’s dimensions, including the number of rows, columns, and other dimensions.\n",
    "* A single element serving as the array’s length makes up the form tuple for a 1D array."
   ]
  },
  {
   "cell_type": "markdown",
   "id": "d5791197",
   "metadata": {},
   "source": [
    "#### size\n",
    "* The attribute ‘size’ gives the amount of elements in the array, regardless of its shape. It provides a single integer value representing the size of the flattened array.\n",
    "* It is the result of all the shape tuple’s components.\n",
    "* It provides you with the array’s overall element count."
   ]
  },
  {
   "cell_type": "markdown",
   "id": "53ab3a11",
   "metadata": {},
   "source": [
    "### Q.54 What are some important differences between the standard Python sequences and NumPy arrays?\n",
    "The key distinctions between NumPy arrays and common Python sequences (such as lists and tuples) make NumPy arrays the best option for numerical and scientific computing. Here are some significant variations:\n",
    "<br>\n",
    "While NumPy arrays are homogeneous and require that every member have the same data type, Python sequences can hold items of various data types. In NumPy, this homogeneity enables effective storage and optimised operations."
   ]
  },
  {
   "cell_type": "markdown",
   "id": "56395610",
   "metadata": {},
   "source": [
    "### Q 55 What are the difference between ndarray and array in NumPy.\n",
    "The terms “ndarray” and “array” in NumPy essentially refer to the same object: a multi-dimensional array object that makes it possible to effectively conduct mathematical operations on data. While “array” is a more casual term that is frequently used in everyday speech and documentation to refer to NumPy arrays, “ndarray” is the official term used within NumPy. Both terms refer to the same data structure that NumPy uses for effective numerical computations.\n",
    "\n",
    "#### ndarray\n",
    "\n",
    "The official NumPy word for a multi-dimensional array is “ndarray”.\n",
    "In particular, it alludes to the NumPy array object.\n",
    "You generate “ndarray” objects when you use NumPy functions or constructors to create arrays, such as np.array(), np.zeros(), or np.ones().\n",
    "\n",
    "#### array\n",
    "\n",
    "While it is not the official nomenclature, the word “array” is frequently used informally to refer to NumPy arrays.\n",
    "In reality, when people use the word “array” in relation to NumPy, they often mean “ndarray.”"
   ]
  },
  {
   "cell_type": "markdown",
   "id": "2e6d8192",
   "metadata": {},
   "source": [
    "### Q 56 How would you convert a pandas dataframe into NumPy array.\n",
    "You can use the DataFrame’s.values attribute to convert a Pandas DataFrame into a NumPy array."
   ]
  },
  {
   "cell_type": "code",
   "execution_count": 89,
   "id": "43c1c2be",
   "metadata": {},
   "outputs": [],
   "source": [
    "import pandas as pd\n",
    "import numpy as np\n",
    "\n",
    "# Create a Pandas DataFrame (replace this with your actual DataFrame)\n",
    "data = {'A': [1, 2, 3], 'B': [4, 5, 6]}\n",
    "df = pd.DataFrame(data)\n",
    "\n",
    "# Convert the DataFrame to a NumPy array\n",
    "numpy_array = df.values"
   ]
  },
  {
   "cell_type": "markdown",
   "id": "364932f8",
   "metadata": {},
   "source": [
    "### Q 57 Explain vectorization in NumPy.\n",
    "In NumPy, the term “vectorization” refers to the capacity to carry out element-wise operations on whole arrays or sizable sections of arrays without the use of explicit Python loops. You can perform a single action on the entire array or a sizable section of it all at once rather than iterating through each element in an array one at a time. This idea is comparable to how operations on vectors or matrices operate in linear algebra."
   ]
  },
  {
   "cell_type": "markdown",
   "id": "fbf95f50",
   "metadata": {},
   "source": [
    "### Q 58 Create a two 2-D array. Plot it using matplotlib."
   ]
  },
  {
   "cell_type": "code",
   "execution_count": 90,
   "id": "e08cf2f0",
   "metadata": {},
   "outputs": [
    {
     "ename": "SyntaxError",
     "evalue": "invalid character '“' (U+201C) (1366224979.py, line 2)",
     "output_type": "error",
     "traceback": [
      "\u001b[1;36m  Cell \u001b[1;32mIn[90], line 2\u001b[1;36m\u001b[0m\n\u001b[1;33m    print(“Printing Original array”)\u001b[0m\n\u001b[1;37m          ^\u001b[0m\n\u001b[1;31mSyntaxError\u001b[0m\u001b[1;31m:\u001b[0m invalid character '“' (U+201C)\n"
     ]
    }
   ],
   "source": [
    "import NumPy\n",
    "print(“Printing Original array”)\n",
    "sampleArray = NumPy.array([[34,43,73],[82,22,12],[53,94,66]]) \n",
    "print (sampleArray)\n",
    "print(“Array after deleting column 2 on axis 1”)\n",
    "sampleArray = NumPy.delete(sampleArray , 1, axis = 1) \n",
    "print (sampleArray)\n",
    "arr = NumPy.array([[10,10,10]])\n",
    "print(“Array after inserting column 2 on axis 1”)\n",
    "sampleArray = NumPy.insert(sampleArray , 1, arr, axis = 1) \n",
    "print (sampleArray"
   ]
  },
  {
   "cell_type": "markdown",
   "id": "a4404750",
   "metadata": {},
   "source": [
    "#### 1. What do you understand by Vectorization in NumPy?\n",
    "Function Vectorization technically means that the function is applied to all elements in the array. Typically, certain python functionalities on arrays (such as loops) are slower in nature because python arrays can contain elements of different data types. Since the C program expects a specific datatype, there are chances of compiler optimisation which makes C code run faster. Since NumPy arrays support storing elements of a single datatype, most of the implementations of the functions written in NumPy meant for arithmetic, logical operations etc have optimised C program code under their hood. Additionally, NumPy also helps developers create their own vectorised functions by following the below steps:\n",
    "<br>\n",
    "Write your required function that takes array elements as parameters.\n",
    "Vectorize the function by making use of the vectorize() method of the NumPy package.\n",
    "Give array inputs to the vectorized function.\n",
    "The below example demonstrates the process of vectorization."
   ]
  },
  {
   "cell_type": "code",
   "execution_count": 91,
   "id": "6e962beb",
   "metadata": {},
   "outputs": [
    {
     "name": "stdout",
     "output_type": "stream",
     "text": [
      "[5 7 9]\n"
     ]
    }
   ],
   "source": [
    "import numpy as np\n",
    "# Define your function\n",
    "def add(arr1, arr2):\n",
    "    return (arr1 + arr2)\n",
    "\n",
    "arr1 = np.array([1,2,3])\n",
    "arr2 = np.array([4,5,6])\n",
    "\n",
    "#vectorize add method\n",
    "vectorized_add = np.vectorize(add)\n",
    "\n",
    "#call vectorized method\n",
    "result = vectorized_add(arr1, arr2)\n",
    "\n",
    "print(result)"
   ]
  },
  {
   "cell_type": "code",
   "execution_count": 92,
   "id": "594c67e6",
   "metadata": {},
   "outputs": [],
   "source": [
    "# https://www.interviewbit.com/numpy-interview-questions/?fbclid=IwZXh0bgNhZW0CMTAAAR3LaBEQlGJS9ScaXcSjva8n1kWJd4TPvL5MuS8oA6LNpSbmrKTk5PeBTmM_aem_Ac24yIwMbm6U2unVfkr80sFDkSxrJEAP8f3dEIUFtJ1Hsgtu8ksfTLW7s--DaGLVbp2rgjAEr7MSZpsIPm7bAy0H"
   ]
  },
  {
   "cell_type": "code",
   "execution_count": null,
   "id": "43a26638",
   "metadata": {},
   "outputs": [],
   "source": []
  },
  {
   "cell_type": "code",
   "execution_count": null,
   "id": "917f4791",
   "metadata": {},
   "outputs": [],
   "source": []
  },
  {
   "cell_type": "code",
   "execution_count": null,
   "id": "9ef7f91a",
   "metadata": {},
   "outputs": [],
   "source": []
  },
  {
   "cell_type": "code",
   "execution_count": null,
   "id": "7a40bea5",
   "metadata": {},
   "outputs": [],
   "source": []
  },
  {
   "cell_type": "code",
   "execution_count": null,
   "id": "14a2b4bd",
   "metadata": {},
   "outputs": [],
   "source": []
  },
  {
   "cell_type": "code",
   "execution_count": null,
   "id": "f624295e",
   "metadata": {},
   "outputs": [],
   "source": []
  },
  {
   "cell_type": "code",
   "execution_count": null,
   "id": "92ab039a",
   "metadata": {},
   "outputs": [],
   "source": []
  },
  {
   "cell_type": "code",
   "execution_count": null,
   "id": "b50df41e",
   "metadata": {},
   "outputs": [],
   "source": []
  },
  {
   "cell_type": "code",
   "execution_count": null,
   "id": "0ceb0228",
   "metadata": {},
   "outputs": [],
   "source": []
  },
  {
   "cell_type": "code",
   "execution_count": null,
   "id": "f8b42a77",
   "metadata": {},
   "outputs": [],
   "source": []
  },
  {
   "cell_type": "code",
   "execution_count": null,
   "id": "48c04b5f",
   "metadata": {},
   "outputs": [],
   "source": []
  },
  {
   "cell_type": "code",
   "execution_count": null,
   "id": "ea05da1c",
   "metadata": {},
   "outputs": [],
   "source": []
  },
  {
   "cell_type": "code",
   "execution_count": null,
   "id": "6771cb99",
   "metadata": {},
   "outputs": [],
   "source": []
  },
  {
   "cell_type": "code",
   "execution_count": null,
   "id": "aeb01cc2",
   "metadata": {},
   "outputs": [],
   "source": []
  },
  {
   "cell_type": "code",
   "execution_count": null,
   "id": "f6be0b13",
   "metadata": {},
   "outputs": [],
   "source": []
  },
  {
   "cell_type": "code",
   "execution_count": null,
   "id": "e83d51ca",
   "metadata": {},
   "outputs": [],
   "source": []
  },
  {
   "cell_type": "code",
   "execution_count": null,
   "id": "36caca62",
   "metadata": {},
   "outputs": [],
   "source": []
  },
  {
   "cell_type": "code",
   "execution_count": null,
   "id": "f9bfa15d",
   "metadata": {},
   "outputs": [],
   "source": []
  },
  {
   "cell_type": "code",
   "execution_count": null,
   "id": "8d17be9b",
   "metadata": {},
   "outputs": [],
   "source": []
  },
  {
   "cell_type": "code",
   "execution_count": null,
   "id": "23ec013d",
   "metadata": {},
   "outputs": [],
   "source": []
  },
  {
   "cell_type": "code",
   "execution_count": null,
   "id": "85ef8a87",
   "metadata": {},
   "outputs": [],
   "source": []
  },
  {
   "cell_type": "code",
   "execution_count": null,
   "id": "ee6489bb",
   "metadata": {},
   "outputs": [],
   "source": []
  },
  {
   "cell_type": "code",
   "execution_count": null,
   "id": "d59eb635",
   "metadata": {},
   "outputs": [],
   "source": []
  },
  {
   "cell_type": "code",
   "execution_count": null,
   "id": "2290925d",
   "metadata": {},
   "outputs": [],
   "source": []
  }
 ],
 "metadata": {
  "kernelspec": {
   "display_name": "Python 3 (ipykernel)",
   "language": "python",
   "name": "python3"
  },
  "language_info": {
   "codemirror_mode": {
    "name": "ipython",
    "version": 3
   },
   "file_extension": ".py",
   "mimetype": "text/x-python",
   "name": "python",
   "nbconvert_exporter": "python",
   "pygments_lexer": "ipython3",
   "version": "3.11.5"
  }
 },
 "nbformat": 4,
 "nbformat_minor": 5
}
