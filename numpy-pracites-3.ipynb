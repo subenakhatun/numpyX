{
 "cells": [
  {
   "cell_type": "markdown",
   "id": "106a3148",
   "metadata": {},
   "source": [
    "### np.sort\n",
    "\n",
    "Return a sorted copy of an array.\n",
    "apply it 1D array and 2D array also"
   ]
  },
  {
   "cell_type": "code",
   "execution_count": 9,
   "id": "5fb44d69",
   "metadata": {},
   "outputs": [
    {
     "data": {
      "text/plain": [
       "array([34, 66, 67, 56, 70, 46, 31, 55, 53, 51, 85, 32, 13, 58, 19, 37, 72,\n",
       "       10, 65, 18])"
      ]
     },
     "execution_count": 9,
     "metadata": {},
     "output_type": "execute_result"
    }
   ],
   "source": [
    "# 1D array\n",
    "import numpy as np\n",
    "a = np.random.randint(1,100,20)\n",
    "a"
   ]
  },
  {
   "cell_type": "code",
   "execution_count": 10,
   "id": "47427cc3",
   "metadata": {},
   "outputs": [
    {
     "data": {
      "text/plain": [
       "array([[28, 41, 72, 28],\n",
       "       [41, 22, 10, 54],\n",
       "       [34, 94, 92, 82],\n",
       "       [10, 38, 82, 73],\n",
       "       [45, 69, 42, 68],\n",
       "       [45, 77, 85, 53]])"
      ]
     },
     "execution_count": 10,
     "metadata": {},
     "output_type": "execute_result"
    }
   ],
   "source": [
    "# 2D array\n",
    "b = np.random.randint(5,100,24).reshape(6,4)\n",
    "b"
   ]
  },
  {
   "cell_type": "code",
   "execution_count": 11,
   "id": "d18dd0e2",
   "metadata": {},
   "outputs": [
    {
     "data": {
      "text/plain": [
       "array([10, 13, 18, 19, 31, 32, 34, 37, 46, 51, 53, 55, 56, 58, 65, 66, 67,\n",
       "       70, 72, 85])"
      ]
     },
     "execution_count": 11,
     "metadata": {},
     "output_type": "execute_result"
    }
   ],
   "source": [
    "# sorting 1D array\n",
    "np.sort(a)"
   ]
  },
  {
   "cell_type": "code",
   "execution_count": 12,
   "id": "fb3018e8",
   "metadata": {},
   "outputs": [
    {
     "data": {
      "text/plain": [
       "array([[28, 28, 41, 72],\n",
       "       [10, 22, 41, 54],\n",
       "       [34, 82, 92, 94],\n",
       "       [10, 38, 73, 82],\n",
       "       [42, 45, 68, 69],\n",
       "       [45, 53, 77, 85]])"
      ]
     },
     "execution_count": 12,
     "metadata": {},
     "output_type": "execute_result"
    }
   ],
   "source": [
    "# sorting 2D array\n",
    "# note, axis = 0 means cols and axis = 1 means rows\n",
    "np.sort(b,axis=1)"
   ]
  },
  {
   "cell_type": "code",
   "execution_count": 13,
   "id": "ee2c51b8",
   "metadata": {},
   "outputs": [
    {
     "data": {
      "text/plain": [
       "array([[10, 22, 10, 28],\n",
       "       [28, 38, 42, 53],\n",
       "       [34, 41, 72, 54],\n",
       "       [41, 69, 82, 68],\n",
       "       [45, 77, 85, 73],\n",
       "       [45, 94, 92, 82]])"
      ]
     },
     "execution_count": 13,
     "metadata": {},
     "output_type": "execute_result"
    }
   ],
   "source": [
    "# sort cols\n",
    "np.sort(b,axis=0)"
   ]
  },
  {
   "cell_type": "code",
   "execution_count": 14,
   "id": "56369201",
   "metadata": {},
   "outputs": [
    {
     "data": {
      "text/plain": [
       "array([85, 72, 70, 67, 66, 65, 58, 56, 55, 53, 51, 46, 37, 34, 32, 31, 19,\n",
       "       18, 13, 10])"
      ]
     },
     "execution_count": 14,
     "metadata": {},
     "output_type": "execute_result"
    }
   ],
   "source": [
    "# sort last to first\n",
    "# last to first indexing ::-1\n",
    "np.sort(a)[::-1]"
   ]
  },
  {
   "cell_type": "markdown",
   "id": "f130a307",
   "metadata": {},
   "source": [
    "### np.append\n",
    "\n",
    "The numpy.append() appends values along the mentioned axis at the end of the array.\n",
    "not sum just add any values 1D array. \n",
    "add 1 rows or 1 cols values an exiting array.<br>\n",
    "structure: numpy.append(arr, values, axis=None)"
   ]
  },
  {
   "cell_type": "code",
   "execution_count": 15,
   "id": "2bb40ef8",
   "metadata": {},
   "outputs": [
    {
     "data": {
      "text/plain": [
       "array([ 34,  66,  67,  56,  70,  46,  31,  55,  53,  51,  85,  32,  13,\n",
       "        58,  19,  37,  72,  10,  65,  18, 100, 200])"
      ]
     },
     "execution_count": 15,
     "metadata": {},
     "output_type": "execute_result"
    }
   ],
   "source": [
    "# want to add 100 , 200 in 1D array\n",
    "np.append(a,[100,200])"
   ]
  },
  {
   "cell_type": "code",
   "execution_count": 16,
   "id": "fe7615e7",
   "metadata": {},
   "outputs": [
    {
     "ename": "ValueError",
     "evalue": "all the input arrays must have same number of dimensions, but the array at index 0 has 2 dimension(s) and the array at index 1 has 1 dimension(s)",
     "output_type": "error",
     "traceback": [
      "\u001b[1;31m---------------------------------------------------------------------------\u001b[0m",
      "\u001b[1;31mValueError\u001b[0m                                Traceback (most recent call last)",
      "Cell \u001b[1;32mIn[16], line 2\u001b[0m\n\u001b[0;32m      1\u001b[0m \u001b[38;5;66;03m# want to add 5 values in 2D array \u001b[39;00m\n\u001b[1;32m----> 2\u001b[0m np\u001b[38;5;241m.\u001b[39mappend(b,[\u001b[38;5;241m20\u001b[39m,\u001b[38;5;241m40\u001b[39m,\u001b[38;5;241m55\u001b[39m,\u001b[38;5;241m65\u001b[39m,\u001b[38;5;241m23\u001b[39m,\u001b[38;5;241m63\u001b[39m], axis\u001b[38;5;241m=\u001b[39m\u001b[38;5;241m1\u001b[39m)\n",
      "File \u001b[1;32m<__array_function__ internals>:200\u001b[0m, in \u001b[0;36mappend\u001b[1;34m(*args, **kwargs)\u001b[0m\n",
      "File \u001b[1;32m~\\anaconda3\\Lib\\site-packages\\numpy\\lib\\function_base.py:5499\u001b[0m, in \u001b[0;36mappend\u001b[1;34m(arr, values, axis)\u001b[0m\n\u001b[0;32m   5497\u001b[0m     values \u001b[38;5;241m=\u001b[39m ravel(values)\n\u001b[0;32m   5498\u001b[0m     axis \u001b[38;5;241m=\u001b[39m arr\u001b[38;5;241m.\u001b[39mndim\u001b[38;5;241m-\u001b[39m\u001b[38;5;241m1\u001b[39m\n\u001b[1;32m-> 5499\u001b[0m \u001b[38;5;28;01mreturn\u001b[39;00m concatenate((arr, values), axis\u001b[38;5;241m=\u001b[39maxis)\n",
      "File \u001b[1;32m<__array_function__ internals>:200\u001b[0m, in \u001b[0;36mconcatenate\u001b[1;34m(*args, **kwargs)\u001b[0m\n",
      "\u001b[1;31mValueError\u001b[0m: all the input arrays must have same number of dimensions, but the array at index 0 has 2 dimension(s) and the array at index 1 has 1 dimension(s)"
     ]
    }
   ],
   "source": [
    "# want to add 5 values in 2D array \n",
    "np.append(b,[20,40,55,65,23,63], axis=1)"
   ]
  },
  {
   "cell_type": "code",
   "execution_count": 17,
   "id": "451314c9",
   "metadata": {},
   "outputs": [
    {
     "data": {
      "text/plain": [
       "array([[2.80000000e+01, 4.10000000e+01, 7.20000000e+01, 2.80000000e+01,\n",
       "        3.59246017e-02],\n",
       "       [4.10000000e+01, 2.20000000e+01, 1.00000000e+01, 5.40000000e+01,\n",
       "        5.65008718e-01],\n",
       "       [3.40000000e+01, 9.40000000e+01, 9.20000000e+01, 8.20000000e+01,\n",
       "        4.50836337e-01],\n",
       "       [1.00000000e+01, 3.80000000e+01, 8.20000000e+01, 7.30000000e+01,\n",
       "        7.94021837e-01],\n",
       "       [4.50000000e+01, 6.90000000e+01, 4.20000000e+01, 6.80000000e+01,\n",
       "        2.61697407e-01],\n",
       "       [4.50000000e+01, 7.70000000e+01, 8.50000000e+01, 5.30000000e+01,\n",
       "        6.20120735e-01]])"
      ]
     },
     "execution_count": 17,
     "metadata": {},
     "output_type": "execute_result"
    }
   ],
   "source": [
    "# want to add 4 values in 2D array \n",
    "np.append(b,np.random.random((b.shape[0],1)),axis=1)"
   ]
  },
  {
   "cell_type": "code",
   "execution_count": 18,
   "id": "456df400",
   "metadata": {},
   "outputs": [
    {
     "data": {
      "text/plain": [
       "array([[0.87948186],\n",
       "       [0.06157138],\n",
       "       [0.7875532 ],\n",
       "       [0.27243748],\n",
       "       [0.2420559 ],\n",
       "       [0.19276476]])"
      ]
     },
     "execution_count": 18,
     "metadata": {},
     "output_type": "execute_result"
    }
   ],
   "source": [
    "np.random.random((b.shape[0],1))"
   ]
  },
  {
   "cell_type": "markdown",
   "id": "21d0c3b8",
   "metadata": {},
   "source": [
    "### np.concatenate\n",
    "numpy.concatenate() function concatenate a sequence of arrays along an existing axis.<br>\n",
    "struture: numpy.concatenate((a1, a2, ...), axis=0, out=None, dtype=None, casting=\"same_kind\""
   ]
  },
  {
   "cell_type": "code",
   "execution_count": 19,
   "id": "07dd19b1",
   "metadata": {},
   "outputs": [
    {
     "data": {
      "text/plain": [
       "array([[0, 1, 2],\n",
       "       [3, 4, 5]])"
      ]
     },
     "execution_count": 19,
     "metadata": {},
     "output_type": "execute_result"
    }
   ],
   "source": [
    "# shape must be same\n",
    "c = np.arange(6).reshape(2,3)\n",
    "d = np.arange(4,10).reshape(2,3)\n",
    "c"
   ]
  },
  {
   "cell_type": "code",
   "execution_count": 20,
   "id": "5df9c7a6",
   "metadata": {},
   "outputs": [
    {
     "data": {
      "text/plain": [
       "array([[4, 5, 6],\n",
       "       [7, 8, 9]])"
      ]
     },
     "execution_count": 20,
     "metadata": {},
     "output_type": "execute_result"
    }
   ],
   "source": [
    "d"
   ]
  },
  {
   "cell_type": "code",
   "execution_count": 21,
   "id": "5207e8fa",
   "metadata": {},
   "outputs": [
    {
     "data": {
      "text/plain": [
       "array([[0, 1, 2],\n",
       "       [3, 4, 5],\n",
       "       [4, 5, 6],\n",
       "       [7, 8, 9]])"
      ]
     },
     "execution_count": 21,
     "metadata": {},
     "output_type": "execute_result"
    }
   ],
   "source": [
    "# default cols\n",
    "np.concatenate((c,d))"
   ]
  },
  {
   "cell_type": "code",
   "execution_count": 22,
   "id": "55e29f28",
   "metadata": {},
   "outputs": [
    {
     "data": {
      "text/plain": [
       "array([[0, 1, 2, 4, 5, 6],\n",
       "       [3, 4, 5, 7, 8, 9]])"
      ]
     },
     "execution_count": 22,
     "metadata": {},
     "output_type": "execute_result"
    }
   ],
   "source": [
    "# add rows way rows + rows\n",
    "np.concatenate((c,d), axis=1)"
   ]
  },
  {
   "cell_type": "markdown",
   "id": "4ecc9d8a",
   "metadata": {},
   "source": [
    "### np.unique\n",
    "\n",
    "With the help of np.unique() method, we can get the unique values from an array given as parameter in np.unique() method.<br>\n",
    "Structure: numpy.unique(ar, return_index=False, return_inverse=False, return_counts=False, axis=None, *, equal_nan=True)"
   ]
  },
  {
   "cell_type": "code",
   "execution_count": 23,
   "id": "de49b8c4",
   "metadata": {},
   "outputs": [
    {
     "data": {
      "text/plain": [
       "array([0, 1, 2, 3, 4, 5])"
      ]
     },
     "execution_count": 23,
     "metadata": {},
     "output_type": "execute_result"
    }
   ],
   "source": [
    "# show is there any unique values an array if its have which position\n",
    "np.unique(c)"
   ]
  },
  {
   "cell_type": "code",
   "execution_count": 24,
   "id": "c3747609",
   "metadata": {},
   "outputs": [
    {
     "data": {
      "text/plain": [
       "array([ 1,  3,  4,  5,  6,  7,  8,  9, 11, 12, 14, 15, 16, 17])"
      ]
     },
     "execution_count": 24,
     "metadata": {},
     "output_type": "execute_result"
    }
   ],
   "source": [
    "e = np.array([1,1,1,1,1,1,3,4,5,6,7,8,9,9,9,11,11,12,14,15,16,17,14,15])\n",
    "np.unique(e)"
   ]
  },
  {
   "cell_type": "markdown",
   "id": "9a59e9b4",
   "metadata": {},
   "source": [
    "### np.expand_dims\n",
    "\n",
    "With the help of Numpy.expand_dims() method, we can get the expanded dimensions of an array. <br>\n",
    "structure: numpy.expand_dims(a, axis)"
   ]
  },
  {
   "cell_type": "code",
   "execution_count": 25,
   "id": "7cf1eaa3",
   "metadata": {},
   "outputs": [
    {
     "data": {
      "text/plain": [
       "(4,)"
      ]
     },
     "execution_count": 25,
     "metadata": {},
     "output_type": "execute_result"
    }
   ],
   "source": [
    "f = np.array([10,20,30,40])\n",
    "np.shape(f)"
   ]
  },
  {
   "cell_type": "code",
   "execution_count": 26,
   "id": "cd67effc",
   "metadata": {},
   "outputs": [
    {
     "data": {
      "text/plain": [
       "(4, 1)"
      ]
     },
     "execution_count": 26,
     "metadata": {},
     "output_type": "execute_result"
    }
   ],
   "source": [
    "# convert it into 2D array\n",
    "g = np.expand_dims(f,axis=1)\n",
    "np.shape(g)"
   ]
  },
  {
   "cell_type": "code",
   "execution_count": 27,
   "id": "cbbb4fb0",
   "metadata": {},
   "outputs": [
    {
     "data": {
      "text/plain": [
       "array([[10, 20, 30, 40]])"
      ]
     },
     "execution_count": 27,
     "metadata": {},
     "output_type": "execute_result"
    }
   ],
   "source": [
    "np.expand_dims(f,axis=0)"
   ]
  },
  {
   "cell_type": "markdown",
   "id": "87dfe75a",
   "metadata": {},
   "source": [
    "### np.where\n",
    "\n",
    "The numpy.where() function returns the indices of elements in an input array where the given condition is satisfied. <br>\n",
    "structure: numpy.where(condition, [x, y, ]/) <br>\n",
    "numpy.where(condition, tru, false) <br>\n",
    "When only condition is provided, this function is a shorthand for np.asarray(condition).nonzero(). Using nonzero directly should be preferred, as it behaves correctly for subclasses. The rest of this documentation covers only the case where all three arguments are provided\n"
   ]
  },
  {
   "cell_type": "code",
   "execution_count": 28,
   "id": "261cf28c",
   "metadata": {},
   "outputs": [
    {
     "data": {
      "text/plain": [
       "(array([ 1,  2,  3,  4,  7,  8,  9, 10, 13, 16, 18], dtype=int64),)"
      ]
     },
     "execution_count": 28,
     "metadata": {},
     "output_type": "execute_result"
    }
   ],
   "source": [
    "# find all indices with value greater than 50\n",
    "np.where(a>50)"
   ]
  },
  {
   "cell_type": "code",
   "execution_count": 29,
   "id": "f6fb7a4e",
   "metadata": {},
   "outputs": [
    {
     "data": {
      "text/plain": [
       "array([34,  0,  0,  0,  0, 46, 31,  0,  0,  0,  0, 32, 13,  0, 19, 37,  0,\n",
       "       10,  0, 18])"
      ]
     },
     "execution_count": 29,
     "metadata": {},
     "output_type": "execute_result"
    }
   ],
   "source": [
    "# replace all values > 50 with 0\n",
    "np.where(a>50,0,a)"
   ]
  },
  {
   "cell_type": "code",
   "execution_count": 30,
   "id": "8f98fcb8",
   "metadata": {},
   "outputs": [
    {
     "data": {
      "text/plain": [
       "array([ 0,  0, 67,  0,  0,  0, 31, 55, 53, 51, 85,  0, 13,  0, 19, 37,  0,\n",
       "        0, 65,  0])"
      ]
     },
     "execution_count": 30,
     "metadata": {},
     "output_type": "execute_result"
    }
   ],
   "source": [
    "# replce all valeus a%2==0 with 0 otherwise a\n",
    "np.where(a%2==0, 0,a)"
   ]
  },
  {
   "cell_type": "markdown",
   "id": "dea22f36",
   "metadata": {},
   "source": [
    "### np.argmax\n",
    "### np.argmin as like np.argmax. just retrun it minimum values index\n",
    "The numpy.argmax() function returns indices of the max element of the array in a particular axis.<br>\n",
    "structure: numpy.argmax(a, axis=None, out=None, *, keepdims=<no value>) <br>"
   ]
  },
  {
   "cell_type": "code",
   "execution_count": 31,
   "id": "14de1c42",
   "metadata": {},
   "outputs": [
    {
     "data": {
      "text/plain": [
       "array([34, 66, 67, 56, 70, 46, 31, 55, 53, 51, 85, 32, 13, 58, 19, 37, 72,\n",
       "       10, 65, 18])"
      ]
     },
     "execution_count": 31,
     "metadata": {},
     "output_type": "execute_result"
    }
   ],
   "source": [
    "# find where is the maximum values located. or find maximum values index\n",
    "a"
   ]
  },
  {
   "cell_type": "code",
   "execution_count": 32,
   "id": "5167b00c",
   "metadata": {},
   "outputs": [
    {
     "data": {
      "text/plain": [
       "10"
      ]
     },
     "execution_count": 32,
     "metadata": {},
     "output_type": "execute_result"
    }
   ],
   "source": [
    "# from 1d array\n",
    "np.argmax(a)"
   ]
  },
  {
   "cell_type": "code",
   "execution_count": 33,
   "id": "2b4da52f",
   "metadata": {},
   "outputs": [
    {
     "data": {
      "text/plain": [
       "array([[28, 41, 72, 28],\n",
       "       [41, 22, 10, 54],\n",
       "       [34, 94, 92, 82],\n",
       "       [10, 38, 82, 73],\n",
       "       [45, 69, 42, 68],\n",
       "       [45, 77, 85, 53]])"
      ]
     },
     "execution_count": 33,
     "metadata": {},
     "output_type": "execute_result"
    }
   ],
   "source": [
    "# from 2D array\n",
    "b"
   ]
  },
  {
   "cell_type": "code",
   "execution_count": 34,
   "id": "f852c3e2",
   "metadata": {},
   "outputs": [
    {
     "data": {
      "text/plain": [
       "10"
      ]
     },
     "execution_count": 34,
     "metadata": {},
     "output_type": "execute_result"
    }
   ],
   "source": [
    "np.argmax(a,axis=0)"
   ]
  },
  {
   "cell_type": "code",
   "execution_count": 35,
   "id": "c322e16c",
   "metadata": {},
   "outputs": [
    {
     "data": {
      "text/plain": [
       "array([2, 3, 1, 2, 1, 2], dtype=int64)"
      ]
     },
     "execution_count": 35,
     "metadata": {},
     "output_type": "execute_result"
    }
   ],
   "source": [
    "np.argmax(b, axis=1)"
   ]
  },
  {
   "cell_type": "code",
   "execution_count": 36,
   "id": "c89a6c1f",
   "metadata": {},
   "outputs": [
    {
     "data": {
      "text/plain": [
       "6"
      ]
     },
     "execution_count": 36,
     "metadata": {},
     "output_type": "execute_result"
    }
   ],
   "source": [
    "np.argmin(b)"
   ]
  },
  {
   "cell_type": "code",
   "execution_count": 37,
   "id": "0659e05f",
   "metadata": {},
   "outputs": [
    {
     "data": {
      "text/plain": [
       "array([0, 2, 0, 0, 2, 0], dtype=int64)"
      ]
     },
     "execution_count": 37,
     "metadata": {},
     "output_type": "execute_result"
    }
   ],
   "source": [
    "np.argmin(b,axis=1)"
   ]
  },
  {
   "cell_type": "markdown",
   "id": "d4b88d59",
   "metadata": {},
   "source": [
    "### np.cumsum\n",
    "\n",
    "numpy.cumsum() function is used when we want to compute the cumulative sum of array elements over a given axis. <br>\n",
    "Structure: numpy.cumsum(a, axis=None, dtype=None, out=None)\n"
   ]
  },
  {
   "cell_type": "code",
   "execution_count": 38,
   "id": "2142053b",
   "metadata": {},
   "outputs": [
    {
     "data": {
      "text/plain": [
       "array([ 34, 100, 167, 223, 293, 339, 370, 425, 478, 529, 614, 646, 659,\n",
       "       717, 736, 773, 845, 855, 920, 938])"
      ]
     },
     "execution_count": 38,
     "metadata": {},
     "output_type": "execute_result"
    }
   ],
   "source": [
    "np.cumsum(a)"
   ]
  },
  {
   "cell_type": "code",
   "execution_count": 39,
   "id": "e85b265e",
   "metadata": {},
   "outputs": [
    {
     "name": "stdout",
     "output_type": "stream",
     "text": [
      "[         34        2244      150348     8419488   589364160  1340947584\n",
      " -1380297856  1393029248   816106112 -1328261248 -1233056384  -803098624\n",
      " -1850347520    54026240  1026498560  -674258944 -1302003712  -135135232\n",
      "  -193855488   805568512]\n"
     ]
    }
   ],
   "source": [
    "print(np.cumprod(a))"
   ]
  },
  {
   "cell_type": "code",
   "execution_count": 40,
   "id": "abc23664",
   "metadata": {},
   "outputs": [
    {
     "data": {
      "text/plain": [
       "array([[ 28,  69, 141, 169],\n",
       "       [ 41,  63,  73, 127],\n",
       "       [ 34, 128, 220, 302],\n",
       "       [ 10,  48, 130, 203],\n",
       "       [ 45, 114, 156, 224],\n",
       "       [ 45, 122, 207, 260]])"
      ]
     },
     "execution_count": 40,
     "metadata": {},
     "output_type": "execute_result"
    }
   ],
   "source": [
    "# rows comulative sum\n",
    "np.cumsum(b,axis=1)"
   ]
  },
  {
   "cell_type": "code",
   "execution_count": 41,
   "id": "4ea99213",
   "metadata": {},
   "outputs": [
    {
     "data": {
      "text/plain": [
       "array([[ 28,  41,  72,  28],\n",
       "       [ 69,  63,  82,  82],\n",
       "       [103, 157, 174, 164],\n",
       "       [113, 195, 256, 237],\n",
       "       [158, 264, 298, 305],\n",
       "       [203, 341, 383, 358]])"
      ]
     },
     "execution_count": 41,
     "metadata": {},
     "output_type": "execute_result"
    }
   ],
   "source": [
    "# cols cumulative sum\n",
    "np.cumsum(b,axis=0)"
   ]
  },
  {
   "cell_type": "markdown",
   "id": "bcd67eee",
   "metadata": {},
   "source": [
    "### np.percentile\n",
    "\n",
    "numpy.percentile()function used to compute the nth percentile of the given data (array elements) along the specified axis.  <br>\n",
    "####  structure: numpy.percentile(a, q, axis=None, out=None, overwrite_input=False, method='linear', keepdims=False, *, interpolation=None) <br>\n",
    "### percentile defination:\n",
    "In statistics, a percentile is a term that describes how a score compares to other scores from the same set. While there is no universal definition of percentile, it is commonly expressed as the percentage of values in a set of data scores that fall below a given value. \n",
    "#### Fromula:  P = n/N * 100% , N= number of population, n = number of sample\n",
    "\n",
    "#### example: What is the 95% percentile?\n",
    "What's the 95th percentile? In networking, the 95th percentile is the highest value remaining after the top 5% of a data set is removed. For example, if you have 100 data points, you begin by removing the five largest values. The highest value left represents the 95th percentile.\n",
    "\n"
   ]
  },
  {
   "cell_type": "code",
   "execution_count": 42,
   "id": "1c99176e",
   "metadata": {},
   "outputs": [
    {
     "data": {
      "text/plain": [
       "52.0"
      ]
     },
     "execution_count": 42,
     "metadata": {},
     "output_type": "execute_result"
    }
   ],
   "source": [
    "np.percentile(a,50)"
   ]
  },
  {
   "cell_type": "code",
   "execution_count": 43,
   "id": "3bcbe2a9",
   "metadata": {},
   "outputs": [
    {
     "data": {
      "text/plain": [
       "array([[0.2 , 0.25, 0.3 ],\n",
       "       [0.35, 0.4 , 0.45]])"
      ]
     },
     "execution_count": 43,
     "metadata": {},
     "output_type": "execute_result"
    }
   ],
   "source": [
    "np.percentile(c,d)"
   ]
  },
  {
   "cell_type": "markdown",
   "id": "5b974c38",
   "metadata": {},
   "source": [
    "### np.histogram\n",
    "\n",
    "Numpy has a built-in numpy.histogram() function which represents the frequency of data distribution in the graphical form. <br>\n",
    "#### Structure: numpy.histogram(a, bins=10, range=None, density=None, weights=None)"
   ]
  },
  {
   "cell_type": "code",
   "execution_count": 44,
   "id": "813c88f0",
   "metadata": {},
   "outputs": [
    {
     "data": {
      "text/plain": [
       "(array([ 9, 11], dtype=int64), array([  0,  50, 100]))"
      ]
     },
     "execution_count": 44,
     "metadata": {},
     "output_type": "execute_result"
    }
   ],
   "source": [
    "np.histogram(a,bins=[0,50,100])"
   ]
  },
  {
   "cell_type": "markdown",
   "id": "e8b17e1a",
   "metadata": {},
   "source": [
    "### np.corrcoef\n",
    "\n",
    "Return Pearson product-moment correlation coefficients.\n",
    "#### Structure: numpy.corrcoef(x, y=None, rowvar=True, bias=<no value>, ddof=<no value>, *, dtype=None)\n",
    "### The correlation coefficient is measured on a scale that varies from + 1 through 0 to – 1. Complete correlation between two variables is expressed by either + 1 or -1. When one variable increases as the other increases the correlation is positive; when one decreases as the other increases it is negative."
   ]
  },
  {
   "cell_type": "code",
   "execution_count": 45,
   "id": "acc28bc6",
   "metadata": {},
   "outputs": [
    {
     "data": {
      "text/plain": [
       "array([[1.        , 0.25344572],\n",
       "       [0.25344572, 1.        ]])"
      ]
     },
     "execution_count": 45,
     "metadata": {},
     "output_type": "execute_result"
    }
   ],
   "source": [
    "# shape will be same\n",
    "salary = np.array([20000,40000,25000,35000,60000])\n",
    "experience = np.array([1,3,2,4,2])\n",
    "\n",
    "np.corrcoef(salary,experience)"
   ]
  },
  {
   "cell_type": "markdown",
   "id": "efb000e0",
   "metadata": {},
   "source": [
    "### np.isin\n",
    "\n",
    "With the help of numpy.isin() method, we can see that one array having values are checked in a different numpy array having different elements with different sizes.<br>\n",
    "#### Structure: numpy.isin(element, test_elements, assume_unique=False, invert=False, *, kind=None)\n",
    "https://numpy.org/doc/stable/reference/generated/numpy.isin.html"
   ]
  },
  {
   "cell_type": "code",
   "execution_count": 46,
   "id": "7f7c7a90",
   "metadata": {},
   "outputs": [
    {
     "data": {
      "text/plain": [
       "array([False, False, False, False, False, False, False, False, False,\n",
       "       False, False, False, False, False, False, False, False, False,\n",
       "       False, False])"
      ]
     },
     "execution_count": 46,
     "metadata": {},
     "output_type": "execute_result"
    }
   ],
   "source": [
    "np.isin(a,12)"
   ]
  },
  {
   "cell_type": "code",
   "execution_count": 47,
   "id": "2db37d7b",
   "metadata": {},
   "outputs": [],
   "source": [
    "h = np.arange(24).reshape(4,6)\n",
    "i = np.arange(36).reshape(6,6)"
   ]
  },
  {
   "cell_type": "code",
   "execution_count": 48,
   "id": "b51170ca",
   "metadata": {},
   "outputs": [
    {
     "data": {
      "text/plain": [
       "array([ 0,  1,  2,  3,  4,  5,  6,  7,  8,  9, 10, 11, 12, 13, 14, 15, 16,\n",
       "       17, 18, 19, 20, 21, 22, 23])"
      ]
     },
     "execution_count": 48,
     "metadata": {},
     "output_type": "execute_result"
    }
   ],
   "source": [
    "h[np.isin(h,i)]"
   ]
  },
  {
   "cell_type": "markdown",
   "id": "1169ca99",
   "metadata": {},
   "source": [
    "### np.flip\n",
    "\n",
    "The numpy.flip() function reverses the order of array elements along the specified axis, preserving the shape of the array.<br>\n",
    "#### numpy.flip(m, axis=None)\n",
    "\n",
    "https://numpy.org/doc/stable/reference/generated/numpy.flip.html"
   ]
  },
  {
   "cell_type": "code",
   "execution_count": 49,
   "id": "5b721c4f",
   "metadata": {},
   "outputs": [
    {
     "data": {
      "text/plain": [
       "array([18, 65, 10, 72, 37, 19, 58, 13, 32, 85, 51, 53, 55, 31, 46, 70, 56,\n",
       "       67, 66, 34])"
      ]
     },
     "execution_count": 49,
     "metadata": {},
     "output_type": "execute_result"
    }
   ],
   "source": [
    "# same ag negative indexing and slicing\n",
    "np.flip(a)"
   ]
  },
  {
   "cell_type": "code",
   "execution_count": 50,
   "id": "6396597d",
   "metadata": {},
   "outputs": [
    {
     "data": {
      "text/plain": [
       "array([18, 65, 10, 72, 37, 19, 58, 13, 32, 85, 51, 53, 55, 31, 46, 70, 56,\n",
       "       67, 66, 34])"
      ]
     },
     "execution_count": 50,
     "metadata": {},
     "output_type": "execute_result"
    }
   ],
   "source": [
    "a[::-1]"
   ]
  },
  {
   "cell_type": "code",
   "execution_count": 51,
   "id": "1304c7a8",
   "metadata": {},
   "outputs": [
    {
     "data": {
      "text/plain": [
       "array([[28, 41, 72, 28],\n",
       "       [41, 22, 10, 54],\n",
       "       [34, 94, 92, 82],\n",
       "       [10, 38, 82, 73],\n",
       "       [45, 69, 42, 68],\n",
       "       [45, 77, 85, 53]])"
      ]
     },
     "execution_count": 51,
     "metadata": {},
     "output_type": "execute_result"
    }
   ],
   "source": [
    "# 2D \n",
    "b"
   ]
  },
  {
   "cell_type": "code",
   "execution_count": 52,
   "id": "e7951628",
   "metadata": {},
   "outputs": [
    {
     "data": {
      "text/plain": [
       "array([[28, 72, 41, 28],\n",
       "       [54, 10, 22, 41],\n",
       "       [82, 92, 94, 34],\n",
       "       [73, 82, 38, 10],\n",
       "       [68, 42, 69, 45],\n",
       "       [53, 85, 77, 45]])"
      ]
     },
     "execution_count": 52,
     "metadata": {},
     "output_type": "execute_result"
    }
   ],
   "source": [
    "np.flip(b,axis=1)"
   ]
  },
  {
   "cell_type": "code",
   "execution_count": 53,
   "id": "36640325",
   "metadata": {},
   "outputs": [
    {
     "data": {
      "text/plain": [
       "array([[45, 77, 85, 53],\n",
       "       [45, 69, 42, 68],\n",
       "       [10, 38, 82, 73],\n",
       "       [34, 94, 92, 82],\n",
       "       [41, 22, 10, 54],\n",
       "       [28, 41, 72, 28]])"
      ]
     },
     "execution_count": 53,
     "metadata": {},
     "output_type": "execute_result"
    }
   ],
   "source": [
    "np.flip(b,axis=0)"
   ]
  },
  {
   "cell_type": "code",
   "execution_count": 54,
   "id": "b700b739",
   "metadata": {},
   "outputs": [
    {
     "data": {
      "text/plain": [
       "array([[28, 28, 41, 72],\n",
       "       [10, 22, 41, 54],\n",
       "       [34, 82, 92, 94],\n",
       "       [10, 38, 73, 82],\n",
       "       [42, 45, 68, 69],\n",
       "       [45, 53, 77, 85]])"
      ]
     },
     "execution_count": 54,
     "metadata": {},
     "output_type": "execute_result"
    }
   ],
   "source": [
    "np.sort(b,axis=1)"
   ]
  },
  {
   "cell_type": "markdown",
   "id": "66950023",
   "metadata": {},
   "source": [
    "### np.put\n",
    "\n",
    "The numpy.put() function replaces specific elements of an array with given values of p_array. Array indexed works on flattened array. \n",
    "\n",
    "https://numpy.org/doc/stable/reference/generated/numpy.put.html\n",
    "#### Structure: numpy.put(a, ind, v, mode='raise')"
   ]
  },
  {
   "cell_type": "code",
   "execution_count": 55,
   "id": "af0905e1",
   "metadata": {},
   "outputs": [
    {
     "data": {
      "text/plain": [
       "array([34, 66, 67, 56, 70, 46, 31, 55, 53, 51, 85, 32, 13, 58, 19, 37, 72,\n",
       "       10, 65, 18])"
      ]
     },
     "execution_count": 55,
     "metadata": {},
     "output_type": "execute_result"
    }
   ],
   "source": [
    "a"
   ]
  },
  {
   "cell_type": "code",
   "execution_count": 56,
   "id": "be840d78",
   "metadata": {},
   "outputs": [],
   "source": [
    "# what to replace 38 to 100\n",
    "np.put(a,6,100)"
   ]
  },
  {
   "cell_type": "code",
   "execution_count": 57,
   "id": "2103444c",
   "metadata": {},
   "outputs": [
    {
     "data": {
      "text/plain": [
       "array([ 34,  66,  67,  56,  70,  46, 100,  55,  53,  51,  85,  32,  13,\n",
       "        58,  19,  37,  72,  10,  65,  18])"
      ]
     },
     "execution_count": 57,
     "metadata": {},
     "output_type": "execute_result"
    }
   ],
   "source": [
    "a"
   ]
  },
  {
   "cell_type": "code",
   "execution_count": 58,
   "id": "f20bdc5f",
   "metadata": {},
   "outputs": [],
   "source": [
    "# multiple repacing\n",
    "np.put(a,[0,1],[110,530])"
   ]
  },
  {
   "cell_type": "code",
   "execution_count": 59,
   "id": "4744bea5",
   "metadata": {},
   "outputs": [
    {
     "data": {
      "text/plain": [
       "array([110, 530,  67,  56,  70,  46, 100,  55,  53,  51,  85,  32,  13,\n",
       "        58,  19,  37,  72,  10,  65,  18])"
      ]
     },
     "execution_count": 59,
     "metadata": {},
     "output_type": "execute_result"
    }
   ],
   "source": [
    "a"
   ]
  },
  {
   "cell_type": "markdown",
   "id": "9e29ccd2",
   "metadata": {},
   "source": [
    "### np.delete\n",
    "\n",
    "The numpy.delete() function returns a new array with the deletion of sub-arrays along with the mentioned axis. \n",
    "\n",
    "https://numpy.org/doc/stable/reference/generated/numpy.delete.html\n",
    "#### numpy.delete(arr, obj, axis=None)\n",
    "    Return a new array with sub-arrays along an axis deleted. For a one dimensional array, this returns those entries not returned by arr[obj]"
   ]
  },
  {
   "cell_type": "code",
   "execution_count": 60,
   "id": "dd567db5",
   "metadata": {},
   "outputs": [
    {
     "data": {
      "text/plain": [
       "array([530,  56,  46, 100,  55,  53,  51,  85,  32,  13,  58,  19,  37,\n",
       "        72,  10,  65,  18])"
      ]
     },
     "execution_count": 60,
     "metadata": {},
     "output_type": "execute_result"
    }
   ],
   "source": [
    "np.delete(a,[0,2,4])"
   ]
  },
  {
   "cell_type": "markdown",
   "id": "f781d0ff",
   "metadata": {},
   "source": [
    "### Set functions: but output will be array . must be sape will be same\n",
    "\n",
    "- np.union1d --- add 2 set\n",
    "- np.intersect1d --- intersect 2 set\n",
    "- np.setdiff1d -- \n",
    "- np.setxor1d\n",
    "- np.in1d"
   ]
  },
  {
   "cell_type": "markdown",
   "id": "55e90e73",
   "metadata": {},
   "source": [
    "#### numpy.union1d\n",
    "##### numpy.union1d(ar1, ar2)\n",
    "Find the union of two arrays.<br>\n",
    "Return the unique, sorted array of values that are in either of the two input arrays."
   ]
  },
  {
   "cell_type": "code",
   "execution_count": 61,
   "id": "2c8edaa3",
   "metadata": {},
   "outputs": [
    {
     "data": {
      "text/plain": [
       "array([1, 2, 3, 4, 5, 6, 7])"
      ]
     },
     "execution_count": 61,
     "metadata": {},
     "output_type": "execute_result"
    }
   ],
   "source": [
    "m = np.array([1,2,3,4,5])\n",
    "n = np.array([3,4,5,6,7])\n",
    "# common and uncommon all values\n",
    "np.union1d(m,n)"
   ]
  },
  {
   "cell_type": "code",
   "execution_count": 62,
   "id": "5904b004",
   "metadata": {},
   "outputs": [
    {
     "data": {
      "text/plain": [
       "array([3, 4, 5])"
      ]
     },
     "execution_count": 62,
     "metadata": {},
     "output_type": "execute_result"
    }
   ],
   "source": [
    "# only common values\n",
    "np.intersect1d(m,n)"
   ]
  },
  {
   "cell_type": "code",
   "execution_count": 63,
   "id": "84ce674a",
   "metadata": {},
   "outputs": [
    {
     "data": {
      "text/plain": [
       "array([1, 2])"
      ]
     },
     "execution_count": 63,
     "metadata": {},
     "output_type": "execute_result"
    }
   ],
   "source": [
    "# Find the set difference of two arrays.\n",
    "np.setdiff1d(m,n)"
   ]
  },
  {
   "cell_type": "code",
   "execution_count": 64,
   "id": "e8030a26",
   "metadata": {},
   "outputs": [
    {
     "data": {
      "text/plain": [
       "array([1, 2, 6, 7])"
      ]
     },
     "execution_count": 64,
     "metadata": {},
     "output_type": "execute_result"
    }
   ],
   "source": [
    "# Return the sorted, unique values that are in only one (not both) of the input arrays.\n",
    "np.setxor1d(m,n)"
   ]
  },
  {
   "cell_type": "code",
   "execution_count": 65,
   "id": "6debd7bb",
   "metadata": {},
   "outputs": [
    {
     "data": {
      "text/plain": [
       "array([False, False,  True,  True,  True])"
      ]
     },
     "execution_count": 65,
     "metadata": {},
     "output_type": "execute_result"
    }
   ],
   "source": [
    "# Returns a boolean array the same length as ar1 that is True where an element of ar1 is in ar2 and False otherwise\n",
    "np.in1d(m,n)"
   ]
  },
  {
   "cell_type": "markdown",
   "id": "f8e2bd69",
   "metadata": {},
   "source": [
    "### np.clip\n",
    "\n",
    "numpy.clip() function is used to Clip (limit) the values in an array.\n",
    "\n",
    "https://numpy.org/doc/stable/reference/generated/numpy.clip.html\n",
    "#### numpy.clip\n",
    "numpy.clip(a, a_min, a_max, out=None, **kwargs)<br>\n",
    "Clip (limit) the values in an array. <br>\n",
    "\n",
    "Given an interval, values outside the interval are clipped to the interval edges. For example, if an interval of [0, 1] is specified, values smaller than 0 become 0, and values larger than 1 become 1.<br>\n",
    "\n",
    "Equivalent to but faster than np.minimum(a_max, np.maximum(a, a_min)).\n",
    "\n",
    "No check is performed to ensure a_min < a_max."
   ]
  },
  {
   "cell_type": "code",
   "execution_count": 66,
   "id": "93ce4220",
   "metadata": {},
   "outputs": [
    {
     "data": {
      "text/plain": [
       "array([75, 75, 67, 56, 70, 46, 75, 55, 53, 51, 75, 32, 25, 58, 25, 37, 72,\n",
       "       25, 65, 25])"
      ]
     },
     "execution_count": 66,
     "metadata": {},
     "output_type": "execute_result"
    }
   ],
   "source": [
    "np.clip(a,a_min=25,a_max=75)"
   ]
  },
  {
   "cell_type": "markdown",
   "id": "c17a90e9",
   "metadata": {},
   "source": [
    "### numpy.swapaxes\n",
    "#### numpy.swapaxes(a, axis1, axis2)\n",
    "Interchange two axes of an array"
   ]
  },
  {
   "cell_type": "code",
   "execution_count": 67,
   "id": "529d7339",
   "metadata": {},
   "outputs": [
    {
     "data": {
      "text/plain": [
       "array([[28, 41, 72, 28],\n",
       "       [41, 22, 10, 54],\n",
       "       [34, 94, 92, 82],\n",
       "       [10, 38, 82, 73],\n",
       "       [45, 69, 42, 68],\n",
       "       [45, 77, 85, 53]])"
      ]
     },
     "execution_count": 67,
     "metadata": {},
     "output_type": "execute_result"
    }
   ],
   "source": [
    "# 2D array\n",
    "b"
   ]
  },
  {
   "cell_type": "code",
   "execution_count": 68,
   "id": "32091586",
   "metadata": {},
   "outputs": [
    {
     "data": {
      "text/plain": [
       "array([[28, 41, 34, 10, 45, 45],\n",
       "       [41, 22, 94, 38, 69, 77],\n",
       "       [72, 10, 92, 82, 42, 85],\n",
       "       [28, 54, 82, 73, 68, 53]])"
      ]
     },
     "execution_count": 68,
     "metadata": {},
     "output_type": "execute_result"
    }
   ],
   "source": [
    "np.swapaxes(b,0,1)"
   ]
  },
  {
   "cell_type": "code",
   "execution_count": null,
   "id": "c7e76c42",
   "metadata": {},
   "outputs": [],
   "source": []
  },
  {
   "cell_type": "code",
   "execution_count": null,
   "id": "fb35aed0",
   "metadata": {},
   "outputs": [],
   "source": []
  },
  {
   "cell_type": "code",
   "execution_count": null,
   "id": "7ca20df7",
   "metadata": {},
   "outputs": [],
   "source": []
  }
 ],
 "metadata": {
  "kernelspec": {
   "display_name": "Python 3 (ipykernel)",
   "language": "python",
   "name": "python3"
  },
  "language_info": {
   "codemirror_mode": {
    "name": "ipython",
    "version": 3
   },
   "file_extension": ".py",
   "mimetype": "text/x-python",
   "name": "python",
   "nbconvert_exporter": "python",
   "pygments_lexer": "ipython3",
   "version": "3.11.5"
  }
 },
 "nbformat": 4,
 "nbformat_minor": 5
}
